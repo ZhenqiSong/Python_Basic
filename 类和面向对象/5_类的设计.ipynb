{
 "nbformat": 4,
 "nbformat_minor": 2,
 "metadata": {
  "language_info": {
   "name": "python",
   "codemirror_mode": {
    "name": "ipython",
    "version": 3
   },
   "version": "3.7.4"
  },
  "orig_nbformat": 2,
  "file_extension": ".py",
  "mimetype": "text/x-python",
  "name": "python",
  "npconvert_exporter": "python",
  "pygments_lexer": "ipython3",
  "version": 3
 },
 "cells": [
  {
   "cell_type": "markdown",
   "execution_count": null,
   "metadata": {},
   "outputs": [],
   "source": [
    "# 类的设计\n",
    "\n",
    "## OOP和继承： `is-a`关系"
   ]
  },
  {
   "cell_type": "code",
   "execution_count": 17,
   "metadata": {},
   "outputs": [],
   "source": [
    "class Employee:\n",
    "    def __init__(self, name, salary=0):\n",
    "        self.name = name \n",
    "        self.salary = salary\n",
    "    \n",
    "    def giveRaise(self, percent):\n",
    "        self.salary = self.salary + (self.salary * percent)\n",
    "    \n",
    "    def work(self):\n",
    "        print(self.name, \"does stuff\")\n",
    "    \n",
    "    def __repr__(self):\n",
    "        return \"<Employee: name=%s, salary=%s>\" % (self.name, self.salary)"
   ]
  },
  {
   "cell_type": "code",
   "execution_count": 18,
   "metadata": {},
   "outputs": [],
   "source": [
    "class Chef(Employee):\n",
    "    def __init__(self, name):\n",
    "        Employee.__init__(self, name, 50000)\n",
    "    \n",
    "    def work(self):\n",
    "        print(self.name, \"interfaces with customer\")"
   ]
  },
  {
   "cell_type": "code",
   "execution_count": 28,
   "metadata": {},
   "outputs": [],
   "source": [
    "class Server(Employee):\n",
    "    def __init__(self, name):\n",
    "        Employee.__init__(self, name)\n",
    "\n",
    "    def work(self):\n",
    "        print(self.name, \"interfaces with customer\")"
   ]
  },
  {
   "cell_type": "code",
   "execution_count": 23,
   "metadata": {},
   "outputs": [],
   "source": [
    "class PizzaRobot(Chef):\n",
    "    def __init__(self, name):\n",
    "        Chef.__init__(self, name)\n",
    "    \n",
    "    def work(self):\n",
    "        print(self.name, \"make pizza\")"
   ]
  },
  {
   "cell_type": "code",
   "execution_count": 24,
   "metadata": {},
   "outputs": [
    {
     "name": "stdout",
     "output_type": "stream",
     "text": "<Employee: name=bob, salary=50000>\n"
    }
   ],
   "source": [
    "bob = PizzaRobot('bob') # bob是个机器人\n",
    "print(bob)"
   ]
  },
  {
   "cell_type": "code",
   "execution_count": 25,
   "metadata": {},
   "outputs": [
    {
     "name": "stdout",
     "output_type": "stream",
     "text": "bob make pizza\n<Employee: name=bob, salary=60000.0>\n\n"
    }
   ],
   "source": [
    "bob.work()\n",
    "bob.giveRaise(0.20) # 继承于Employee\n",
    "print(bob) \n",
    "print()"
   ]
  },
  {
   "cell_type": "code",
   "execution_count": 29,
   "metadata": {},
   "outputs": [
    {
     "name": "stdout",
     "output_type": "stream",
     "text": "Employee does stuff\nChef interfaces with customer\nServer interfaces with customer\nPizzaRobot make pizza\n"
    }
   ],
   "source": [
    "for klass in Employee, Chef, Server, PizzaRobot:\n",
    "    obj = klass(klass.__name__)\n",
    "    obj.work() # 多态跟对象有关"
   ]
  },
  {
   "cell_type": "markdown",
   "execution_count": null,
   "metadata": {},
   "outputs": [],
   "source": [
    "## OOP和组合： `has-a`关系\n",
    "\n",
    "组合设计把其他对象嵌入容器对象内，并促使其实现容器的方法。组成不是集合的成员关系，而是组件，也就是整体的组成部分。"
   ]
  },
  {
   "cell_type": "code",
   "execution_count": 34,
   "metadata": {},
   "outputs": [],
   "source": [
    "class Customer:\n",
    "    def __init__(self, name):\n",
    "        self.name = name\n",
    "    \n",
    "    def order(self, server):\n",
    "        print(self.name, \"order from\", server)\n",
    "    \n",
    "    def pay(self, server):\n",
    "        print(self.name, \"pays for item to\", server)\n"
   ]
  },
  {
   "cell_type": "code",
   "execution_count": 35,
   "metadata": {},
   "outputs": [],
   "source": [
    "class Oven:\n",
    "    def bake(self):\n",
    "        print(\"oven bakes\")"
   ]
  },
  {
   "cell_type": "code",
   "execution_count": 36,
   "metadata": {},
   "outputs": [],
   "source": [
    "class PizzaShop:\n",
    "    def __init__(self):\n",
    "        self.server = Server('pat')\n",
    "        self.chef = PizzaRobot('Bob')\n",
    "        self.oven = Oven()\n",
    "\n",
    "    def order(self, name):\n",
    "        customer = Customer(name)\n",
    "        customer.order(self.server)\n",
    "        self.chef.work()\n",
    "        self.oven.bake()\n",
    "        customer.pay(self.server)"
   ]
  },
  {
   "cell_type": "code",
   "execution_count": 37,
   "metadata": {},
   "outputs": [
    {
     "name": "stdout",
     "output_type": "stream",
     "text": "Homer order from <Employee: name=pat, salary=0>\nBob make pizza\noven bakes\nHomer pays for item to <Employee: name=pat, salary=0>\n...\nShaggy order from <Employee: name=pat, salary=0>\nBob make pizza\noven bakes\nShaggy pays for item to <Employee: name=pat, salary=0>\n"
    }
   ],
   "source": [
    "scene = PizzaShop()\n",
    "scene.order('Homer')\n",
    "print('...')\n",
    "scene.order('Shaggy')"
   ]
  },
  {
   "cell_type": "markdown",
   "execution_count": null,
   "metadata": {},
   "outputs": [],
   "source": [
    "PizzaShop类是容器和控制器；它的构造函数创建并嵌入上一节所编写的员工类，以及这里的Oven类的实例。\n",
    "\n",
    "每个订单都创建新的Customer对象，并且把内嵌的Server对象传递给Customer的方法，虽然顾客是流动的，但是服务员是比萨店的组件。"
   ]
  },
  {
   "cell_type": "markdown",
   "execution_count": null,
   "metadata": {},
   "outputs": [],
   "source": [
    "## OOP和委托： “包装器”代理对象\n",
    "\n",
    "委托通常是指控制器对象内嵌其他对象，并把操作请求传递给那些内嵌的对象。控制器能够负责管理类的活动。\n",
    "\n",
    "通常使用`__getattr__`方法狗子来实现委托，因为这个运算符会拦截对不存在属性的访问，所以包装类可以使用该方法把任意的访问转发给被包装的对象。"
   ]
  },
  {
   "cell_type": "code",
   "execution_count": 38,
   "metadata": {},
   "outputs": [],
   "source": [
    "class Wrapper:\n",
    "    def __init__(self, object):\n",
    "        self.wrapped = object \n",
    "    \n",
    "    def __getattr__(self, attrname):\n",
    "        print ('Trace: ' + attrname)\n",
    "        return getattr(self.wrapped, attrname) # 将操作委托给self.warpped本身的属性"
   ]
  },
  {
   "cell_type": "code",
   "execution_count": 39,
   "metadata": {},
   "outputs": [],
   "source": [
    "x = Wrapper([1, 2, 3])"
   ]
  },
  {
   "cell_type": "code",
   "execution_count": 42,
   "metadata": {},
   "outputs": [
    {
     "name": "stdout",
     "output_type": "stream",
     "text": "Trace: append\n"
    }
   ],
   "source": [
    "x.append(4)"
   ]
  },
  {
   "cell_type": "code",
   "execution_count": 41,
   "metadata": {},
   "outputs": [
    {
     "data": {
      "text/plain": "[1, 2, 3, 4]"
     },
     "execution_count": 41,
     "metadata": {},
     "output_type": "execute_result"
    }
   ],
   "source": [
    "x.wrapped"
   ]
  },
  {
   "cell_type": "markdown",
   "execution_count": null,
   "metadata": {},
   "outputs": [],
   "source": [
    "上例中Wrapper本身没有append方法，通过getattr将append委托给了self.wrapped，因为它是个列表"
   ]
  },
  {
   "cell_type": "markdown",
   "execution_count": null,
   "metadata": {},
   "outputs": [],
   "source": [
    "## 类的伪私有属性\n",
    "\n",
    "名称重整：在class语句内部，任意开头有双下划线而结尾没有的，会自动在前面包含外围类的名称从而进行扩展。如 `Spam`类的`__x`，会自动变成了`Spam__x`，这样就避免了子类中的变量名冲突。\n",
    "\n",
    "如果当子类有多个父类时，父类有同名的属性，这样就会冲突，冲突的属性会成为最后赋值的那个。使用伪私有可以解决这个问题"
   ]
  },
  {
   "cell_type": "code",
   "execution_count": 43,
   "metadata": {},
   "outputs": [],
   "source": [
    "class C1:\n",
    "    def meth1(self):\n",
    "        self.__x = 88\n",
    "    def meth2(self):\n",
    "        print(self.__x)"
   ]
  },
  {
   "cell_type": "code",
   "execution_count": 44,
   "metadata": {},
   "outputs": [],
   "source": [
    "class C2:\n",
    "    def metha(self):\n",
    "        self.__x = 99\n",
    "    def methb(self):\n",
    "        print(self.__x)"
   ]
  },
  {
   "cell_type": "code",
   "execution_count": 45,
   "metadata": {},
   "outputs": [],
   "source": [
    "class C3(C1, C2):\n",
    "    pass "
   ]
  },
  {
   "cell_type": "code",
   "execution_count": 48,
   "metadata": {},
   "outputs": [],
   "source": [
    "I = C3()"
   ]
  },
  {
   "cell_type": "code",
   "execution_count": 53,
   "metadata": {},
   "outputs": [
    {
     "name": "stdout",
     "output_type": "stream",
     "text": "88\n99\n"
    }
   ],
   "source": [
    "I.meth1()\n",
    "I.meth2()\n",
    "I.metha()\n",
    "I.methb()"
   ]
  },
  {
   "cell_type": "code",
   "execution_count": 55,
   "metadata": {},
   "outputs": [
    {
     "data": {
      "text/plain": "{'_C1__x': 88, '_C2__x': 99}"
     },
     "execution_count": 55,
     "metadata": {},
     "output_type": "execute_result"
    }
   ],
   "source": [
    "I.__dict__"
   ]
  },
  {
   "cell_type": "markdown",
   "execution_count": null,
   "metadata": {},
   "outputs": [],
   "source": [
    "## 方法是对象：绑定或未绑定\n",
    "\n",
    "- 未绑定方法对象：无self， 类进行点号运算获取类的函数属性，回传会未绑定的方法对象。需要显式的传入实例对象\n",
    "- 绑定方法对象： self+函数， 通过对实例进行点号运算从而获取类的函数属性，会传回绑定方法对象。"
   ]
  },
  {
   "cell_type": "code",
   "execution_count": 56,
   "metadata": {},
   "outputs": [],
   "source": [
    "class Spam:\n",
    "    def doit(self, message):\n",
    "        print(message)"
   ]
  },
  {
   "cell_type": "code",
   "execution_count": 58,
   "metadata": {},
   "outputs": [
    {
     "name": "stdout",
     "output_type": "stream",
     "text": "hello, world\n"
    }
   ],
   "source": [
    "object1 = Spam()\n",
    "x = object1.doit\n",
    "x('hello, world') # 这是一个绑定方法对象，通过实例引用的函数，不需要显式的传入实例对象"
   ]
  },
  {
   "cell_type": "code",
   "execution_count": 59,
   "metadata": {},
   "outputs": [
    {
     "name": "stdout",
     "output_type": "stream",
     "text": "hello world\n"
    }
   ],
   "source": [
    "y = Spam.doit\n",
    "y(object1, 'hello world') # 未绑定的方法对象，通过类直接引用的函数，需要显式传入实例对象才行"
   ]
  },
  {
   "cell_type": "code",
   "execution_count": 60,
   "metadata": {},
   "outputs": [
    {
     "ename": "AttributeError",
     "evalue": "'Spam' object has no attribute 'y'",
     "output_type": "error",
     "traceback": [
      "\u001b[1;31m---------------------------------------------------------------------------\u001b[0m",
      "\u001b[1;31mAttributeError\u001b[0m                            Traceback (most recent call last)",
      "\u001b[1;32m<ipython-input-60-5b0ffef8c25e>\u001b[0m in \u001b[0;36m<module>\u001b[1;34m\u001b[0m\n\u001b[1;32m----> 1\u001b[1;33m \u001b[0mobject1\u001b[0m\u001b[1;33m.\u001b[0m\u001b[0my\u001b[0m\u001b[1;33m(\u001b[0m\u001b[1;34m'hello world'\u001b[0m\u001b[1;33m)\u001b[0m\u001b[1;33m\u001b[0m\u001b[1;33m\u001b[0m\u001b[0m\n\u001b[0m",
      "\u001b[1;31mAttributeError\u001b[0m: 'Spam' object has no attribute 'y'"
     ]
    }
   ],
   "source": []
  },
  {
   "cell_type": "markdown",
   "execution_count": null,
   "metadata": {},
   "outputs": [],
   "source": [
    "绑定方法可以像简单函数一样作为一般对象处理，它们可以在一个程序的各处传递。"
   ]
  },
  {
   "cell_type": "code",
   "execution_count": 62,
   "metadata": {},
   "outputs": [],
   "source": [
    "class Number:\n",
    "    def __init__(self, base):\n",
    "        self.base = base\n",
    "    \n",
    "    def double(self):\n",
    "        return self.base * 2\n",
    "    \n",
    "    def triple(self):\n",
    "        return self.base * 3"
   ]
  },
  {
   "cell_type": "code",
   "execution_count": 63,
   "metadata": {},
   "outputs": [],
   "source": [
    "x = Number(2)\n",
    "y = Number(3)\n",
    "z = Number(4)"
   ]
  },
  {
   "cell_type": "code",
   "execution_count": 64,
   "metadata": {},
   "outputs": [
    {
     "data": {
      "text/plain": "4"
     },
     "execution_count": 64,
     "metadata": {},
     "output_type": "execute_result"
    }
   ],
   "source": [
    "x.double()"
   ]
  },
  {
   "cell_type": "code",
   "execution_count": 65,
   "metadata": {},
   "outputs": [
    {
     "name": "stdout",
     "output_type": "stream",
     "text": "4\n6\n9\n8\n"
    }
   ],
   "source": [
    "acts = [x.double, y.double, y.triple, z.double]\n",
    "for act in acts:\n",
    "    print(act())"
   ]
  },
  {
   "cell_type": "code",
   "execution_count": 67,
   "metadata": {},
   "outputs": [
    {
     "data": {
      "text/plain": "2"
     },
     "execution_count": 67,
     "metadata": {},
     "output_type": "execute_result"
    }
   ],
   "source": [
    "bound = x.double # 绑定方法对象可以访问其配对实例对象的方法和属性\n",
    "bound.__self__.base "
   ]
  },
  {
   "cell_type": "markdown",
   "execution_count": null,
   "metadata": {},
   "outputs": [],
   "source": [
    "## 类是对象：一般对象的工厂\n",
    "\n",
    "有时基于类的设计需要创建对象，以应对程序编写时不能够预测的情况。工厂设计模式允许这样的延迟设计。"
   ]
  },
  {
   "cell_type": "code",
   "execution_count": 68,
   "metadata": {},
   "outputs": [],
   "source": [
    "def factory(aClass, *pargs, **kargs):\n",
    "    return aClass(*pargs, **kargs)"
   ]
  },
  {
   "cell_type": "code",
   "execution_count": 69,
   "metadata": {},
   "outputs": [],
   "source": [
    "class Spam:\n",
    "    def doit(self, message):\n",
    "        print(message)"
   ]
  },
  {
   "cell_type": "code",
   "execution_count": 70,
   "metadata": {},
   "outputs": [],
   "source": [
    "class Person:\n",
    "    def __init__(self, name, job=None):\n",
    "        self.name = name \n",
    "        self.job = job "
   ]
  },
  {
   "cell_type": "code",
   "execution_count": 72,
   "metadata": {},
   "outputs": [
    {
     "name": "stdout",
     "output_type": "stream",
     "text": "99\n"
    }
   ],
   "source": [
    "object1 = factory(Spam)\n",
    "object1.doit(99)"
   ]
  },
  {
   "cell_type": "code",
   "execution_count": 73,
   "metadata": {},
   "outputs": [
    {
     "data": {
      "text/plain": "'szq'"
     },
     "execution_count": 73,
     "metadata": {},
     "output_type": "execute_result"
    }
   ],
   "source": [
    "object2 = factory(Person, \"szq\", \"king\")\n",
    "object2.name "
   ]
  },
  {
   "cell_type": "markdown",
   "execution_count": null,
   "metadata": {},
   "outputs": [],
   "source": [
    "上例中定义了一个`factory`的对象生成器函数，需要向它传递一个类对象，以及供此类的构造函数使用的一个或多个参数。返回一个类对象的实例"
   ]
  },
  {
   "cell_type": "markdown",
   "execution_count": null,
   "metadata": {},
   "outputs": [],
   "source": [
    "## 多继承：`mix-in`类\n",
    "\n",
    "多继承擅长为属于多个集合的对象建模，例如一个人既可以是学生，又可以是程序员。。。当时这面临一个问题，就是相同的方法名称在不止一个父类中定义时，会造成冲突。当冲突发生时，冲突要么通过继承搜索顺序自动解决，要么在代码中手动解决。\n",
    "- 默认情况下，当一个属性被正常引用时，继承选择首次找到的属性。经典类时最低和最左边的。新式类在向上搜索前选择最右边的\n",
    "- 显式的，通过类名引用它来实现"
   ]
  },
  {
   "cell_type": "code",
   "execution_count": 79,
   "metadata": {},
   "outputs": [],
   "source": [
    "class ListInstance:\n",
    "    def __attrnames(self):\n",
    "        result = ''\n",
    "        for attr in sorted(self.__dict__):\n",
    "            result += \"\\t%s=%s\\n\" % (attr, self.__dict__[attr])\n",
    "        return result \n",
    "    \n",
    "    def __str__(self):\n",
    "        return '<Instance of %s, address %s:\\n%s>' %(self.__class__.__name__, id(self), self.__attrnames())"
   ]
  },
  {
   "cell_type": "code",
   "execution_count": 80,
   "metadata": {},
   "outputs": [],
   "source": [
    "class Spam(ListInstance):\n",
    "    def __init__(self):\n",
    "        self.data1 = 'food'"
   ]
  },
  {
   "cell_type": "code",
   "execution_count": 81,
   "metadata": {},
   "outputs": [
    {
     "name": "stdout",
     "output_type": "stream",
     "text": "<Instance of Spam, address 2037437219016:\n\tdata1=food\n>\n"
    }
   ],
   "source": [
    "x = Spam()\n",
    "print(x)"
   ]
  },
  {
   "cell_type": "markdown",
   "execution_count": null,
   "metadata": {},
   "outputs": [],
   "source": [
    "由于ListInstance定义了一个`__str__`方法运算符重载方法，因此派生自这个类的实例在打印的时候自动显示自身属性，以及比简单地址多一些信息。对于任何类都很有用，即使类已经拥有一个或多个父类"
   ]
  },
  {
   "cell_type": "code",
   "execution_count": 82,
   "metadata": {},
   "outputs": [],
   "source": [
    "class Super:\n",
    "    def __init__(self):\n",
    "        self.data1 = 'spam'\n",
    "    def ham(self):\n",
    "        pass "
   ]
  },
  {
   "cell_type": "code",
   "execution_count": 83,
   "metadata": {},
   "outputs": [],
   "source": [
    "class Sub(Super, ListInstance):\n",
    "    def __init__(self):\n",
    "        Super.__init__(self)\n",
    "        self.data2 = 'eggs'\n",
    "        self.data3 = 42\n",
    "    \n",
    "    def spam(self):\n",
    "        pass "
   ]
  },
  {
   "cell_type": "code",
   "execution_count": 85,
   "metadata": {},
   "outputs": [
    {
     "name": "stdout",
     "output_type": "stream",
     "text": "<Instance of Sub, address 2037438792136:\n\tdata1=spam\n\tdata2=eggs\n\tdata3=42\n>\n"
    }
   ],
   "source": [
    "X =Sub()\n",
    "print(X)"
   ]
  },
  {
   "cell_type": "code",
   "execution_count": 89,
   "metadata": {},
   "outputs": [],
   "source": [
    "class ListInherited:\n",
    "    def __attrnames(self):\n",
    "        result = ''\n",
    "        for attr in dir(self):\n",
    "            if attr[:2] == '__' and attr[-2:] == '__':\n",
    "                result += '\\t%s\\n' % attr \n",
    "            else:\n",
    "                result += '\\t%s=%s\\n' %(attr, getattr(self, attr))\n",
    "        return result \n",
    "    \n",
    "    def __str__(self):\n",
    "        return '<Instance of %s, address %s:\\n%s>' %(self.__class__.__name__, id(self), self.__attrnames())"
   ]
  },
  {
   "cell_type": "markdown",
   "execution_count": null,
   "metadata": {},
   "outputs": [],
   "source": [
    "前面定义的类只能显示实例属性，而不能显示继承的属性。修改后，使用dir和gettatr可以获取继承的属性"
   ]
  },
  {
   "cell_type": "code",
   "execution_count": 90,
   "metadata": {},
   "outputs": [],
   "source": [
    "class Sub(Super, ListInherited):\n",
    "    def __init__(self):\n",
    "        Super.__init__(self)\n",
    "        self.data2 = 'eggs'\n",
    "        self.data3 = 42\n",
    "    \n",
    "    def spam(self):\n",
    "        pass "
   ]
  },
  {
   "cell_type": "code",
   "execution_count": 91,
   "metadata": {},
   "outputs": [
    {
     "name": "stdout",
     "output_type": "stream",
     "text": "<Instance of Sub, address 2037445694472:\n\t_ListInherited__attrnames=<bound method ListInherited.__attrnames of <__main__.Sub object at 0x000001DA613A1408>>\n\t__class__\n\t__delattr__\n\t__dict__\n\t__dir__\n\t__doc__\n\t__eq__\n\t__format__\n\t__ge__\n\t__getattribute__\n\t__gt__\n\t__hash__\n\t__init__\n\t__init_subclass__\n\t__le__\n\t__lt__\n\t__module__\n\t__ne__\n\t__new__\n\t__reduce__\n\t__reduce_ex__\n\t__repr__\n\t__setattr__\n\t__sizeof__\n\t__str__\n\t__subclasshook__\n\t__weakref__\n\tdata1=spam\n\tdata2=eggs\n\tdata3=42\n\tham=<bound method Super.ham of <__main__.Sub object at 0x000001DA613A1408>>\n\tspam=<bound method Sub.spam of <__main__.Sub object at 0x000001DA613A1408>>\n>\n"
    }
   ],
   "source": [
    "X =Sub()\n",
    "print(X)"
   ]
  },
  {
   "cell_type": "code",
   "execution_count": null,
   "metadata": {},
   "outputs": [],
   "source": []
  }
 ]
}