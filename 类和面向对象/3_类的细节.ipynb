{
 "nbformat": 4,
 "nbformat_minor": 2,
 "metadata": {
  "language_info": {
   "name": "python",
   "codemirror_mode": {
    "name": "ipython",
    "version": 3
   },
   "version": "3.7.4"
  },
  "orig_nbformat": 2,
  "file_extension": ".py",
  "mimetype": "text/x-python",
  "name": "python",
  "npconvert_exporter": "python",
  "pygments_lexer": "ipython3",
  "version": 3
 },
 "cells": [
  {
   "cell_type": "markdown",
   "execution_count": null,
   "metadata": {},
   "outputs": [],
   "source": [
    "# 类代码编写细节\n",
    "\n",
    "## class 语句\n",
    "\n",
    "在python中class是复合语句，class语句有效的定义了命名空间。位于class语句主体中的语句会建立其属性。当python执行class语句时，会从头到尾执行其主题内的所有语句。\n",
    "\n",
    "当class语句本身运行时，class语句内的所有语句都会执行。通常class语句内的赋值语句会创建数据属性，而内嵌的def则会创建方法属性。在一个class语句顶层的任何类型的名称赋值都会在生成的类对象中创建同名的属性。"
   ]
  },
  {
   "cell_type": "code",
   "execution_count": 1,
   "metadata": {},
   "outputs": [],
   "source": [
    "class ShareData:\n",
    "    spam = 42 # 这是一个类共享属性"
   ]
  },
  {
   "cell_type": "code",
   "execution_count": 2,
   "metadata": {},
   "outputs": [
    {
     "data": {
      "text/plain": "(42, 42)"
     },
     "execution_count": 2,
     "metadata": {},
     "output_type": "execute_result"
    }
   ],
   "source": [
    "x = ShareData()\n",
    "y = ShareData()\n",
    "x.spam, y.spam"
   ]
  },
  {
   "cell_type": "markdown",
   "execution_count": null,
   "metadata": {},
   "outputs": [],
   "source": [
    "对于类的顶层共享属性，可以通过类名直接修改"
   ]
  },
  {
   "cell_type": "code",
   "execution_count": 3,
   "metadata": {},
   "outputs": [
    {
     "data": {
      "text/plain": "(99, 99)"
     },
     "execution_count": 3,
     "metadata": {},
     "output_type": "execute_result"
    }
   ],
   "source": [
    "ShareData.spam = 99\n",
    "x.spam, y.spam"
   ]
  },
  {
   "cell_type": "markdown",
   "execution_count": null,
   "metadata": {},
   "outputs": [],
   "source": [
    "如果通过实例修改则仅修改的是该实例内创建的，而不会共享的"
   ]
  },
  {
   "cell_type": "code",
   "execution_count": 5,
   "metadata": {},
   "outputs": [
    {
     "data": {
      "text/plain": "(50, 99, 99)"
     },
     "execution_count": 5,
     "metadata": {},
     "output_type": "execute_result"
    }
   ],
   "source": [
    "x.spam = 50\n",
    "x.spam, y.spam, ShareData.spam"
   ]
  },
  {
   "cell_type": "code",
   "execution_count": 6,
   "metadata": {},
   "outputs": [],
   "source": [
    "class MixdNames:\n",
    "    data = 'spam'\n",
    "    def __init__(self, value):\n",
    "        self.data = value \n",
    "    \n",
    "    def display(self):\n",
    "        print(self.data, MixdNames.data)"
   ]
  },
  {
   "cell_type": "code",
   "execution_count": 7,
   "metadata": {},
   "outputs": [
    {
     "name": "stdout",
     "output_type": "stream",
     "text": "1 spam\n"
    }
   ],
   "source": [
    "x = MixdNames(1)\n",
    "x.display()"
   ]
  },
  {
   "cell_type": "code",
   "execution_count": 8,
   "metadata": {},
   "outputs": [
    {
     "data": {
      "text/plain": "(1, 'spam')"
     },
     "execution_count": 8,
     "metadata": {},
     "output_type": "execute_result"
    }
   ],
   "source": [
    "x.data, MixdNames.data "
   ]
  },
  {
   "cell_type": "markdown",
   "execution_count": null,
   "metadata": {},
   "outputs": [],
   "source": [
    "当附加在类上时，名称是共享的，如果附加在实例上，则名称属于每个实例。"
   ]
  },
  {
   "cell_type": "markdown",
   "execution_count": null,
   "metadata": {},
   "outputs": [],
   "source": [
    "## 方法\n",
    "\n",
    "方法是位于class语句的主体内，由def语句创建的函数对象。方法的第一个参数总是接受方法调用的隐含主体，即当前的实例对象。"
   ]
  },
  {
   "cell_type": "code",
   "execution_count": 9,
   "metadata": {},
   "outputs": [],
   "source": [
    "class NextClass:\n",
    "    def printer(self, text):\n",
    "        self.message = text \n",
    "        print(self.message)"
   ]
  },
  {
   "cell_type": "code",
   "execution_count": 10,
   "metadata": {},
   "outputs": [
    {
     "name": "stdout",
     "output_type": "stream",
     "text": "hello word\n"
    }
   ],
   "source": [
    "x = NextClass()\n",
    "x.printer('hello word')"
   ]
  },
  {
   "cell_type": "code",
   "execution_count": 12,
   "metadata": {},
   "outputs": [
    {
     "name": "stdout",
     "output_type": "stream",
     "text": "hello python\n"
    },
    {
     "data": {
      "text/plain": "'hello python'"
     },
     "execution_count": 12,
     "metadata": {},
     "output_type": "execute_result"
    }
   ],
   "source": [
    "NextClass.printer(x, \"hello python\") # 等价方式，第一参数为调用的实例\n",
    "x.message"
   ]
  },
  {
   "cell_type": "markdown",
   "execution_count": null,
   "metadata": {},
   "outputs": [],
   "source": [
    "## 继承\n",
    "\n",
    "class 语句创建的命名空间的重点就是支持名称继承。在python中当对对象进行点号运算时就会触发继承，而且涉及到了搜索属性定义树。\n",
    "- 实例属性是由对方法内的self属性进行赋值运算而产生的\n",
    "- 类属性是通过class语句内的语句而创建的\n",
    "- 父类的连接时通过class语句首行的括号内列出的类而产生的"
   ]
  },
  {
   "cell_type": "code",
   "execution_count": 13,
   "metadata": {},
   "outputs": [],
   "source": [
    "class Super:\n",
    "    def method(self):\n",
    "        print('in Super.method')"
   ]
  },
  {
   "cell_type": "code",
   "execution_count": 14,
   "metadata": {},
   "outputs": [],
   "source": [
    "class Sub(Super):\n",
    "    def method(self):\n",
    "        print('starting Sub.method')\n",
    "        Super.method(self)\n",
    "        print('ending Sub.method')"
   ]
  },
  {
   "cell_type": "code",
   "execution_count": 15,
   "metadata": {},
   "outputs": [
    {
     "name": "stdout",
     "output_type": "stream",
     "text": "in Super.method\n"
    }
   ],
   "source": [
    "x = Super()\n",
    "x.method()"
   ]
  },
  {
   "cell_type": "code",
   "execution_count": 17,
   "metadata": {},
   "outputs": [
    {
     "name": "stdout",
     "output_type": "stream",
     "text": "starting Sub.method\nin Super.method\nending Sub.method\n"
    }
   ],
   "source": [
    "x = Sub()\n",
    "x.method()"
   ]
  },
  {
   "cell_type": "markdown",
   "execution_count": 18,
   "metadata": {},
   "outputs": [
    {
     "ename": "SyntaxError",
     "evalue": "invalid syntax (<ipython-input-18-10dae8c1e81c>, line 1)",
     "output_type": "error",
     "traceback": [
      "\u001b[1;36m  File \u001b[1;32m\"<ipython-input-18-10dae8c1e81c>\"\u001b[1;36m, line \u001b[1;32m1\u001b[0m\n\u001b[1;33m    [实例](./03/specialize.py)\u001b[0m\n\u001b[1;37m         ^\u001b[0m\n\u001b[1;31mSyntaxError\u001b[0m\u001b[1;31m:\u001b[0m invalid syntax\n"
     ]
    }
   ],
   "source": [
    "[实例](./03/specialize.py)"
   ]
  },
  {
   "cell_type": "markdown",
   "execution_count": null,
   "metadata": {},
   "outputs": [],
   "source": [
    "在例子中父类被称为抽象父类，也就时类的部分行为预期由其子类来提供。如果所预期的方法没有在子类中定义，那么当继承搜索失败时python就会引发名称未定义的异常。"
   ]
  },
  {
   "cell_type": "markdown",
   "execution_count": null,
   "metadata": {},
   "outputs": [],
   "source": [
    "## 命名空间：结论\n",
    "\n",
    "- 无点号运算的名称对应于作用域\n",
    "- 带点号的属性名使用的是对象的命名空间\n",
    "- 有些作用域用于初始化对象的命名空间\n"
   ]
  }
 ]
}