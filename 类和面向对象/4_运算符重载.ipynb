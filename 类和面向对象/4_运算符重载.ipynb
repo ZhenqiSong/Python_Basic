{
 "nbformat": 4,
 "nbformat_minor": 2,
 "metadata": {
  "language_info": {
   "name": "python",
   "codemirror_mode": {
    "name": "ipython",
    "version": 3
   },
   "version": "3.7.4"
  },
  "orig_nbformat": 2,
  "file_extension": ".py",
  "mimetype": "text/x-python",
  "name": "python",
  "npconvert_exporter": "python",
  "pygments_lexer": "ipython3",
  "version": 3
 },
 "cells": [
  {
   "cell_type": "markdown",
   "execution_count": null,
   "metadata": {},
   "outputs": [],
   "source": [
    "# 运算符重载\n",
    "\n",
    "## 基础知识\n",
    "\n",
    "- 运算符重载让类拦截常规的python操作\n",
    "- 类可重载所有python表达式运算符\n",
    "- 类也可重载打印、函数调用、属性访问等内置运算\n",
    "- 重载使类实例的行为更接近内置类型\n",
    "- 重载是通过在一个类中提供特殊名称的方法来实现的\n",
    "\n",
    "类提供了特殊名称的方法，当这个类的实例在对应的表达式中出现时，python会自动调用它们。\n",
    "\n",
    "## 常用重载运算符\n",
    "\n",
    "| 方法名 | 实现功能 | 触发调用的形式 |\n",
    "| --- | --- | --- |\n",
    "| `__init__` | 构造函数 | 对象创建 | \n",
    "| `__del__` | 析构函数 | x对象回收 | \n",
    "| `__add__` | \"+\"运算符 | X+Y，`__iadd__`是+= |\n",
    "| `__or__` | \"\\|\"运算符 | `__ior__`是\\|= | \n",
    "| `__repr__` `__str__` | 打印，转换 | print(x) |\n",
    "| `__call__` | 函数调用 | X() | \n",
    "| `__getattr__` | 属性访问 | x.undefine | \n",
    "| `__setattr__` | 属性赋值 | x.any = value |\n",
    "| `__delattr__` | 属性删除 | del X.any |\n",
    "| `__getattribute__` | 属性访问 | X.any |\n",
    "| `__getitem__` | 索引，分片  | |\n",
    "| `__setitem__` | 索引赋值和分片赋值 | x\\[key\\] = value |\n",
    "| `__delitem__` | 索引删除和分片删除 | del x\\[key\\] |\n",
    "| `__len__` | 长度 | len(X) |\n",
    "| `__bool__` | 布尔测试 | bool(X) | \n",
    "| `__lt__` `__gt__` `__le__` `__ge__` `__eq__` `__ne__` | 比较 | |\n",
    "| `__radd__` | 右侧+ | other+X |\n",
    "| `__iadd__` | += | | \n",
    "| `__iter__`, `__next__` | 迭代上下文 | |\n",
    "| `__contains__` | 成员关系测试 | item in X |\n",
    "| `__index__` | 整数值转换 | | \n",
    "| `__enter__` `__exit__` | 上下文管理器 | | \n",
    "| `__get__` `__set__` `__delete__`| 描述符属性 | |\n",
    "| `__new__` | 创建 | `__init__` 之前的对象创建 |  "
   ]
  },
  {
   "cell_type": "markdown",
   "execution_count": null,
   "metadata": {},
   "outputs": [],
   "source": [
    "## 索引和切片"
   ]
  },
  {
   "cell_type": "code",
   "execution_count": 3,
   "metadata": {},
   "outputs": [],
   "source": [
    "class Indexer:\n",
    "    def __init__(self):\n",
    "        self.x = {}\n",
    "\n",
    "    def __getitem__(self, key):\n",
    "        return self.x[key]\n",
    "\n",
    "    def __setitem__(self, key, value):\n",
    "        self.x[key] = value"
   ]
  },
  {
   "cell_type": "code",
   "execution_count": 4,
   "metadata": {},
   "outputs": [],
   "source": [
    "X = Indexer()\n",
    "X['la'] = 33"
   ]
  },
  {
   "cell_type": "code",
   "execution_count": 6,
   "metadata": {},
   "outputs": [
    {
     "data": {
      "text/plain": "33"
     },
     "execution_count": 6,
     "metadata": {},
     "output_type": "execute_result"
    }
   ],
   "source": [
    "X['la']"
   ]
  },
  {
   "cell_type": "markdown",
   "execution_count": null,
   "metadata": {},
   "outputs": [],
   "source": [
    "该方法用于分片时，技能对基础索引调用，有能被分片调用"
   ]
  },
  {
   "cell_type": "code",
   "execution_count": 8,
   "metadata": {},
   "outputs": [],
   "source": [
    "class Indexer:\n",
    "    data = [5, 6, 7, 8, 9]\n",
    "    def __getitem__(self, index):\n",
    "        print('getitem:', index)\n",
    "        return self.data[index]"
   ]
  },
  {
   "cell_type": "code",
   "execution_count": 9,
   "metadata": {},
   "outputs": [
    {
     "name": "stdout",
     "output_type": "stream",
     "text": "getitem: 0\n"
    },
    {
     "data": {
      "text/plain": "5"
     },
     "execution_count": 9,
     "metadata": {},
     "output_type": "execute_result"
    }
   ],
   "source": [
    "X = Indexer()\n",
    "X[0]"
   ]
  },
  {
   "cell_type": "code",
   "execution_count": 10,
   "metadata": {},
   "outputs": [
    {
     "name": "stdout",
     "output_type": "stream",
     "text": "getitem: slice(2, 4, None)\n"
    },
    {
     "data": {
      "text/plain": "[7, 8]"
     },
     "execution_count": 10,
     "metadata": {},
     "output_type": "execute_result"
    }
   ],
   "source": [
    "X[2:4]"
   ]
  },
  {
   "cell_type": "markdown",
   "execution_count": null,
   "metadata": {},
   "outputs": [],
   "source": [
    "## \\_\\_index\\_\\_"
   ]
  },
  {
   "cell_type": "code",
   "execution_count": 11,
   "metadata": {},
   "outputs": [],
   "source": [
    "class C:\n",
    "    def __index__(self):\n",
    "        return 255"
   ]
  },
  {
   "cell_type": "code",
   "execution_count": 12,
   "metadata": {},
   "outputs": [
    {
     "data": {
      "text/plain": "'0xff'"
     },
     "execution_count": 12,
     "metadata": {},
     "output_type": "execute_result"
    }
   ],
   "source": [
    "X = C()\n",
    "hex(X) # __index__供内置的数字转换函数使用"
   ]
  },
  {
   "cell_type": "markdown",
   "execution_count": 13,
   "metadata": {},
   "outputs": [
    {
     "name": "stdout",
     "output_type": "stream",
     "text": "<__main__.C object at 0x000002013EFC03C8>\n"
    }
   ],
   "source": [
    "## 索引迭代 \\_\\_getitem\\_\\_"
   ]
  },
  {
   "cell_type": "code",
   "execution_count": 21,
   "metadata": {},
   "outputs": [],
   "source": [
    " class StepperIndex:\n",
    "     def __getitem__(self, i):\n",
    "         return self.data[i]"
   ]
  },
  {
   "cell_type": "code",
   "execution_count": 22,
   "metadata": {},
   "outputs": [
    {
     "data": {
      "text/plain": "'p'"
     },
     "execution_count": 22,
     "metadata": {},
     "output_type": "execute_result"
    }
   ],
   "source": [
    "X = StepperIndex()\n",
    "X.data = 'spam'\n",
    "X[1]"
   ]
  },
  {
   "cell_type": "code",
   "execution_count": 23,
   "metadata": {},
   "outputs": [
    {
     "name": "stdout",
     "output_type": "stream",
     "text": "s p a m"
    }
   ],
   "source": [
    "for item in X:\n",
    "    print(item, end=' ')"
   ]
  },
  {
   "cell_type": "markdown",
   "execution_count": null,
   "metadata": {},
   "outputs": [],
   "source": [
    "此外，成员关系测试in,列表推导，内置函数map，列表和元组赋值运算以及类型构造方法也都会自动调用`__getitem__`"
   ]
  },
  {
   "cell_type": "markdown",
   "execution_count": null,
   "metadata": {},
   "outputs": [],
   "source": [
    "## 可迭代对象 `__iter__` `__next__`"
   ]
  },
  {
   "cell_type": "code",
   "execution_count": 24,
   "metadata": {},
   "outputs": [],
   "source": [
    "class Squares:\n",
    "    def __init__(self, start, stop):\n",
    "        self.value = start - 1\n",
    "        self.stop = stop \n",
    "    \n",
    "    def __iter__(self):\n",
    "        return self \n",
    "        \n",
    "    def __next__(self):\n",
    "        if self.value == self.stop:\n",
    "            raise StopIteration\n",
    "        self.value += 1\n",
    "        return self.value ** 2"
   ]
  },
  {
   "cell_type": "code",
   "execution_count": 25,
   "metadata": {},
   "outputs": [
    {
     "name": "stdout",
     "output_type": "stream",
     "text": "1 4 9 16 25"
    }
   ],
   "source": [
    "for i in Squares(1, 5):\n",
    "    print(i, end=' ')"
   ]
  },
  {
   "cell_type": "code",
   "execution_count": 26,
   "metadata": {},
   "outputs": [
    {
     "data": {
      "text/plain": "1"
     },
     "execution_count": 26,
     "metadata": {},
     "output_type": "execute_result"
    }
   ],
   "source": [
    "X = Squares(1, 5)\n",
    "I = iter(X)\n",
    "next(I)"
   ]
  },
  {
   "cell_type": "markdown",
   "execution_count": null,
   "metadata": {},
   "outputs": [],
   "source": [
    "### 单个对象上的可迭代对象\n",
    "\n"
   ]
  },
  {
   "cell_type": "code",
   "execution_count": 30,
   "metadata": {},
   "outputs": [],
   "source": [
    "class SkipObject:\n",
    "    def __init__(self, wrapped):\n",
    "        self.wrapped = wrapped\n",
    "    \n",
    "    def __iter__(self):\n",
    "        # 每次调用迭代器都是返回一个新的待next方法的对象\n",
    "        return SkipIterator(self.wrapped)"
   ]
  },
  {
   "cell_type": "code",
   "execution_count": 31,
   "metadata": {},
   "outputs": [],
   "source": [
    "class SkipIterator:\n",
    "    def __init__(self, wrapped):\n",
    "        self.wrapped = wrapped\n",
    "        self.offset = 0\n",
    "    \n",
    "    def __next__(self):\n",
    "        if self.offset >= len(self.wrapped):\n",
    "            raise StopIteration\n",
    "        else:\n",
    "            item = self.wrapped[self.offset]\n",
    "            self.offset += 2\n",
    "            return item "
   ]
  },
  {
   "cell_type": "code",
   "execution_count": 32,
   "metadata": {},
   "outputs": [],
   "source": [
    "alpha = 'abcdef'"
   ]
  },
  {
   "cell_type": "code",
   "execution_count": 45,
   "metadata": {},
   "outputs": [
    {
     "data": {
      "text/plain": "'a'"
     },
     "execution_count": 45,
     "metadata": {},
     "output_type": "execute_result"
    }
   ],
   "source": [
    "skipper = SkipObject(alpha)\n",
    "I = iter(skipper)\n",
    "next(I)"
   ]
  },
  {
   "cell_type": "code",
   "execution_count": 44,
   "metadata": {},
   "outputs": [
    {
     "name": "stdout",
     "output_type": "stream",
     "text": "aa ac ae ca cc ce ea ec ee"
    }
   ],
   "source": [
    "skipper = SkipObject(alpha)\n",
    "for x in skipper:\n",
    "    for y in skipper:\n",
    "        print(x+y, end=\" \")"
   ]
  },
  {
   "cell_type": "markdown",
   "execution_count": null,
   "metadata": {},
   "outputs": [],
   "source": [
    "## 成员关系 `__contains__` `__iter__` `__getitem__`\n",
    "\n",
    "当 contains存在时，它将优先于iter，而iter则优先于getitem方法。contains方法应该把成员关系定义为对一个键值做映射，或者定义为对序列的搜索。下面是用三种方法实现对一个实例对象的成员关系测试和各种迭代上下文。"
   ]
  },
  {
   "cell_type": "code",
   "execution_count": 46,
   "metadata": {},
   "outputs": [],
   "source": [
    "class Iters:\n",
    "    def __init__(self, value):\n",
    "        self.data = value \n",
    "    \n",
    "    def __getitem__(self, i):\n",
    "        print('get[%s]:' % i, end=\" \")\n",
    "        return self.data[i]\n",
    "\n",
    "    def __iter__(self):\n",
    "        print('iter=> ', end=\" \")\n",
    "        self.ix = 0\n",
    "        return self \n",
    "\n",
    "    def __next__(self):\n",
    "        print('next: ', end='')\n",
    "        if self.ix == len(self.data):\n",
    "            raise StopIteration\n",
    "        item = self.data[self.ix]\n",
    "        self.ix += 1\n",
    "        return item \n",
    "\n",
    "    def __contains__(self, x):\n",
    "        print('contains: ', end=' ')\n",
    "        return x in self.data "
   ]
  },
  {
   "cell_type": "code",
   "execution_count": 52,
   "metadata": {},
   "outputs": [
    {
     "name": "stdout",
     "output_type": "stream",
     "text": "contains:  True\niter=>  next: 1 | next: 2 | next: 3 | next: 4 | next: 5 | next: \niter=>  next: next: next: next: next: next: [1, 4, 9, 16, 25]\niter=>  next: next: next: next: next: next: ['0b1', '0b10', '0b11', '0b100', '0b101']\n"
    }
   ],
   "source": [
    "X = Iters([1, 2, 3, 4, 5])\n",
    "print (3 in X) # 成员关系，这里使用的是contains\n",
    "\n",
    "for i in X:\n",
    "    print(i, end=' | ')\n",
    "\n",
    "print()\n",
    "print([i ** 2 for i in X])\n",
    "print(list(map(bin, X)))"
   ]
  },
  {
   "cell_type": "code",
   "execution_count": 54,
   "metadata": {},
   "outputs": [
    {
     "name": "stdout",
     "output_type": "stream",
     "text": "iter=>  next: 1 @ next: 2 @ next: 3 @ next: 4 @ next: 5 @ next:"
    }
   ],
   "source": [
    "I = iter(X)\n",
    "while True:\n",
    "    try:\n",
    "        print(next(I), end=' @ ')\n",
    "    except StopIteration:\n",
    "        break"
   ]
  },
  {
   "cell_type": "code",
   "execution_count": 61,
   "metadata": {},
   "outputs": [],
   "source": [
    "# 将contains去掉的话\n",
    "class Iters2:\n",
    "    def __init__(self, value):\n",
    "        self.data = value \n",
    "    \n",
    "    def __getitem__(self, i):\n",
    "        print('get[%s]:' % i, end=\" \")\n",
    "        return self.data[i]\n",
    "\n",
    "    def __iter__(self):\n",
    "        print('iter=> next:', end=\" \")\n",
    "        for x in self.data:\n",
    "            yield x \n",
    "            print('next:', end=' ')"
   ]
  },
  {
   "cell_type": "code",
   "execution_count": 70,
   "metadata": {},
   "outputs": [
    {
     "name": "stdout",
     "output_type": "stream",
     "text": "iter=> next: next: next: True\niter=> next: 1 | next: 2 | next: 3 | next: 4 | next: 5 | next: \niter=> next: next: next: next: next: next: [1, 4, 9, 16, 25]\niter=> next: next: next: next: next: next: ['0b1', '0b10', '0b11', '0b100', '0b101']\n"
    }
   ],
   "source": [
    "x2 = Iters2([1, 2, 3, 4, 5])\n",
    "print(3 in x2) # 原来优先使用contains的使用iter来实现了\n",
    "\n",
    "for i in x2:\n",
    "    print(i, end=' | ')\n",
    "print()\n",
    "print([i ** 2 for i in x2])\n",
    "print(list(map(bin, x2)))"
   ]
  },
  {
   "cell_type": "code",
   "execution_count": 67,
   "metadata": {},
   "outputs": [],
   "source": [
    "# 将iter去掉的话\n",
    "class Iters3:\n",
    "    def __init__(self, value):\n",
    "        self.data = value \n",
    "    \n",
    "    def __getitem__(self, i):\n",
    "        print('get[%s]:' % i, end=\" \")\n",
    "        return self.data[i]"
   ]
  },
  {
   "cell_type": "code",
   "execution_count": 71,
   "metadata": {},
   "outputs": [
    {
     "name": "stdout",
     "output_type": "stream",
     "text": "get[0]: get[1]: get[2]: True\nget[0]: 1 | get[1]: 2 | get[2]: 3 | get[3]: 4 | get[4]: 5 | get[5]: \nget[0]: get[1]: get[2]: get[3]: get[4]: get[5]: [1, 4, 9, 16, 25]\nget[0]: get[1]: get[2]: get[3]: get[4]: get[5]: ['0b1', '0b10', '0b11', '0b100', '0b101']\n"
    }
   ],
   "source": [
    "x3 = Iters3([1, 2, 3, 4, 5])\n",
    "print(3 in x3) # 现在全部用getitem实现了\n",
    "\n",
    "for i in x3:\n",
    "    print(i, end=' | ')\n",
    "print()\n",
    "print([i ** 2 for i in x3])\n",
    "print(list(map(bin, x3)))"
   ]
  },
  {
   "cell_type": "code",
   "execution_count": 72,
   "metadata": {},
   "outputs": [
    {
     "name": "stdout",
     "output_type": "stream",
     "text": "get[slice(2, None, None)]:"
    },
    {
     "data": {
      "text/plain": "[3, 4, 5]"
     },
     "execution_count": 72,
     "metadata": {},
     "output_type": "execute_result"
    }
   ],
   "source": [
    "x3[2:]"
   ]
  },
  {
   "cell_type": "markdown",
   "execution_count": null,
   "metadata": {},
   "outputs": [],
   "source": [
    "## 属性访问： `__getattr__` `__setattr__`\n",
    "\n",
    "### 属性引用\n",
    "\n",
    "`__getattr__`方法用来拦截属性引用，当你用一个未定义的属性名称字符串对一个实例对象做点号运算时，它就会被调用。如果python能通过继承树搜索过程找到这个属性，那么该方法就不会被调用"
   ]
  },
  {
   "cell_type": "code",
   "execution_count": 73,
   "metadata": {},
   "outputs": [],
   "source": [
    "class Empty:\n",
    "    name = 'szq'\n",
    "    def __getattr__(self, attrname):\n",
    "        if attrname in ['age', 'name']:\n",
    "            return 40\n",
    "        else:\n",
    "            raise AttributeError(attrname)"
   ]
  },
  {
   "cell_type": "code",
   "execution_count": 76,
   "metadata": {},
   "outputs": [
    {
     "name": "stdout",
     "output_type": "stream",
     "text": "40\nszq\n"
    },
    {
     "ename": "AttributeError",
     "evalue": "address",
     "output_type": "error",
     "traceback": [
      "\u001b[1;31m---------------------------------------------------------------------------\u001b[0m",
      "\u001b[1;31mAttributeError\u001b[0m                            Traceback (most recent call last)",
      "\u001b[1;32m<ipython-input-76-f505e467da79>\u001b[0m in \u001b[0;36m<module>\u001b[1;34m\u001b[0m\n\u001b[0;32m      2\u001b[0m \u001b[0mprint\u001b[0m\u001b[1;33m(\u001b[0m\u001b[0mX\u001b[0m\u001b[1;33m.\u001b[0m\u001b[0mage\u001b[0m\u001b[1;33m)\u001b[0m\u001b[1;33m\u001b[0m\u001b[1;33m\u001b[0m\u001b[0m\n\u001b[0;32m      3\u001b[0m \u001b[0mprint\u001b[0m\u001b[1;33m(\u001b[0m\u001b[0mX\u001b[0m\u001b[1;33m.\u001b[0m\u001b[0mname\u001b[0m\u001b[1;33m)\u001b[0m\u001b[1;33m\u001b[0m\u001b[1;33m\u001b[0m\u001b[0m\n\u001b[1;32m----> 4\u001b[1;33m \u001b[0mX\u001b[0m\u001b[1;33m.\u001b[0m\u001b[0maddress\u001b[0m\u001b[1;33m\u001b[0m\u001b[1;33m\u001b[0m\u001b[0m\n\u001b[0m",
      "\u001b[1;32m<ipython-input-73-aa805b680768>\u001b[0m in \u001b[0;36m__getattr__\u001b[1;34m(self, attrname)\u001b[0m\n\u001b[0;32m      5\u001b[0m             \u001b[1;32mreturn\u001b[0m \u001b[1;36m40\u001b[0m\u001b[1;33m\u001b[0m\u001b[1;33m\u001b[0m\u001b[0m\n\u001b[0;32m      6\u001b[0m         \u001b[1;32melse\u001b[0m\u001b[1;33m:\u001b[0m\u001b[1;33m\u001b[0m\u001b[1;33m\u001b[0m\u001b[0m\n\u001b[1;32m----> 7\u001b[1;33m             \u001b[1;32mraise\u001b[0m \u001b[0mAttributeError\u001b[0m\u001b[1;33m(\u001b[0m\u001b[0mattrname\u001b[0m\u001b[1;33m)\u001b[0m\u001b[1;33m\u001b[0m\u001b[1;33m\u001b[0m\u001b[0m\n\u001b[0m",
      "\u001b[1;31mAttributeError\u001b[0m: address"
     ]
    }
   ],
   "source": [
    "X = Empty()\n",
    "print(X.age)\n",
    "print(X.name)\n",
    "X.address"
   ]
  },
  {
   "cell_type": "markdown",
   "execution_count": null,
   "metadata": {},
   "outputs": [],
   "source": [
    "上例中，类本身只有一个name属性；\n",
    "- 当使用点号求age时，由于没找到,所以会根据getattr计算出的值，作为该属性都得值\n",
    "- 当求name时，因为继承树中存在，所以会以继承树为准\n",
    "- 对于getattr中没有指定并且继承树中不存在adress，则发出异常"
   ]
  },
  {
   "cell_type": "markdown",
   "execution_count": null,
   "metadata": {},
   "outputs": [],
   "source": [
    "### 属性赋值和删除\n",
    "\n",
    "setattr会拦截所有的属性赋值，但是在`setattr`中对任何`self.name`属性赋值，都将再次调用`setattr`,这潜在的导致了**无穷递归循环**。 为了避免循环，应该使用`self.__dict__['name']`"
   ]
  },
  {
   "cell_type": "code",
   "execution_count": 90,
   "metadata": {},
   "outputs": [],
   "source": [
    "class Accesscontrol:\n",
    "    name = 'szq'\n",
    "\n",
    "    # 必须通过__dict__或者父类进行\n",
    "    def __setattr__(self, attr, value):\n",
    "        if attr == 'age':\n",
    "            print('setattr: %s' % attr,  end=' ')\n",
    "            self.__dict__[attr] = value + 10\n",
    "        else:\n",
    "            raise AttributeError(attr + \" not allowed\")\n",
    "    \n",
    "    def __getattr__(self, attr):\n",
    "        if attr == 'age':\n",
    "            return 40\n",
    "        else:\n",
    "            raise AttributeError(attr)\n",
    "\n",
    "    def __delattr__(self, attr):\n",
    "        print('del > %s' % attr)\n",
    "        del self.__dict__[attr]"
   ]
  },
  {
   "cell_type": "code",
   "execution_count": 91,
   "metadata": {},
   "outputs": [
    {
     "name": "stdout",
     "output_type": "stream",
     "text": "setattr: age \n70\ndel > age\n40\n"
    },
    {
     "ename": "AttributeError",
     "evalue": "name not allowed",
     "output_type": "error",
     "traceback": [
      "\u001b[1;31m---------------------------------------------------------------------------\u001b[0m",
      "\u001b[1;31mAttributeError\u001b[0m                            Traceback (most recent call last)",
      "\u001b[1;32m<ipython-input-91-844b725932a1>\u001b[0m in \u001b[0;36m<module>\u001b[1;34m\u001b[0m\n\u001b[0;32m      5\u001b[0m \u001b[1;32mdel\u001b[0m \u001b[0mX\u001b[0m\u001b[1;33m.\u001b[0m\u001b[0mage\u001b[0m\u001b[1;33m\u001b[0m\u001b[1;33m\u001b[0m\u001b[0m\n\u001b[0;32m      6\u001b[0m \u001b[0mprint\u001b[0m\u001b[1;33m(\u001b[0m\u001b[0mX\u001b[0m\u001b[1;33m.\u001b[0m\u001b[0mage\u001b[0m\u001b[1;33m)\u001b[0m\u001b[1;33m\u001b[0m\u001b[1;33m\u001b[0m\u001b[0m\n\u001b[1;32m----> 7\u001b[1;33m \u001b[0mX\u001b[0m\u001b[1;33m.\u001b[0m\u001b[0mname\u001b[0m \u001b[1;33m=\u001b[0m \u001b[1;34m'lqf'\u001b[0m \u001b[1;31m# setattr会拦截所有属性，包括继承树中的，所以该句不能执行\u001b[0m\u001b[1;33m\u001b[0m\u001b[1;33m\u001b[0m\u001b[0m\n\u001b[0m",
      "\u001b[1;32m<ipython-input-90-e8d4e340ee97>\u001b[0m in \u001b[0;36m__setattr__\u001b[1;34m(self, attr, value)\u001b[0m\n\u001b[0;32m      8\u001b[0m             \u001b[0mself\u001b[0m\u001b[1;33m.\u001b[0m\u001b[0m__dict__\u001b[0m\u001b[1;33m[\u001b[0m\u001b[0mattr\u001b[0m\u001b[1;33m]\u001b[0m \u001b[1;33m=\u001b[0m \u001b[0mvalue\u001b[0m \u001b[1;33m+\u001b[0m \u001b[1;36m10\u001b[0m\u001b[1;33m\u001b[0m\u001b[1;33m\u001b[0m\u001b[0m\n\u001b[0;32m      9\u001b[0m         \u001b[1;32melse\u001b[0m\u001b[1;33m:\u001b[0m\u001b[1;33m\u001b[0m\u001b[1;33m\u001b[0m\u001b[0m\n\u001b[1;32m---> 10\u001b[1;33m             \u001b[1;32mraise\u001b[0m \u001b[0mAttributeError\u001b[0m\u001b[1;33m(\u001b[0m\u001b[0mattr\u001b[0m \u001b[1;33m+\u001b[0m \u001b[1;34m\" not allowed\"\u001b[0m\u001b[1;33m)\u001b[0m\u001b[1;33m\u001b[0m\u001b[1;33m\u001b[0m\u001b[0m\n\u001b[0m\u001b[0;32m     11\u001b[0m \u001b[1;33m\u001b[0m\u001b[0m\n\u001b[0;32m     12\u001b[0m     \u001b[1;32mdef\u001b[0m \u001b[0m__getattr__\u001b[0m\u001b[1;33m(\u001b[0m\u001b[0mself\u001b[0m\u001b[1;33m,\u001b[0m \u001b[0mattr\u001b[0m\u001b[1;33m)\u001b[0m\u001b[1;33m:\u001b[0m\u001b[1;33m\u001b[0m\u001b[1;33m\u001b[0m\u001b[0m\n",
      "\u001b[1;31mAttributeError\u001b[0m: name not allowed"
     ]
    }
   ],
   "source": [
    "X = Accesscontrol()\n",
    "X.age = 60\n",
    "print()\n",
    "print(X.age) # 通过setattr后，age已经存在于继承树中，不能再通过getattr了\n",
    "del X.age # 使用重载的delattr删除age属性\n",
    "print(X.age)\n",
    "X.name = 'lqf' # setattr会拦截所有属性，包括继承树中的，所以该句不能执行"
   ]
  },
  {
   "cell_type": "markdown",
   "execution_count": null,
   "metadata": {},
   "outputs": [],
   "source": [
    "其他属性管理工具：\n",
    "- `__getattribute__`方法拦截所有的属性访问，而不只是那些未定义的，但是要小心循环调用\n",
    "- `property`内置函数允许我们把方法对指定属性的访问和修改操作关联起来\n",
    "- 描述符提供一个协议，被一个类的`__get__`和`__set__`方法与对指定类属性上的访问关联起来\n",
    "- `slot`属性再类中声明，但在每个实例中都会创建隐式存储"
   ]
  },
  {
   "cell_type": "markdown",
   "execution_count": null,
   "metadata": {},
   "outputs": [],
   "source": [
    "## 字符串显式： `__repr__` `__str__`"
   ]
  },
  {
   "cell_type": "code",
   "execution_count": 92,
   "metadata": {},
   "outputs": [],
   "source": [
    "class adder:\n",
    "    def __init__(self, value=0):\n",
    "        self.data = value \n",
    "    \n",
    "    def __add__(self, other):\n",
    "        self.data += other "
   ]
  },
  {
   "cell_type": "code",
   "execution_count": 93,
   "metadata": {},
   "outputs": [
    {
     "name": "stdout",
     "output_type": "stream",
     "text": "<class '__main__.adder'>\n"
    }
   ],
   "source": [
    "x = adder\n",
    "print(x) # 此时打印x看不到它的心智，只能看到是一个类"
   ]
  },
  {
   "cell_type": "code",
   "execution_count": 104,
   "metadata": {},
   "outputs": [],
   "source": [
    "class addrepr(adder):\n",
    "    def __repr__(self):\n",
    "        return 'addrepr(%s)' % self.data\n",
    "\n",
    "    def __str__(self):\n",
    "        return str(self.data) # 必须返回字符串，所以将int转为str"
   ]
  },
  {
   "cell_type": "code",
   "execution_count": 105,
   "metadata": {},
   "outputs": [
    {
     "name": "stdout",
     "output_type": "stream",
     "text": "3\n[addrepr(3)]\n"
    },
    {
     "data": {
      "text/plain": "addrepr(3)"
     },
     "execution_count": 105,
     "metadata": {},
     "output_type": "execute_result"
    }
   ],
   "source": [
    "x = addrepr(2)\n",
    "x + 1\n",
    "print(x) # 定义了__repr__可以定制打印输出 调用的是 __str__\n",
    "print([x]) # 内嵌到列表中时，使用的依然是repr\n",
    "x  # 调用的是__repr__"
   ]
  },
  {
   "cell_type": "markdown",
   "execution_count": null,
   "metadata": {},
   "outputs": [],
   "source": [
    "- str 会首先被打印操作和str内置函数尝试，通常应该返回用户友好的\n",
    "- repr 用于其他的场景，包括交互式命令行，repr函数等，以及没有`__str__`的情况, 以及内嵌\n",
    "- 必须返回字符串"
   ]
  },
  {
   "cell_type": "markdown",
   "execution_count": null,
   "metadata": {},
   "outputs": [],
   "source": [
    "## 右侧加法和原位置加法： `__radd__` `__iadd__`\n",
    "\n",
    "### 右侧加法\n",
    "\n",
    "默认的add加法，不支持实例对象在+运算符右侧"
   ]
  },
  {
   "cell_type": "code",
   "execution_count": 106,
   "metadata": {},
   "outputs": [],
   "source": [
    "class Adder:\n",
    "    def __init__(self, value=0):\n",
    "        self.data = value\n",
    "    \n",
    "    def __add__(self, other):\n",
    "        return self.data + other"
   ]
  },
  {
   "cell_type": "code",
   "execution_count": 107,
   "metadata": {},
   "outputs": [
    {
     "data": {
      "text/plain": "7"
     },
     "execution_count": 107,
     "metadata": {},
     "output_type": "execute_result"
    }
   ],
   "source": [
    "x = Adder(5)\n",
    "x + 2"
   ]
  },
  {
   "cell_type": "code",
   "execution_count": 108,
   "metadata": {},
   "outputs": [
    {
     "ename": "TypeError",
     "evalue": "unsupported operand type(s) for +: 'int' and 'Adder'",
     "output_type": "error",
     "traceback": [
      "\u001b[1;31m---------------------------------------------------------------------------\u001b[0m",
      "\u001b[1;31mTypeError\u001b[0m                                 Traceback (most recent call last)",
      "\u001b[1;32m<ipython-input-108-4f4e32a7ea51>\u001b[0m in \u001b[0;36m<module>\u001b[1;34m\u001b[0m\n\u001b[1;32m----> 1\u001b[1;33m \u001b[1;36m2\u001b[0m \u001b[1;33m+\u001b[0m \u001b[0mx\u001b[0m\u001b[1;33m\u001b[0m\u001b[1;33m\u001b[0m\u001b[0m\n\u001b[0m",
      "\u001b[1;31mTypeError\u001b[0m: unsupported operand type(s) for +: 'int' and 'Adder'"
     ]
    }
   ],
   "source": [
    "2 + x #不支持"
   ]
  },
  {
   "cell_type": "code",
   "execution_count": 111,
   "metadata": {},
   "outputs": [],
   "source": [
    "class Adder:\n",
    "    def __init__(self, value=0):\n",
    "        self.data = value\n",
    "    \n",
    "    def __add__(self, other):\n",
    "        return self.data + other\n",
    "    \n",
    "    def __radd__(self, other):\n",
    "        print('radd > %d' %other ,end=' ')\n",
    "        return self.__add__(other)"
   ]
  },
  {
   "cell_type": "code",
   "execution_count": 112,
   "metadata": {},
   "outputs": [
    {
     "name": "stdout",
     "output_type": "stream",
     "text": "radd > 2"
    },
    {
     "data": {
      "text/plain": "7"
     },
     "execution_count": 112,
     "metadata": {},
     "output_type": "execute_result"
    }
   ],
   "source": [
    "x = Adder(5)\n",
    "2 + x # 重载radd后支持了"
   ]
  },
  {
   "cell_type": "markdown",
   "execution_count": null,
   "metadata": {},
   "outputs": [],
   "source": [
    "### 原位置加法\n",
    "\n",
    "实现 `+=` 可以使用 iadd 和 add, 如果没有iadd则使用add, 但是通过iadd更高效"
   ]
  },
  {
   "cell_type": "code",
   "execution_count": 118,
   "metadata": {},
   "outputs": [],
   "source": [
    "class Number:\n",
    "    def __init__(self, val):\n",
    "        self.val = val \n",
    "    \n",
    "    def __iadd__(self, other):\n",
    "        self.val += other \n",
    "        return self\n",
    "    \n",
    "    def __str__(self):\n",
    "        return \"{0}\".format(self.val)"
   ]
  },
  {
   "cell_type": "code",
   "execution_count": 119,
   "metadata": {},
   "outputs": [
    {
     "name": "stdout",
     "output_type": "stream",
     "text": "6\n"
    }
   ],
   "source": [
    "x = Number(5)\n",
    "x += 1\n",
    "print(x)"
   ]
  },
  {
   "cell_type": "markdown",
   "execution_count": null,
   "metadata": {},
   "outputs": [],
   "source": [
    "每个二元运算符都有类似的右侧和原位置重载方法，如减法，乘法等"
   ]
  },
  {
   "cell_type": "markdown",
   "execution_count": null,
   "metadata": {},
   "outputs": [],
   "source": [
    "## 调用表达式 `__call__`\n",
    "\n",
    "允许类实例模拟类似函数的行为"
   ]
  },
  {
   "cell_type": "code",
   "execution_count": 121,
   "metadata": {},
   "outputs": [],
   "source": [
    "class Prod:\n",
    "    def __init__(self, value):\n",
    "        self.data = value \n",
    "    \n",
    "    def __call__(self, other):\n",
    "        return self.data * other "
   ]
  },
  {
   "cell_type": "code",
   "execution_count": 122,
   "metadata": {},
   "outputs": [
    {
     "data": {
      "text/plain": "15"
     },
     "execution_count": 122,
     "metadata": {},
     "output_type": "execute_result"
    }
   ],
   "source": [
    "x = Prod(3)\n",
    "x(5) # 3 * 5"
   ]
  },
  {
   "cell_type": "markdown",
   "execution_count": null,
   "metadata": {},
   "outputs": [],
   "source": [
    "## 比较运算\n",
    "\n",
    "- 比较方法没有右侧变体\n",
    "- 没有隐含关系， ==为真，不代表！=为假，两个都需要重载"
   ]
  },
  {
   "cell_type": "code",
   "execution_count": 125,
   "metadata": {},
   "outputs": [],
   "source": [
    "class C:\n",
    "    data = 'spam'\n",
    "    def __gt__(self, other):\n",
    "        return self.data > other \n",
    "    \n",
    "    def __lt__(self, other):\n",
    "        return self.data < other"
   ]
  },
  {
   "cell_type": "code",
   "execution_count": 126,
   "metadata": {},
   "outputs": [
    {
     "name": "stdout",
     "output_type": "stream",
     "text": "False\nTrue\n"
    }
   ],
   "source": [
    "x = C()\n",
    "print( x < 'ham')\n",
    "print( x > 'ham')"
   ]
  },
  {
   "cell_type": "markdown",
   "execution_count": null,
   "metadata": {},
   "outputs": [],
   "source": [
    "## 布尔测试 `__bool__` 和 `__len__`\n",
    "\n",
    "python会首先尝试使用`__bool__`获取一个布尔值，如果不存在则会根据`__len__`长度确定值"
   ]
  },
  {
   "cell_type": "code",
   "execution_count": 127,
   "metadata": {},
   "outputs": [],
   "source": [
    "class Truth:\n",
    "    def __bool__(self):\n",
    "        print('bool')\n",
    "        return True"
   ]
  },
  {
   "cell_type": "code",
   "execution_count": 128,
   "metadata": {},
   "outputs": [
    {
     "name": "stdout",
     "output_type": "stream",
     "text": "bool\nyes\n"
    }
   ],
   "source": [
    "x = Truth()\n",
    "if x :\n",
    "    print('yes')"
   ]
  },
  {
   "cell_type": "code",
   "execution_count": 129,
   "metadata": {},
   "outputs": [],
   "source": [
    "class Truth1:\n",
    "    def __len__(self):\n",
    "        print('len')\n",
    "        return 5"
   ]
  },
  {
   "cell_type": "code",
   "execution_count": 130,
   "metadata": {},
   "outputs": [
    {
     "name": "stdout",
     "output_type": "stream",
     "text": "bool\nyes\n"
    }
   ],
   "source": [
    "x = Truth()\n",
    "if x :\n",
    "    print('yes')"
   ]
  },
  {
   "cell_type": "code",
   "execution_count": 131,
   "metadata": {},
   "outputs": [],
   "source": [
    "class Truth2:\n",
    "    pass "
   ]
  },
  {
   "cell_type": "code",
   "execution_count": 132,
   "metadata": {},
   "outputs": [
    {
     "name": "stdout",
     "output_type": "stream",
     "text": "bool\nyes\n"
    }
   ],
   "source": [
    "# 都不存在时为真\n",
    "x = Truth()\n",
    "if x :\n",
    "    print('yes') "
   ]
  },
  {
   "cell_type": "markdown",
   "execution_count": null,
   "metadata": {},
   "outputs": [],
   "source": [
    "## 析构函数"
   ]
  },
  {
   "cell_type": "code",
   "execution_count": 154,
   "metadata": {},
   "outputs": [],
   "source": [
    "class Life:\n",
    "    def __init__(self, name='unknown'):\n",
    "        print('hello' + name)\n",
    "        self.name = name \n",
    "    \n",
    "    def live(self):\n",
    "        print(self.name)\n",
    "    \n",
    "    def __del__(self):\n",
    "        print('goodbye' + self.name)"
   ]
  },
  {
   "cell_type": "code",
   "execution_count": 155,
   "metadata": {},
   "outputs": [
    {
     "name": "stdout",
     "output_type": "stream",
     "text": "helloBrain\nBrain\n"
    }
   ],
   "source": [
    "brain = Life('Brain')\n",
    "brain.live()"
   ]
  },
  {
   "cell_type": "code",
   "execution_count": 156,
   "metadata": {},
   "outputs": [
    {
     "name": "stdout",
     "output_type": "stream",
     "text": "goodbyeBrain\n"
    }
   ],
   "source": [
    "brain = 2 # 重新赋值，会调用原来值得析构函数"
   ]
  },
  {
   "cell_type": "code",
   "execution_count": null,
   "metadata": {},
   "outputs": [],
   "source": []
  }
 ]
}