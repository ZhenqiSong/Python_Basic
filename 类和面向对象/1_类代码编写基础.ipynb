{
 "nbformat": 4,
 "nbformat_minor": 2,
 "metadata": {
  "language_info": {
   "name": "python",
   "codemirror_mode": {
    "name": "ipython",
    "version": 3
   },
   "version": "3.7.4"
  },
  "orig_nbformat": 2,
  "file_extension": ".py",
  "mimetype": "text/x-python",
  "name": "python",
  "npconvert_exporter": "python",
  "pygments_lexer": "ipython3",
  "version": 3
 },
 "cells": [
  {
   "cell_type": "markdown",
   "execution_count": null,
   "metadata": {},
   "outputs": [],
   "source": [
    "# 类代码编写基础\n",
    "\n",
    "## 类生成多个实例对象\n",
    "\n",
    "### 类对象提供默认行为\n",
    "\n",
    "- class 语句创建类对象并将其赋值给一个名称\n",
    "- class 语句内的赋值语句会创建类的属性，顶层的赋值语句会产生属性，def内的不行\n",
    "- 类属性提供了对象的状态和行为\n",
    "\n",
    "### 实例对象是具体的元素\n",
    "\n",
    "- 像函数那样调用类对象会创建新的实例对象\n",
    "- 每个实例对象继承了类的属性并获得了自己的命名空间\n",
    "- 在方法内对self属性做赋值运算会产生每个实例自己的属性"
   ]
  },
  {
   "cell_type": "code",
   "execution_count": 1,
   "metadata": {},
   "outputs": [],
   "source": [
    "class FirstClass:\n",
    "    # 位于类中的函数称为方法\n",
    "    def setdata(self, value):\n",
    "        self.data = value\n",
    "    \n",
    "    def display(self):\n",
    "        print(self.data)"
   ]
  },
  {
   "cell_type": "code",
   "execution_count": 2,
   "metadata": {},
   "outputs": [],
   "source": [
    "# 创建类的实例\n",
    "x = FirstClass()\n",
    "y = FirstClass()"
   ]
  },
  {
   "cell_type": "markdown",
   "execution_count": null,
   "metadata": {},
   "outputs": [],
   "source": [
    "此时实例是空的，如果对实例以及类对象内的属性名称做点运算，python就会自动搜索访问类中的名称。  \n",
    "因为类可以产生多个实例，所以方法必须通过self参数才能和获取当前处理的实例。"
   ]
  },
  {
   "cell_type": "code",
   "execution_count": 3,
   "metadata": {},
   "outputs": [
    {
     "ename": "AttributeError",
     "evalue": "'FirstClass' object has no attribute 'data'",
     "output_type": "error",
     "traceback": [
      "\u001b[1;31m---------------------------------------------------------------------------\u001b[0m",
      "\u001b[1;31mAttributeError\u001b[0m                            Traceback (most recent call last)",
      "\u001b[1;32m<ipython-input-3-d603d4321565>\u001b[0m in \u001b[0;36m<module>\u001b[1;34m\u001b[0m\n\u001b[1;32m----> 1\u001b[1;33m \u001b[0my\u001b[0m\u001b[1;33m.\u001b[0m\u001b[0mdisplay\u001b[0m\u001b[1;33m(\u001b[0m\u001b[1;33m)\u001b[0m\u001b[1;33m\u001b[0m\u001b[1;33m\u001b[0m\u001b[0m\n\u001b[0m",
      "\u001b[1;32m<ipython-input-1-15eab328a441>\u001b[0m in \u001b[0;36mdisplay\u001b[1;34m(self)\u001b[0m\n\u001b[0;32m      5\u001b[0m \u001b[1;33m\u001b[0m\u001b[0m\n\u001b[0;32m      6\u001b[0m     \u001b[1;32mdef\u001b[0m \u001b[0mdisplay\u001b[0m\u001b[1;33m(\u001b[0m\u001b[0mself\u001b[0m\u001b[1;33m)\u001b[0m\u001b[1;33m:\u001b[0m\u001b[1;33m\u001b[0m\u001b[1;33m\u001b[0m\u001b[0m\n\u001b[1;32m----> 7\u001b[1;33m         \u001b[0mprint\u001b[0m\u001b[1;33m(\u001b[0m\u001b[0mself\u001b[0m\u001b[1;33m.\u001b[0m\u001b[0mdata\u001b[0m\u001b[1;33m)\u001b[0m\u001b[1;33m\u001b[0m\u001b[1;33m\u001b[0m\u001b[0m\n\u001b[0m",
      "\u001b[1;31mAttributeError\u001b[0m: 'FirstClass' object has no attribute 'data'"
     ]
    }
   ],
   "source": [
    "y.display() # 此时还没有data属性"
   ]
  },
  {
   "cell_type": "code",
   "execution_count": 4,
   "metadata": {},
   "outputs": [
    {
     "name": "stdout",
     "output_type": "stream",
     "text": "3.14\n"
    }
   ],
   "source": [
    "y.setdata(3.14)\n",
    "y.display()"
   ]
  },
  {
   "cell_type": "markdown",
   "execution_count": null,
   "metadata": {},
   "outputs": [],
   "source": [
    "## 通过继承进行定制\n",
    "\n",
    "类可以引入子类来进行修改，而不对已有组件进行原处的修改，通过在较低层次的地方可以覆盖已有的属性从而让行为特定化。\n",
    "\n",
    "- 父类列在class语句头部的括号中\n",
    "- 类从其父类中继承属性\n",
    "- 实例会继承所有可访问类的属性\n",
    "- 每个`object.attribute`引用都会启动一个新的独立的搜索\n",
    "- 逻辑的修改是通过创建子类，而不是修改父类"
   ]
  },
  {
   "cell_type": "code",
   "execution_count": 5,
   "metadata": {},
   "outputs": [],
   "source": [
    "class SecondClass(FirstClass):\n",
    "    def display(self):\n",
    "        print(\"Current value %s\" % self.data)"
   ]
  },
  {
   "cell_type": "code",
   "execution_count": 6,
   "metadata": {},
   "outputs": [
    {
     "name": "stdout",
     "output_type": "stream",
     "text": "Current value 20\n"
    }
   ],
   "source": [
    "z = SecondClass()\n",
    "z.setdata(20)\n",
    "z.display()"
   ]
  },
  {
   "cell_type": "markdown",
   "execution_count": 7,
   "metadata": {},
   "outputs": [
    {
     "ename": "SyntaxError",
     "evalue": "invalid character in identifier (<ipython-input-7-6768d43fdecf>, line 3)",
     "output_type": "error",
     "traceback": [
      "\u001b[1;36m  File \u001b[1;32m\"<ipython-input-7-6768d43fdecf>\"\u001b[1;36m, line \u001b[1;32m3\u001b[0m\n\u001b[1;33m    让用类编写的对象，可解惑并响应用在内置类型上的运算：加法，切片等\u001b[0m\n\u001b[1;37m                                   ^\u001b[0m\n\u001b[1;31mSyntaxError\u001b[0m\u001b[1;31m:\u001b[0m invalid character in identifier\n"
     ]
    }
   ],
   "source": [
    "## 类可以截获Python运算符\n",
    "\n",
    "让用类编写的对象，可解惑并响应用在内置类型上的运算：加法，切片等\n",
    "\n",
    "- 以双下划线命名的方法是特殊的内置方法，同样重载内置运算\n",
    "- 当实例出现在内置运算中时，这类方法会自动被调用\n",
    "- 类可以重载绝大多数内置类型运算\n",
    "- 默认的运算符重载方法既不存在，也不需要\n",
    "- 新式的一些默认的运算符重载方法，但是不属于常见运算\n",
    "- 运算符将类与Python的对象模型结合在一起"
   ]
  },
  {
   "cell_type": "code",
   "execution_count": 8,
   "metadata": {},
   "outputs": [],
   "source": [
    "class ThirdClass(SecondClass):\n",
    "    # 重载构造函数\n",
    "    def __init__(self, value):\n",
    "        self.data = value\n",
    "\n",
    "    # 重载加法\n",
    "    def __add__(self, other):\n",
    "        return ThirdClass(self.data + other)\n",
    "\n",
    "    # 重载打印输出的效果\n",
    "    def __str__(self):\n",
    "        return '[ThirdClass: %s]' % self.data\n",
    "    \n",
    "    def mul(self, other):\n",
    "        self.data *= other"
   ]
  },
  {
   "cell_type": "code",
   "execution_count": 10,
   "metadata": {},
   "outputs": [
    {
     "name": "stdout",
     "output_type": "stream",
     "text": "Current value abc\n[ThirdClass: abc]\n"
    }
   ],
   "source": [
    "a = ThirdClass('abc')\n",
    "a.display()\n",
    "print(a)"
   ]
  },
  {
   "cell_type": "code",
   "execution_count": 12,
   "metadata": {},
   "outputs": [
    {
     "name": "stdout",
     "output_type": "stream",
     "text": "Current value abcxyz\n[ThirdClass: abcxyz]\n"
    }
   ],
   "source": [
    "# 重载加法后支持的＋运算符\n",
    "# 但是 \"xyz\" + a 是错误的\n",
    "b = a + \"xyz\"\n",
    "b.display()\n",
    "print(b)"
   ]
  },
  {
   "cell_type": "code",
   "execution_count": 13,
   "metadata": {},
   "outputs": [
    {
     "name": "stdout",
     "output_type": "stream",
     "text": "[ThirdClass: abcabcabc]\n"
    }
   ],
   "source": [
    "a.mul(3)\n",
    "print(a)"
   ]
  },
  {
   "cell_type": "markdown",
   "execution_count": 15,
   "metadata": {},
   "outputs": [],
   "source": [
    "## 最简单的python类"
   ]
  },
  {
   "cell_type": "code",
   "execution_count": 16,
   "metadata": {},
   "outputs": [],
   "source": [
    "class rec:pass # 什么都不干的类"
   ]
  },
  {
   "cell_type": "markdown",
   "execution_count": null,
   "metadata": {},
   "outputs": [],
   "source": [
    "虽然上面的类什么都没有，但是可以通过赋值变量名给这个类添加属性"
   ]
  },
  {
   "cell_type": "code",
   "execution_count": 17,
   "metadata": {},
   "outputs": [],
   "source": [
    "rec.name = 'szq'\n",
    "rec.age = 18"
   ]
  },
  {
   "cell_type": "code",
   "execution_count": 18,
   "metadata": {},
   "outputs": [
    {
     "name": "stdout",
     "output_type": "stream",
     "text": "szq\n"
    }
   ],
   "source": [
    "print(rec.name)"
   ]
  },
  {
   "cell_type": "markdown",
   "execution_count": null,
   "metadata": {},
   "outputs": [],
   "source": [
    "上面对类属性的访问没有通过实例，说明类本身也是对象"
   ]
  },
  {
   "cell_type": "code",
   "execution_count": 19,
   "metadata": {},
   "outputs": [
    {
     "name": "stdout",
     "output_type": "stream",
     "text": "szq\n"
    }
   ],
   "source": [
    "# 实例本身没有属性，只是继承了类的属性\n",
    "x = rec()\n",
    "print(x.name)"
   ]
  },
  {
   "cell_type": "code",
   "execution_count": 20,
   "metadata": {},
   "outputs": [
    {
     "data": {
      "text/plain": "['__module__', '__dict__', '__weakref__', '__doc__', 'name', 'age']"
     },
     "execution_count": 20,
     "metadata": {},
     "output_type": "execute_result"
    }
   ],
   "source": [
    "list(rec.__dict__.keys())"
   ]
  },
  {
   "cell_type": "code",
   "execution_count": 22,
   "metadata": {},
   "outputs": [
    {
     "data": {
      "text/plain": "[]"
     },
     "execution_count": 22,
     "metadata": {},
     "output_type": "execute_result"
    }
   ],
   "source": [
    "list(x.__dict__) # 可见如果不给实例x赋值属性的话，它不存在属性，之所以可以打印name,是因为搜索的类的属性"
   ]
  },
  {
   "cell_type": "code",
   "execution_count": 23,
   "metadata": {},
   "outputs": [
    {
     "data": {
      "text/plain": "__main__.rec"
     },
     "execution_count": 23,
     "metadata": {},
     "output_type": "execute_result"
    }
   ],
   "source": [
    "x.__class__ # x指向的类"
   ]
  },
  {
   "cell_type": "markdown",
   "execution_count": null,
   "metadata": {},
   "outputs": [],
   "source": [
    "类和实例只是命名空间对象，它们所携带的属性是通过赋值语句动态创建的。这些赋值语句通常在class语句内"
   ]
  },
  {
   "cell_type": "code",
   "execution_count": 24,
   "metadata": {},
   "outputs": [],
   "source": [
    "def uppername(obj):\n",
    "    return obj.name.upper()"
   ]
  },
  {
   "cell_type": "code",
   "execution_count": 25,
   "metadata": {},
   "outputs": [],
   "source": [
    "rec.method = uppername"
   ]
  },
  {
   "cell_type": "code",
   "execution_count": 26,
   "metadata": {},
   "outputs": [
    {
     "data": {
      "text/plain": "'SZQ'"
     },
     "execution_count": 26,
     "metadata": {},
     "output_type": "execute_result"
    }
   ],
   "source": [
    "x.method()"
   ]
  },
  {
   "cell_type": "code",
   "execution_count": null,
   "metadata": {},
   "outputs": [],
   "source": []
  }
 ]
}