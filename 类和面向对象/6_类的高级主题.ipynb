{
 "nbformat": 4,
 "nbformat_minor": 2,
 "metadata": {
  "language_info": {
   "name": "python",
   "codemirror_mode": {
    "name": "ipython",
    "version": 3
   },
   "version": "3.7.4"
  },
  "orig_nbformat": 2,
  "file_extension": ".py",
  "mimetype": "text/x-python",
  "name": "python",
  "npconvert_exporter": "python",
  "pygments_lexer": "ipython3",
  "version": 3
 },
 "cells": [
  {
   "cell_type": "markdown",
   "execution_count": null,
   "metadata": {},
   "outputs": [],
   "source": [
    "## 扩展内置类型\n",
    "\n",
    "### 通过内嵌方式扩展类型"
   ]
  },
  {
   "cell_type": "code",
   "execution_count": 1,
   "metadata": {},
   "outputs": [],
   "source": [
    "class Set:\n",
    "    def __init__(self, value=[]):\n",
    "        self.data = []\n",
    "        self.concat(value)\n",
    "\n",
    "    def intersect(self, other):\n",
    "        res = []\n",
    "        for x in self.data:\n",
    "            if x not in other:\n",
    "                res.append(x)\n",
    "        return Set(res)\n",
    "\n",
    "    def union(self, other):\n",
    "        res = self.data[:]\n",
    "        for x in other:\n",
    "            if x not in res:\n",
    "                res.append(x)\n",
    "        return Set(res)\n",
    "    \n",
    "    def concat(self, value):\n",
    "        for x in value:\n",
    "            if not x in self.data:\n",
    "                self.data.append(x)\n",
    "    \n",
    "    def __len__(self):\n",
    "        return len(self.data)\n",
    "    \n",
    "    def __getitem__(self, key):\n",
    "        return self.data[key]\n",
    "\n",
    "    def __and__(self, other):\n",
    "        return self.intersect(other)\n",
    "    \n",
    "    def __or__(self, other):\n",
    "        return self.union(other)\n",
    "    \n",
    "    def __repr__(self):\n",
    "        return 'Set:' + repr(self.data)\n",
    "    \n",
    "    def __iter__(self):\n",
    "        return iter(self.data)"
   ]
  },
  {
   "cell_type": "code",
   "execution_count": 4,
   "metadata": {},
   "outputs": [
    {
     "name": "stdout",
     "output_type": "stream",
     "text": "Set:[1, 3, 5, 7, 4]\n"
    }
   ],
   "source": [
    "x = Set([1, 3, 5, 7])\n",
    "print(x.union(Set([1, 4, 7])))"
   ]
  },
  {
   "cell_type": "markdown",
   "execution_count": null,
   "metadata": {},
   "outputs": [],
   "source": [
    "### 通过子类扩展类型"
   ]
  },
  {
   "cell_type": "code",
   "execution_count": 6,
   "metadata": {},
   "outputs": [],
   "source": [
    "class Mylist(list):\n",
    "    def __getitem__(self, offset):\n",
    "        print('(indexing %s at %s)' % (self, offset))\n",
    "        return list.__getitem__(self, offset-1)"
   ]
  },
  {
   "cell_type": "code",
   "execution_count": 7,
   "metadata": {},
   "outputs": [
    {
     "name": "stdout",
     "output_type": "stream",
     "text": "(indexing ['a', 'b', 'c'] at 1)\na\n"
    }
   ],
   "source": [
    "x = Mylist('abc')\n",
    "print(x[1])"
   ]
  },
  {
   "cell_type": "markdown",
   "execution_count": null,
   "metadata": {},
   "outputs": [],
   "source": [
    "## 新式类\n",
    "\n",
    "在python3中所有的类都是新式类，不管它们是否显示的继承自object，所有类都继承自object。但是python2中只有新式类继承自object。\n",
    "\n",
    "### 内置类型的获取将跳过实例\n",
    "\n",
    "通用实例属性拦截方法`__getattr__`和`__getattribute__`不再拦截下以`__X__`命名得运算符重载方法的调用，这类方法从类开始，而不是实例。\n",
    "\n",
    "如一个类重载了`__getitem__`，它的一个实例为`X`。那么X[i]在经典类中是`x.__getitem__[i]`,在新式类中则是`type(X).__getitem__(X, i)`"
   ]
  },
  {
   "cell_type": "code",
   "execution_count": 55,
   "metadata": {},
   "outputs": [],
   "source": [
    "class C(object):\n",
    "    data = 'spam'\n",
    "    def __getattr__(self, name):\n",
    "        print(name)\n",
    "        return getattr(self.data, name)\n",
    "\n",
    "    def __len__(self):\n",
    "        return 10"
   ]
  },
  {
   "cell_type": "code",
   "execution_count": 56,
   "metadata": {},
   "outputs": [
    {
     "ename": "TypeError",
     "evalue": "'C' object is not subscriptable",
     "output_type": "error",
     "traceback": [
      "\u001b[1;31m---------------------------------------------------------------------------\u001b[0m",
      "\u001b[1;31mTypeError\u001b[0m                                 Traceback (most recent call last)",
      "\u001b[1;32m<ipython-input-56-6547dd6bcae9>\u001b[0m in \u001b[0;36m<module>\u001b[1;34m\u001b[0m\n\u001b[0;32m      1\u001b[0m \u001b[0mX\u001b[0m \u001b[1;33m=\u001b[0m \u001b[0mC\u001b[0m\u001b[1;33m(\u001b[0m\u001b[1;33m)\u001b[0m\u001b[1;33m\u001b[0m\u001b[1;33m\u001b[0m\u001b[0m\n\u001b[1;32m----> 2\u001b[1;33m \u001b[0mX\u001b[0m\u001b[1;33m[\u001b[0m\u001b[1;36m0\u001b[0m\u001b[1;33m]\u001b[0m \u001b[1;31m# 这种委托模式，data是有__getitem__的，但是通过getattr并不能被获取到\u001b[0m\u001b[1;33m\u001b[0m\u001b[1;33m\u001b[0m\u001b[0m\n\u001b[0m",
      "\u001b[1;31mTypeError\u001b[0m: 'C' object is not subscriptable"
     ]
    }
   ],
   "source": [
    "X = C()\n",
    "X[0] # 这种委托模式，data是有__getitem__的，但是通过getattr并不能被获取到"
   ]
  },
  {
   "cell_type": "code",
   "execution_count": 57,
   "metadata": {},
   "outputs": [
    {
     "name": "stdout",
     "output_type": "stream",
     "text": "upper\n"
    },
    {
     "data": {
      "text/plain": "'SPAM'"
     },
     "execution_count": 57,
     "metadata": {},
     "output_type": "execute_result"
    }
   ],
   "source": [
    "X.upper() # 非__开头结尾的就可以拦截到"
   ]
  },
  {
   "cell_type": "code",
   "execution_count": 53,
   "metadata": {},
   "outputs": [
    {
     "data": {
      "text/plain": "'SAPM'"
     },
     "execution_count": 53,
     "metadata": {},
     "output_type": "execute_result"
    }
   ],
   "source": [
    "s = 'sapm'\n",
    "s.upper()"
   ]
  },
  {
   "cell_type": "code",
   "execution_count": 58,
   "metadata": {},
   "outputs": [
    {
     "ename": "SyntaxError",
     "evalue": "invalid syntax (<ipython-input-58-25530fab3493>, line 1)",
     "output_type": "error",
     "traceback": [
      "\u001b[1;36m  File \u001b[1;32m\"<ipython-input-58-25530fab3493>\"\u001b[1;36m, line \u001b[1;32m1\u001b[0m\n\u001b[1;33m    X.__add__ = lambda(y):88 + y\u001b[0m\n\u001b[1;37m                      ^\u001b[0m\n\u001b[1;31mSyntaxError\u001b[0m\u001b[1;31m:\u001b[0m invalid syntax\n"
     ]
    }
   ],
   "source": [
    "# 由于这类方法的搜索不是从实例开始的，所以在实例上重载也没用\n",
    "X.__add__ = lambda y:88 + y \n",
    "X + 1"
   ]
  },
  {
   "cell_type": "code",
   "execution_count": 60,
   "metadata": {},
   "outputs": [
    {
     "data": {
      "text/plain": "3"
     },
     "execution_count": 60,
     "metadata": {},
     "output_type": "execute_result"
    }
   ],
   "source": [
    "len(x) # 通过在类中重载则有用，因为会直接取类里面搜索"
   ]
  },
  {
   "cell_type": "code",
   "execution_count": 61,
   "metadata": {},
   "outputs": [],
   "source": [
    "class C1:pass"
   ]
  },
  {
   "cell_type": "code",
   "execution_count": 62,
   "metadata": {},
   "outputs": [],
   "source": [
    "I = C1()"
   ]
  },
  {
   "cell_type": "code",
   "execution_count": 66,
   "metadata": {},
   "outputs": [
    {
     "data": {
      "text/plain": "(__main__.C1, __main__.C1, type)"
     },
     "execution_count": 66,
     "metadata": {},
     "output_type": "execute_result"
    }
   ],
   "source": [
    "type(I), I.__class__, C1.__class__"
   ]
  },
  {
   "cell_type": "code",
   "execution_count": 65,
   "metadata": {},
   "outputs": [
    {
     "data": {
      "text/plain": "type"
     },
     "execution_count": 65,
     "metadata": {},
     "output_type": "execute_result"
    }
   ],
   "source": [
    "type(type)"
   ]
  },
  {
   "cell_type": "markdown",
   "execution_count": null,
   "metadata": {},
   "outputs": [],
   "source": [
    "所以新式类就要求，为普通方法名定义`__getattr__`，为内置运算重新定义\n",
    "\n",
    "### 类型模型改变\n",
    "\n",
    "类和类型是一样的，类是type对象的实例，而类产生它们自己实例。两者都可以视为类型，因为它们都生成实例。类是类型，类型也是类"
   ]
  },
  {
   "cell_type": "code",
   "execution_count": 69,
   "metadata": {},
   "outputs": [
    {
     "data": {
      "text/plain": "(True, True, True)"
     },
     "execution_count": 69,
     "metadata": {},
     "output_type": "execute_result"
    }
   ],
   "source": [
    "isinstance(list, object), isinstance(dict, object), isinstance(C1, object)"
   ]
  },
  {
   "cell_type": "code",
   "execution_count": 71,
   "metadata": {},
   "outputs": [
    {
     "data": {
      "text/plain": "(type, type, True)"
     },
     "execution_count": 71,
     "metadata": {},
     "output_type": "execute_result"
    }
   ],
   "source": [
    "type(type), type(object), isinstance(type, object) # 这里有点晕哟"
   ]
  },
  {
   "cell_type": "code",
   "execution_count": 72,
   "metadata": {},
   "outputs": [
    {
     "data": {
      "text/plain": "['__class__',\n '__delattr__',\n '__dir__',\n '__doc__',\n '__eq__',\n '__format__',\n '__ge__',\n '__getattribute__',\n '__gt__',\n '__hash__',\n '__init__',\n '__init_subclass__',\n '__le__',\n '__lt__',\n '__ne__',\n '__new__',\n '__reduce__',\n '__reduce_ex__',\n '__repr__',\n '__setattr__',\n '__sizeof__',\n '__str__',\n '__subclasshook__']"
     },
     "execution_count": 72,
     "metadata": {},
     "output_type": "execute_result"
    }
   ],
   "source": [
    "dir(object) # 全是内置类型啊"
   ]
  },
  {
   "cell_type": "markdown",
   "execution_count": null,
   "metadata": {},
   "outputs": [],
   "source": [
    "### 钻石继承\n",
    "\n",
    "当多个父类继承于同一个父类时，形状类似钻石，所以称为钻石继承，新式类中采用广度优先的继承顺序"
   ]
  },
  {
   "cell_type": "code",
   "execution_count": 1,
   "metadata": {},
   "outputs": [],
   "source": [
    "class A: attr = 1\n",
    "class B(A): pass\n",
    "class C(A): attr = 3\n",
    "class D(B, C): pass \n",
    "class E(B, C): attr = B.attr"
   ]
  },
  {
   "cell_type": "code",
   "execution_count": 2,
   "metadata": {},
   "outputs": [
    {
     "data": {
      "text/plain": "(3, 1)"
     },
     "execution_count": 2,
     "metadata": {},
     "output_type": "execute_result"
    }
   ],
   "source": [
    "x = D()\n",
    "y = E()\n",
    "x.attr, y.attr"
   ]
  },
  {
   "cell_type": "markdown",
   "execution_count": null,
   "metadata": {},
   "outputs": [],
   "source": [
    "上面的例子中x是D的实例，其中搜索顺序是D->B->C->A，结果在C中找到了\n",
    "\n",
    "y是E的实例，由于在E中指定了属性，搜索顺序就是 D->B->A, 结果找到了A中的值"
   ]
  },
  {
   "cell_type": "code",
   "execution_count": 3,
   "metadata": {},
   "outputs": [
    {
     "data": {
      "text/plain": "(__main__.D, __main__.B, __main__.C, __main__.A, object)"
     },
     "execution_count": 3,
     "metadata": {},
     "output_type": "execute_result"
    }
   ],
   "source": [
    "D.__mro__ # 搜索顺序"
   ]
  },
  {
   "cell_type": "markdown",
   "execution_count": null,
   "metadata": {},
   "outputs": [],
   "source": [
    "## 新式类扩展\n",
    "\n",
    "### slot 属性声明\n",
    "\n",
    "需要在class语句内将字符串名称顺序赋值给特殊变量`__slots__`，只有`__slots__`列表内的这些名称可赋值为实例属性。在引用前必须先赋值"
   ]
  },
  {
   "cell_type": "code",
   "execution_count": 4,
   "metadata": {},
   "outputs": [],
   "source": [
    "class limiter(object):\n",
    "    __slots__ = ['age', 'name', 'job']"
   ]
  },
  {
   "cell_type": "code",
   "execution_count": 5,
   "metadata": {},
   "outputs": [],
   "source": [
    "x = limiter()"
   ]
  },
  {
   "cell_type": "code",
   "execution_count": 6,
   "metadata": {},
   "outputs": [
    {
     "ename": "AttributeError",
     "evalue": "age",
     "output_type": "error",
     "traceback": [
      "\u001b[1;31m---------------------------------------------------------------------------\u001b[0m",
      "\u001b[1;31mAttributeError\u001b[0m                            Traceback (most recent call last)",
      "\u001b[1;32m<ipython-input-6-13fafa1197d0>\u001b[0m in \u001b[0;36m<module>\u001b[1;34m\u001b[0m\n\u001b[1;32m----> 1\u001b[1;33m \u001b[0mx\u001b[0m\u001b[1;33m.\u001b[0m\u001b[0mage\u001b[0m\u001b[1;33m\u001b[0m\u001b[1;33m\u001b[0m\u001b[0m\n\u001b[0m",
      "\u001b[1;31mAttributeError\u001b[0m: age"
     ]
    }
   ],
   "source": [
    "x.age # 未赋值"
   ]
  },
  {
   "cell_type": "code",
   "execution_count": 7,
   "metadata": {},
   "outputs": [
    {
     "data": {
      "text/plain": "40"
     },
     "execution_count": 7,
     "metadata": {},
     "output_type": "execute_result"
    }
   ],
   "source": [
    "x.age = 40\n",
    "x.age"
   ]
  },
  {
   "cell_type": "code",
   "execution_count": 8,
   "metadata": {},
   "outputs": [
    {
     "ename": "AttributeError",
     "evalue": "'limiter' object has no attribute 'aaa'",
     "output_type": "error",
     "traceback": [
      "\u001b[1;31m---------------------------------------------------------------------------\u001b[0m",
      "\u001b[1;31mAttributeError\u001b[0m                            Traceback (most recent call last)",
      "\u001b[1;32m<ipython-input-8-28cfcf14e010>\u001b[0m in \u001b[0;36m<module>\u001b[1;34m\u001b[0m\n\u001b[1;32m----> 1\u001b[1;33m \u001b[0mx\u001b[0m\u001b[1;33m.\u001b[0m\u001b[0maaa\u001b[0m \u001b[1;33m=\u001b[0m \u001b[1;36m40\u001b[0m\u001b[1;33m\u001b[0m\u001b[1;33m\u001b[0m\u001b[0m\n\u001b[0m",
      "\u001b[1;31mAttributeError\u001b[0m: 'limiter' object has no attribute 'aaa'"
     ]
    }
   ],
   "source": [
    "x.aaa = 40 # 不再slot内不能赋值"
   ]
  },
  {
   "cell_type": "markdown",
   "execution_count": null,
   "metadata": {},
   "outputs": [],
   "source": [
    "slot会使类模型复杂化，同时会复杂化那些依赖于slot的代码。"
   ]
  },
  {
   "cell_type": "markdown",
   "execution_count": 9,
   "metadata": {},
   "outputs": [
    {
     "ename": "SyntaxError",
     "evalue": "invalid character in identifier (<ipython-input-9-c52ecca09b9d>, line 1)",
     "output_type": "error",
     "traceback": [
      "\u001b[1;36m  File \u001b[1;32m\"<ipython-input-9-c52ecca09b9d>\"\u001b[1;36m, line \u001b[1;32m1\u001b[0m\n\u001b[1;33m    使用了slot后，实例会失去`__dict__`命名字典空间\u001b[0m\n\u001b[1;37m                 ^\u001b[0m\n\u001b[1;31mSyntaxError\u001b[0m\u001b[1;31m:\u001b[0m invalid character in identifier\n"
     ]
    }
   ],
   "source": [
    "使用了slot后，实例会失去`__dict__`命名字典空间,但是仍然可以用getattr, setattr, dir()访问"
   ]
  },
  {
   "cell_type": "code",
   "execution_count": 10,
   "metadata": {},
   "outputs": [
    {
     "ename": "AttributeError",
     "evalue": "'limiter' object has no attribute '__dict__'",
     "output_type": "error",
     "traceback": [
      "\u001b[1;31m---------------------------------------------------------------------------\u001b[0m",
      "\u001b[1;31mAttributeError\u001b[0m                            Traceback (most recent call last)",
      "\u001b[1;32m<ipython-input-10-101207a4ddc3>\u001b[0m in \u001b[0;36m<module>\u001b[1;34m\u001b[0m\n\u001b[1;32m----> 1\u001b[1;33m \u001b[0mx\u001b[0m\u001b[1;33m.\u001b[0m\u001b[0m__dict__\u001b[0m\u001b[1;33m\u001b[0m\u001b[1;33m\u001b[0m\u001b[0m\n\u001b[0m",
      "\u001b[1;31mAttributeError\u001b[0m: 'limiter' object has no attribute '__dict__'"
     ]
    }
   ],
   "source": [
    "x.__dict__"
   ]
  },
  {
   "cell_type": "code",
   "execution_count": 14,
   "metadata": {},
   "outputs": [
    {
     "data": {
      "text/plain": "50"
     },
     "execution_count": 14,
     "metadata": {},
     "output_type": "execute_result"
    }
   ],
   "source": [
    "setattr(x, 'age', 50)\n",
    "getattr(x, 'age')"
   ]
  },
  {
   "cell_type": "markdown",
   "execution_count": 15,
   "metadata": {},
   "outputs": [
    {
     "ename": "SyntaxError",
     "evalue": "invalid character in identifier (<ipython-input-15-2304e59fb5db>, line 1)",
     "output_type": "error",
     "traceback": [
      "\u001b[1;36m  File \u001b[1;32m\"<ipython-input-15-2304e59fb5db>\"\u001b[1;36m, line \u001b[1;32m1\u001b[0m\n\u001b[1;33m    如果没有了属性命名空间字典，将不能给不在slot列表中的实例赋值新的名称\u001b[0m\n\u001b[1;37m                                       ^\u001b[0m\n\u001b[1;31mSyntaxError\u001b[0m\u001b[1;31m:\u001b[0m invalid character in identifier\n"
     ]
    }
   ],
   "source": [
    "如果没有了属性命名空间字典，将不能给不在slot列表中的实例赋值新的名称"
   ]
  },
  {
   "cell_type": "code",
   "execution_count": 18,
   "metadata": {},
   "outputs": [],
   "source": [
    "class D:\n",
    "    __slots__ = ['a', 'b']\n",
    "    def __init__(self):\n",
    "        self.d = 10"
   ]
  },
  {
   "cell_type": "code",
   "execution_count": 19,
   "metadata": {},
   "outputs": [
    {
     "ename": "AttributeError",
     "evalue": "'D' object has no attribute 'd'",
     "output_type": "error",
     "traceback": [
      "\u001b[1;31m---------------------------------------------------------------------------\u001b[0m",
      "\u001b[1;31mAttributeError\u001b[0m                            Traceback (most recent call last)",
      "\u001b[1;32m<ipython-input-19-c54a2028ac38>\u001b[0m in \u001b[0;36m<module>\u001b[1;34m\u001b[0m\n\u001b[1;32m----> 1\u001b[1;33m \u001b[0mx\u001b[0m \u001b[1;33m=\u001b[0m \u001b[0mD\u001b[0m\u001b[1;33m(\u001b[0m\u001b[1;33m)\u001b[0m\u001b[1;33m\u001b[0m\u001b[1;33m\u001b[0m\u001b[0m\n\u001b[0m",
      "\u001b[1;32m<ipython-input-18-dc98484a6f6a>\u001b[0m in \u001b[0;36m__init__\u001b[1;34m(self)\u001b[0m\n\u001b[0;32m      2\u001b[0m     \u001b[0m__slots__\u001b[0m \u001b[1;33m=\u001b[0m \u001b[1;33m[\u001b[0m\u001b[1;34m'a'\u001b[0m\u001b[1;33m,\u001b[0m \u001b[1;34m'b'\u001b[0m\u001b[1;33m]\u001b[0m\u001b[1;33m\u001b[0m\u001b[1;33m\u001b[0m\u001b[0m\n\u001b[0;32m      3\u001b[0m     \u001b[1;32mdef\u001b[0m \u001b[0m__init__\u001b[0m\u001b[1;33m(\u001b[0m\u001b[0mself\u001b[0m\u001b[1;33m)\u001b[0m\u001b[1;33m:\u001b[0m\u001b[1;33m\u001b[0m\u001b[1;33m\u001b[0m\u001b[0m\n\u001b[1;32m----> 4\u001b[1;33m         \u001b[0mself\u001b[0m\u001b[1;33m.\u001b[0m\u001b[0md\u001b[0m \u001b[1;33m=\u001b[0m \u001b[1;36m10\u001b[0m\u001b[1;33m\u001b[0m\u001b[1;33m\u001b[0m\u001b[0m\n\u001b[0m",
      "\u001b[1;31mAttributeError\u001b[0m: 'D' object has no attribute 'd'"
     ]
    }
   ],
   "source": [
    "x = D() # d不在slots中，不能创建该属性"
   ]
  },
  {
   "cell_type": "markdown",
   "execution_count": 24,
   "metadata": {},
   "outputs": [
    {
     "ename": "SyntaxError",
     "evalue": "invalid syntax (<ipython-input-24-9361a07d8fb0>, line 1)",
     "output_type": "error",
     "traceback": [
      "\u001b[1;36m  File \u001b[1;32m\"<ipython-input-24-9361a07d8fb0>\"\u001b[1;36m, line \u001b[1;32m1\u001b[0m\n\u001b[1;33m    手动加入 `__dict__`\u001b[0m\n\u001b[1;37m         ^\u001b[0m\n\u001b[1;31mSyntaxError\u001b[0m\u001b[1;31m:\u001b[0m invalid syntax\n"
     ]
    }
   ],
   "source": [
    "手动加入 `__dict__`, 就可以添加自定义属性了"
   ]
  },
  {
   "cell_type": "code",
   "execution_count": 21,
   "metadata": {},
   "outputs": [],
   "source": [
    "class D:\n",
    "    __slots__ = ['a', 'b', '__dict__']\n",
    "    c = 50\n",
    "    def __init__(self):\n",
    "        self.d = 10"
   ]
  },
  {
   "cell_type": "code",
   "execution_count": 27,
   "metadata": {},
   "outputs": [
    {
     "data": {
      "text/plain": "(50,\n 10,\n {'d': 10},\n mappingproxy({'__module__': '__main__',\n               '__slots__': ['a', 'b', '__dict__'],\n               'c': 50,\n               '__init__': <function __main__.D.__init__(self)>,\n               'a': <member 'a' of 'D' objects>,\n               'b': <member 'b' of 'D' objects>,\n               '__dict__': <attribute '__dict__' of 'D' objects>,\n               '__doc__': None}),\n ['__class__',\n  '__delattr__',\n  '__dict__',\n  '__dir__',\n  '__doc__',\n  '__eq__',\n  '__format__',\n  '__ge__',\n  '__getattribute__',\n  '__gt__',\n  '__hash__',\n  '__init__',\n  '__init_subclass__',\n  '__le__',\n  '__lt__',\n  '__module__',\n  '__ne__',\n  '__new__',\n  '__reduce__',\n  '__reduce_ex__',\n  '__repr__',\n  '__setattr__',\n  '__sizeof__',\n  '__slots__',\n  '__str__',\n  '__subclasshook__',\n  'a',\n  'b',\n  'c'])"
     },
     "execution_count": 27,
     "metadata": {},
     "output_type": "execute_result"
    }
   ],
   "source": [
    "x = D()\n",
    "x.c, x.d, x.__dict__, D.__dict__, dir(D)"
   ]
  },
  {
   "cell_type": "markdown",
   "execution_count": null,
   "metadata": {},
   "outputs": [],
   "source": [
    "### 父类中的多个slots列表\n",
    "\n",
    "如果多个父类中都有slots列表的话，实例按照一般继承规则，获得类树中其他位置所有slot名称的并集"
   ]
  },
  {
   "cell_type": "code",
   "execution_count": 28,
   "metadata": {},
   "outputs": [],
   "source": [
    "class E:\n",
    "    __slots__ = ['c', 'd']"
   ]
  },
  {
   "cell_type": "code",
   "execution_count": 29,
   "metadata": {},
   "outputs": [],
   "source": [
    "class D(E):\n",
    "    __slots__ = ['a', '__dict__']"
   ]
  },
  {
   "cell_type": "code",
   "execution_count": 32,
   "metadata": {},
   "outputs": [
    {
     "data": {
      "text/plain": "(1, 2, 3, ['a', '__dict__'])"
     },
     "execution_count": 32,
     "metadata": {},
     "output_type": "execute_result"
    }
   ],
   "source": [
    "x = D()\n",
    "x.a = 1\n",
    "x.b = 2\n",
    "x.c = 3\n",
    "x.a, x.b, x.c, x.__slots__ # 可见它的slot并不包括父类的"
   ]
  },
  {
   "cell_type": "markdown",
   "execution_count": null,
   "metadata": {},
   "outputs": [],
   "source": [
    "### 使用规则\n",
    "\n",
    "- 父类中没有slot，子类中的将没有意义，因为会继承父类的`__dict__`\n",
    "- 如果子类没有slot，那么父类的也没意义，因为它会创建\n",
    "- 在slots中重新定义同名的属性，会让父类的没有意义\n",
    "- slot会组织类一级的默认名称"
   ]
  },
  {
   "cell_type": "markdown",
   "execution_count": null,
   "metadata": {},
   "outputs": [],
   "source": [
    "## Porperty 属性访问器\n",
    "\n",
    "Porperty 是一种被赋值给类属性名称的对象。porperty对于所有的类都可用,但对于拦截属性赋值则必须要求新式类才有效"
   ]
  },
  {
   "cell_type": "code",
   "execution_count": 2,
   "metadata": {},
   "outputs": [],
   "source": [
    "class properties(object):\n",
    "    def getage(self):\n",
    "        return 40\n",
    "    \n",
    "    def setage(self, value):\n",
    "        print('set age:%s' % value)\n",
    "        self.age = value \n",
    "\n",
    "    # 参数为三个访问器方法,获取，设置和删除\n",
    "    age = property(getage, setage, None, None)"
   ]
  },
  {
   "cell_type": "code",
   "execution_count": 8,
   "metadata": {},
   "outputs": [
    {
     "data": {
      "text/plain": "(40, {})"
     },
     "execution_count": 8,
     "metadata": {},
     "output_type": "execute_result"
    }
   ],
   "source": [
    "x = properties()\n",
    "# x.age = 42\n",
    "x.age, x.__dict__"
   ]
  },
  {
   "cell_type": "code",
   "execution_count": 7,
   "metadata": {},
   "outputs": [
    {
     "ename": "AttributeError",
     "evalue": "'properties' object has no attribute 'name'",
     "output_type": "error",
     "traceback": [
      "\u001b[1;31m---------------------------------------------------------------------------\u001b[0m",
      "\u001b[1;31mAttributeError\u001b[0m                            Traceback (most recent call last)",
      "\u001b[1;32m<ipython-input-7-7a8bb287c399>\u001b[0m in \u001b[0;36m<module>\u001b[1;34m\u001b[0m\n\u001b[1;32m----> 1\u001b[1;33m \u001b[0mx\u001b[0m\u001b[1;33m.\u001b[0m\u001b[0mname\u001b[0m\u001b[1;33m\u001b[0m\u001b[1;33m\u001b[0m\u001b[0m\n\u001b[0m",
      "\u001b[1;31mAttributeError\u001b[0m: 'properties' object has no attribute 'name'"
     ]
    }
   ],
   "source": [
    "x.name"
   ]
  },
  {
   "cell_type": "code",
   "execution_count": 10,
   "metadata": {},
   "outputs": [
    {
     "data": {
      "text/plain": "('lalla', {'job': 'lalla'})"
     },
     "execution_count": 10,
     "metadata": {},
     "output_type": "execute_result"
    }
   ],
   "source": [
    "x.job = 'lalla'\n",
    "x.job, x.__dict__"
   ]
  },
  {
   "cell_type": "markdown",
   "execution_count": null,
   "metadata": {},
   "outputs": [],
   "source": [
    "### `__getattribute__`和描述符\n",
    "\n",
    "`__getattribute__`能拦截所有属性的引用，而不局限于未定义的引用。除此之外，python还有专业化的属性拦截任务支持了属性描述符的概念。描述符带有`__get__`和`__set__`方法的类，被赋值给类属性并且能被实例继承，拦截对特定属性的读取和访问。"
   ]
  },
  {
   "cell_type": "code",
   "execution_count": 11,
   "metadata": {},
   "outputs": [],
   "source": [
    "class AgeDesc(object):\n",
    "    def __get__(self, instance, owner): \n",
    "        return 40\n",
    "    \n",
    "    def __set__(self, instance, value):\n",
    "        instance._age = value "
   ]
  },
  {
   "cell_type": "code",
   "execution_count": 12,
   "metadata": {},
   "outputs": [],
   "source": [
    "class descriptors(object):\n",
    "    age = AgeDesc()"
   ]
  },
  {
   "cell_type": "code",
   "execution_count": 13,
   "metadata": {},
   "outputs": [
    {
     "data": {
      "text/plain": "40"
     },
     "execution_count": 13,
     "metadata": {},
     "output_type": "execute_result"
    }
   ],
   "source": [
    "x = descriptors()\n",
    "x.age"
   ]
  },
  {
   "cell_type": "code",
   "execution_count": 14,
   "metadata": {},
   "outputs": [
    {
     "data": {
      "text/plain": "42"
     },
     "execution_count": 14,
     "metadata": {},
     "output_type": "execute_result"
    }
   ],
   "source": [
    "x.age = 42\n",
    "x._age "
   ]
  },
  {
   "cell_type": "markdown",
   "execution_count": null,
   "metadata": {},
   "outputs": [],
   "source": [
    "## 静态方法和类方法\n",
    "\n",
    "静态方法大致与类中简单的无实例函数的工作方式类似，而类方法则被传入一个类而不是一个实例。  \n",
    "静态方法是嵌套在一个类中的没有self参数的简单函数，并且旨在操作类属性而不是实例属性。静态方法不会接受一个自动的self参数，不管是通过一个类还是一个实例被调用。它们通常会记录横跨所有实例的信息，而不是为实例提供行为。  \n",
    "类方法是类的一种方法，传入给它们的第一位参数是一个类对象而不是一个实例对象，不管是通过一个实例或一个类调用它们。"
   ]
  },
  {
   "cell_type": "code",
   "execution_count": 1,
   "metadata": {},
   "outputs": [],
   "source": [
    "class Spam:\n",
    "    # 所有实例共享的属性\n",
    "    numInstances = 0\n",
    "    def __init__(self):\n",
    "        Spam.numInstances = Spam.numInstances + 1\n",
    "    def printNumInstances():\n",
    "        print('Number of instance created: ', Spam.numInstances)"
   ]
  },
  {
   "cell_type": "code",
   "execution_count": 2,
   "metadata": {},
   "outputs": [],
   "source": [
    "a = Spam()\n",
    "b = Spam()\n",
    "c = Spam()"
   ]
  },
  {
   "cell_type": "code",
   "execution_count": 5,
   "metadata": {},
   "outputs": [
    {
     "name": "stdout",
     "output_type": "stream",
     "text": "Number of instance created:  3\n"
    }
   ],
   "source": [
    "Spam.printNumInstances()"
   ]
  },
  {
   "cell_type": "code",
   "execution_count": 6,
   "metadata": {},
   "outputs": [
    {
     "ename": "TypeError",
     "evalue": "printNumInstances() takes 0 positional arguments but 1 was given",
     "output_type": "error",
     "traceback": [
      "\u001b[1;31m---------------------------------------------------------------------------\u001b[0m",
      "\u001b[1;31mTypeError\u001b[0m                                 Traceback (most recent call last)",
      "\u001b[1;32m<ipython-input-6-12d94b9bbd35>\u001b[0m in \u001b[0;36m<module>\u001b[1;34m\u001b[0m\n\u001b[1;32m----> 1\u001b[1;33m \u001b[0mc\u001b[0m\u001b[1;33m.\u001b[0m\u001b[0mprintNumInstances\u001b[0m\u001b[1;33m(\u001b[0m\u001b[1;33m)\u001b[0m\u001b[1;33m\u001b[0m\u001b[1;33m\u001b[0m\u001b[0m\n\u001b[0m",
      "\u001b[1;31mTypeError\u001b[0m: printNumInstances() takes 0 positional arguments but 1 was given"
     ]
    }
   ],
   "source": [
    "c.printNumInstances() # 不能通过实例调用，因为没有接受self的参数"
   ]
  },
  {
   "cell_type": "markdown",
   "execution_count": null,
   "metadata": {},
   "outputs": [],
   "source": [
    "### 使用静态方法和类方法"
   ]
  },
  {
   "cell_type": "code",
   "execution_count": 7,
   "metadata": {},
   "outputs": [],
   "source": [
    "class Methods:\n",
    "    # 实例方法\n",
    "    def imeth(self, x):\n",
    "        print([self, x])\n",
    "    \n",
    "    def smeth(x):\n",
    "        print([x])\n",
    "    \n",
    "    def cmeth(cls, x):\n",
    "        print([cls, x])\n",
    "        \n",
    "    # 静态方法\n",
    "    smeth = staticmethod(smeth)\n",
    "    # 类方法\n",
    "    cmeth = classmethod(cmeth)"
   ]
  },
  {
   "cell_type": "markdown",
   "execution_count": null,
   "metadata": {},
   "outputs": [],
   "source": [
    "### 使用静态方法计数实例"
   ]
  },
  {
   "cell_type": "code",
   "execution_count": 8,
   "metadata": {},
   "outputs": [],
   "source": [
    "class Spam:\n",
    "    # 所有实例共享的属性\n",
    "    numInstances = 0\n",
    "    def __init__(self):\n",
    "        Spam.numInstances = Spam.numInstances + 1\n",
    "\n",
    "    def printNumInstances():\n",
    "        print('Number of instance created: ', Spam.numInstances)\n",
    "    printNumInstances = staticmethod(printNumInstances)"
   ]
  },
  {
   "cell_type": "code",
   "execution_count": 9,
   "metadata": {},
   "outputs": [],
   "source": [
    "a = Spam()\n",
    "b = Spam()\n",
    "c = Spam()"
   ]
  },
  {
   "cell_type": "code",
   "execution_count": 12,
   "metadata": {},
   "outputs": [
    {
     "name": "stdout",
     "output_type": "stream",
     "text": "Number of instance created:  3\nNumber of instance created:  3\n"
    }
   ],
   "source": [
    "Spam.printNumInstances(),\n",
    "c.printNumInstances()"
   ]
  },
  {
   "cell_type": "markdown",
   "execution_count": null,
   "metadata": {},
   "outputs": [],
   "source": [
    "使用静态可以把函数名变成类作用域内的局部名称；而且把函数代码移到靠近其使用的地方；同时还能让子类通过继承来定制静态方法。"
   ]
  },
  {
   "cell_type": "code",
   "execution_count": 13,
   "metadata": {},
   "outputs": [],
   "source": [
    "class other(Spam):\n",
    "    pass "
   ]
  },
  {
   "cell_type": "code",
   "execution_count": 14,
   "metadata": {},
   "outputs": [
    {
     "data": {
      "text/plain": "4"
     },
     "execution_count": 14,
     "metadata": {},
     "output_type": "execute_result"
    }
   ],
   "source": [
    "c = other()\n",
    "c.numInstances # 继承的话会跟父类共享同一个变量"
   ]
  },
  {
   "cell_type": "markdown",
   "execution_count": null,
   "metadata": {},
   "outputs": [],
   "source": [
    "### 用类方法计数实例"
   ]
  },
  {
   "cell_type": "code",
   "execution_count": 15,
   "metadata": {},
   "outputs": [],
   "source": [
    "class Spam:\n",
    "    # 所有实例共享的属性\n",
    "    numInstances = 0\n",
    "    def __init__(self):\n",
    "        Spam.numInstances = Spam.numInstances + 1\n",
    "\n",
    "    def printNumInstances(cls):\n",
    "        print('Number of instance created: ', Spam.numInstances)\n",
    "    printNumInstances = classmethod(printNumInstances)"
   ]
  },
  {
   "cell_type": "code",
   "execution_count": 16,
   "metadata": {},
   "outputs": [],
   "source": [
    "a, b = Spam(), Spam()"
   ]
  },
  {
   "cell_type": "code",
   "execution_count": 18,
   "metadata": {},
   "outputs": [
    {
     "name": "stdout",
     "output_type": "stream",
     "text": "Number of instance created:  2\nNumber of instance created:  2\n"
    }
   ],
   "source": [
    "a.printNumInstances()\n",
    "Spam.printNumInstances()"
   ]
  },
  {
   "cell_type": "markdown",
   "execution_count": null,
   "metadata": {},
   "outputs": [],
   "source": [
    "## 装饰器和元类1\n",
    "\n",
    "函数装饰器：用来增强函数定义，同时为简单函数和类方法指明了特殊运算模式，也就是通过把简单函数和类方法包在一层额外的逻辑实现中，因而也常被称为一个元函数。  \n",
    "类装饰器：用来增强类定义，同样为类添加管理全体对象和其接口的支持。  \n",
    "函数装饰器可以被看作是它后边跟着的函数的运行时的声明。只需要单独一行，就写在函数或方法的def语句之前，包括@和元函数。效果类似于将函数传递给装饰器，并再赋值回最初的函数名。"
   ]
  },
  {
   "cell_type": "code",
   "execution_count": 4,
   "metadata": {},
   "outputs": [],
   "source": [
    "class tracer:\n",
    "    def __init__(self, func):\n",
    "        self.calls = 0\n",
    "        self.func = func \n",
    "    \n",
    "    def __call__(self, *args):\n",
    "        self.calls += 1\n",
    "        print('call %s to %s ' % (self.calls, self.func.__name__))\n",
    "        return self.func(*args)"
   ]
  },
  {
   "cell_type": "code",
   "execution_count": 5,
   "metadata": {},
   "outputs": [],
   "source": [
    "@tracer\n",
    "def spam(a, b, c):\n",
    "    return a + b + c "
   ]
  },
  {
   "cell_type": "code",
   "execution_count": 6,
   "metadata": {},
   "outputs": [
    {
     "name": "stdout",
     "output_type": "stream",
     "text": "call 1 to spam \n6\ncall 2 to spam \nabc\n"
    }
   ],
   "source": [
    "print(spam(1, 2, 3))\n",
    "print(spam('a', 'b', 'c'))"
   ]
  },
  {
   "cell_type": "code",
   "execution_count": 7,
   "metadata": {},
   "outputs": [],
   "source": [
    "@tracer\n",
    "def addd(a, b):\n",
    "    return a + b"
   ]
  },
  {
   "cell_type": "code",
   "execution_count": 8,
   "metadata": {},
   "outputs": [
    {
     "name": "stdout",
     "output_type": "stream",
     "text": "call 1 to addd \n3\n"
    }
   ],
   "source": [
    "print(addd(1, 2))"
   ]
  },
  {
   "cell_type": "markdown",
   "execution_count": null,
   "metadata": {},
   "outputs": [],
   "source": [
    "因为spam函数是通过tracer装饰器执行的，所以当原来的函数名spam被调用时，实际上触发的是类中的`__call__`方法。这个方法会计数并记录该次调用，然后委托给被包装的原来的函数。"
   ]
  },
  {
   "cell_type": "code",
   "execution_count": 10,
   "metadata": {},
   "outputs": [],
   "source": [
    "def tracer2(func):\n",
    "    def oncall(*args):\n",
    "        oncall.calls += 1\n",
    "        print('call %s to %s' %(oncall.calls, func.__name__))\n",
    "        return func(*args)\n",
    "    oncall.calls = 0\n",
    "    return oncall"
   ]
  },
  {
   "cell_type": "code",
   "execution_count": 21,
   "metadata": {},
   "outputs": [],
   "source": [
    "@tracer2\n",
    "def addd(a, b):\n",
    "    return a + b\n",
    "# 等价于 tracer2(addd)(a, b)"
   ]
  },
  {
   "cell_type": "code",
   "execution_count": 12,
   "metadata": {},
   "outputs": [
    {
     "name": "stdout",
     "output_type": "stream",
     "text": "call 1 to addd\n3\n"
    }
   ],
   "source": [
    "print(addd(1, 2))"
   ]
  },
  {
   "cell_type": "code",
   "execution_count": 24,
   "metadata": {},
   "outputs": [
    {
     "name": "stdout",
     "output_type": "stream",
     "text": "call 1 to oncall\ncall 3 to addd\n"
    },
    {
     "data": {
      "text/plain": "3"
     },
     "execution_count": 24,
     "metadata": {},
     "output_type": "execute_result"
    }
   ],
   "source": [
    "tracer2(addd)(1, 2)"
   ]
  },
  {
   "cell_type": "code",
   "execution_count": 19,
   "metadata": {},
   "outputs": [],
   "source": [
    "class C:\n",
    "    @tracer2\n",
    "    def spam(self, a, b):\n",
    "        return a + b"
   ]
  },
  {
   "cell_type": "code",
   "execution_count": 20,
   "metadata": {},
   "outputs": [
    {
     "name": "stdout",
     "output_type": "stream",
     "text": "call 1 to spam\n3\ncall 2 to spam\n9\n"
    }
   ],
   "source": [
    "x = C()\n",
    "print(x.spam(1, 2))\n",
    "print(x.spam(4, 5))"
   ]
  },
  {
   "cell_type": "markdown",
   "execution_count": null,
   "metadata": {},
   "outputs": [],
   "source": [
    "## super内置函数\n",
    "\n",
    "内置super函数能够通用地调用父类地方法"
   ]
  },
  {
   "cell_type": "code",
   "execution_count": 25,
   "metadata": {},
   "outputs": [],
   "source": [
    "class C:\n",
    "    def act(self):\n",
    "        print('spam')"
   ]
  },
  {
   "cell_type": "code",
   "execution_count": 26,
   "metadata": {},
   "outputs": [],
   "source": [
    "class D(C):\n",
    "    def act(self):\n",
    "        super().act()\n",
    "        print('eggs')"
   ]
  },
  {
   "cell_type": "code",
   "execution_count": 27,
   "metadata": {},
   "outputs": [
    {
     "name": "stdout",
     "output_type": "stream",
     "text": "spam\neggs\n"
    }
   ],
   "source": [
    "x = D()\n",
    "x.act()"
   ]
  },
  {
   "cell_type": "markdown",
   "execution_count": null,
   "metadata": {},
   "outputs": [],
   "source": [
    "采用了super后，如果未来父类发生了改变，不需要更改代码。但是super通过检查调用栈来自动定位self参数和寻找父类，并且将self参数和父类配对在一个特殊地代理对象中，从而将之后地调用路由到父类地方法版本中。\n",
    "\n",
    "但是当多继承时就会引发问题："
   ]
  },
  {
   "cell_type": "code",
   "execution_count": 32,
   "metadata": {},
   "outputs": [],
   "source": [
    "class A:\n",
    "    def act(self):\n",
    "        print('A')\n",
    "\n",
    "class B:\n",
    "    def act(self):\n",
    "        print('B')\n",
    "\n",
    "class C(A, B):\n",
    "    def act(self):\n",
    "        super().act()"
   ]
  },
  {
   "cell_type": "code",
   "execution_count": 33,
   "metadata": {},
   "outputs": [
    {
     "name": "stdout",
     "output_type": "stream",
     "text": "A\n"
    }
   ],
   "source": [
    "x = C()\n",
    "x.act()"
   ]
  },
  {
   "cell_type": "markdown",
   "execution_count": 34,
   "metadata": {},
   "outputs": [
    {
     "ename": "SyntaxError",
     "evalue": "invalid character in identifier (<ipython-input-34-a23d932073e7>, line 1)",
     "output_type": "error",
     "traceback": [
      "\u001b[1;36m  File \u001b[1;32m\"<ipython-input-34-a23d932073e7>\"\u001b[1;36m, line \u001b[1;32m1\u001b[0m\n\u001b[1;33m    在多继承中，super总会取出左边第一个带有这一方法地类，可能并不是想要的。\u001b[0m\n\u001b[1;37m                                         ^\u001b[0m\n\u001b[1;31mSyntaxError\u001b[0m\u001b[1;31m:\u001b[0m invalid character in identifier\n"
     ]
    }
   ],
   "source": [
    "在多继承中，super总会取出左边第一个带有这一方法地类，可能并不是想要的。\n",
    "\n",
    "### super的优势：继承树的修改和分发\n",
    "\n",
    "- 在运行时改变类树：就是在子类中不硬编码父类的方法调用\n",
    "- 协同所继承方法的分发\n",
    "\n",
    "### 协同所继承方法的分发"
   ]
  },
  {
   "cell_type": "code",
   "execution_count": 35,
   "metadata": {},
   "outputs": [],
   "source": [
    "class A:\n",
    "    def __init__(self):\n",
    "        print('A.__init__')\n",
    "\n",
    "class B(A):\n",
    "    def __init__(self):\n",
    "        print('B.__init__')\n",
    "        A.__init__(self)\n",
    "\n",
    "class C(A):\n",
    "    def __init__(self):\n",
    "        print('C.__init__')\n",
    "        A.__init__(self)\n",
    "\n",
    "class D(B, C):\n",
    "    def __init__(self):\n",
    "        B.__init__(self)\n",
    "        C.__init__(self)"
   ]
  },
  {
   "cell_type": "code",
   "execution_count": 36,
   "metadata": {},
   "outputs": [
    {
     "name": "stdout",
     "output_type": "stream",
     "text": "B.__init__\nA.__init__\nC.__init__\nA.__init__\n"
    }
   ],
   "source": [
    "x = D() # 可见A的构造函数调用两次"
   ]
  },
  {
   "cell_type": "code",
   "execution_count": 39,
   "metadata": {},
   "outputs": [],
   "source": [
    "class A:\n",
    "    def __init__(self):\n",
    "        print('A.__init__')\n",
    "\n",
    "class B(A):\n",
    "    def __init__(self):\n",
    "        print('B.__init__')\n",
    "        super().__init__()\n",
    "\n",
    "class C(A):\n",
    "    def __init__(self):\n",
    "        print('C.__init__')\n",
    "        super().__init__()\n",
    "\n",
    "class D(B, C):\n",
    "    pass "
   ]
  },
  {
   "cell_type": "code",
   "execution_count": 40,
   "metadata": {},
   "outputs": [
    {
     "name": "stdout",
     "output_type": "stream",
     "text": "B.__init__\nC.__init__\nA.__init__\n"
    }
   ],
   "source": [
    "x = D()"
   ]
  },
  {
   "cell_type": "code",
   "execution_count": 41,
   "metadata": {},
   "outputs": [
    {
     "data": {
      "text/plain": "(__main__.D, __main__.B, __main__.C, __main__.A, object)"
     },
     "execution_count": 41,
     "metadata": {},
     "output_type": "execute_result"
    }
   ],
   "source": [
    "D.__mro__"
   ]
  },
  {
   "cell_type": "markdown",
   "execution_count": null,
   "metadata": {},
   "outputs": [],
   "source": [
    "只要所有的类都采用了super调用，通过在MRO序列中选择下一个类，一个类方法中的super调用就能在类树上传递调用。D调用了B，B转发调用C，C调用A。如果没有都是用super调用，B就无法转发调用。"
   ]
  },
  {
   "cell_type": "code",
   "execution_count": 42,
   "metadata": {},
   "outputs": [],
   "source": [
    "class A:\n",
    "    def __init__(self):\n",
    "        print('A.__init__')\n",
    "\n",
    "class B(A):\n",
    "    def __init__(self):\n",
    "        print('B.__init__')\n",
    "        super().__init__()\n",
    "\n",
    "class C(A):\n",
    "    def __init__(self):\n",
    "        print('C.__init__')\n",
    "\n",
    "class D(B, C):\n",
    "    pass "
   ]
  },
  {
   "cell_type": "code",
   "execution_count": 43,
   "metadata": {},
   "outputs": [
    {
     "name": "stdout",
     "output_type": "stream",
     "text": "B.__init__\nC.__init__\n"
    }
   ],
   "source": [
    "c =D()"
   ]
  },
  {
   "cell_type": "code",
   "execution_count": 44,
   "metadata": {},
   "outputs": [],
   "source": [
    "class A:\n",
    "    def __init__(self):\n",
    "        print('A.__init__')\n",
    "\n",
    "class B(A):\n",
    "    def __init__(self):\n",
    "        print('B.__init__')\n",
    "\n",
    "class C(A):\n",
    "    def __init__(self):\n",
    "        print('C.__init__')\n",
    "        super().__init__()\n",
    "\n",
    "class D(B, C):\n",
    "    pass "
   ]
  },
  {
   "cell_type": "code",
   "execution_count": 45,
   "metadata": {},
   "outputs": [
    {
     "name": "stdout",
     "output_type": "stream",
     "text": "B.__init__\n"
    }
   ],
   "source": [
    "x = D()"
   ]
  },
  {
   "cell_type": "markdown",
   "execution_count": null,
   "metadata": {},
   "outputs": [],
   "source": [
    "## 类陷阱\n",
    "\n",
    "- 修改类属性可能会造成副作用\n",
    "- 修改可变类属性也坑你造成副作用\n",
    "- 多继承：顺序很重要\n",
    "- 方法和类中的作用域\n"
   ]
  }
 ]
}