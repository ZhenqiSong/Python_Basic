{
 "nbformat": 4,
 "nbformat_minor": 2,
 "metadata": {
  "language_info": {
   "name": "python",
   "codemirror_mode": {
    "name": "ipython",
    "version": 3
   }
  },
  "orig_nbformat": 2,
  "file_extension": ".py",
  "mimetype": "text/x-python",
  "name": "python",
  "npconvert_exporter": "python",
  "pygments_lexer": "ipython3",
  "version": 3
 },
 "cells": [
  {
   "cell_type": "markdown",
   "execution_count": null,
   "metadata": {},
   "outputs": [],
   "source": [
    "# 示例\n",
    "\n",
    "## 创建实例\n",
    "\n",
    "### 编写构造函数\n",
    "\n",
    "实例对象属性，通常通过给类方法函数中的self属性赋值来创建，给实例属性赋初值的常见方式是在__init__构造函数方法中将初值赋给self。  \n",
    "这样我们传入的数据作为构造函数方法的参数附加到一个实例上，并且将它们赋给self以长期持有。\n",
    "\n",
    "### 添加行为方法\n",
    "\n",
    "封装的思想就是把操作逻辑包包装到接口之后，这样每种操作在我们的程序里只会编写一次。通过这种方式，如果将来需要修改，那么只需修改一个版本。把操作放到方法中，还会使得这些操作可以应用于类的所有实例，而不是仅仅局限于将它们硬编码来处理这些对象。\n",
    "\n",
    "### 运算符重载\n",
    "\n",
    "__repr__\n",
    "\n",
    "### 通过编写子类定制行为\n",
    "\n",
    "重新定义子类中的方法以使其特殊化\n",
    "\n",
    "### 定制构造函数\n",
    "\n",
    "向父类的初始化步骤中添加逻辑\n",
    "\n",
    "### 内省工具\n",
    "\n",
    "使用内省工具可以访问对象实现的内部机制的一些特殊属性和函数。\n",
    "\n",
    "- `instace.__class__`提供了一个实例创建它的类的链接。同时还有__name__， __base__\n",
    "- 内置的`object.__dict__`提供了一个字典，将所有命名空间对象中的属性都存储为键值对。\n",
    "\n",
    "### 将对象存储到数据库中\n",
    "\n",
    "如果关闭python，实例也将消失，因为它们使内存中的临时性对象，而没有存储到文件中。\n",
    "\n",
    "- pickle: 实现任意python对象与字节串之间的序列化和解序列化\n",
    "- dbm: 实现一个通过键访问的文件系统，存储字节串\n",
    "- shelve: 使用以上两个模块，将对象存储到文件中；按照键来存储pickle处理后对象。"
   ]
  }
 ]
}