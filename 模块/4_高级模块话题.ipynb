{
 "nbformat": 4,
 "nbformat_minor": 2,
 "metadata": {
  "language_info": {
   "name": "python",
   "codemirror_mode": {
    "name": "ipython",
    "version": 3
   },
   "version": "3.7.4"
  },
  "orig_nbformat": 2,
  "file_extension": ".py",
  "mimetype": "text/x-python",
  "name": "python",
  "npconvert_exporter": "python",
  "pygments_lexer": "ipython3",
  "version": 3
 },
 "cells": [
  {
   "cell_type": "markdown",
   "execution_count": null,
   "metadata": {},
   "outputs": [],
   "source": [
    "# 高级模块话题\n",
    "\n",
    "## 模块设计概念\n",
    "\n",
    "- 在python中你总是位于某个模块内\n",
    "- 最小化模块耦合，全局变量\n",
    "- 最大化模块内聚，统一的目标\n",
    "- 尽可能不去更改其他模块的比那辆\n",
    "\n",
    "## 数据隐藏\n",
    "\n",
    "### _x\n",
    "\n",
    "在名称前面加上一个单独的下划线，可以防止使用from*导入模块时将带下划线的名称赋值出来；但是使用import依然可以\n",
    "\n",
    "### __all__\n",
    "\n",
    "在模块顶层，把变量名字符串列表赋值给变量`__all__`,其中的值会被导入，类似白名单，不在__all__中的不会被导入，同样只对from*有效\n",
    "\n",
    "### __feature__\n",
    "\n",
    "可以使用一些新版本python中的功能，如python2使用Python3中的真除\n",
    "\n",
    "### __name__ 和 __main__\n",
    "\n",
    "- 如果文件作为顶层程序文件执行，在启动时__name__就会被设置为字符串__main__\n",
    "- 如果文件被导入，_name__就会设成模块名\n",
    "\n",
    "```python\n",
    "# 判断是执行还是导入 \n",
    "if __name__ == \"__main__\":\n",
    "    pass \n",
    "```"
   ]
  },
  {
   "cell_type": "markdown",
   "execution_count": null,
   "metadata": {},
   "outputs": [],
   "source": [
    "## 修改模块搜索路径"
   ]
  },
  {
   "cell_type": "code",
   "execution_count": 1,
   "metadata": {},
   "outputs": [
    {
     "data": {
      "text/plain": "['C:\\\\Users\\\\SongZQ\\\\AppData\\\\Local\\\\Temp\\\\0c4885f4-18be-4523-96b0-b4d486224a52',\n 'D:\\\\Anaconda3\\\\python37.zip',\n 'D:\\\\Anaconda3\\\\DLLs',\n 'D:\\\\Anaconda3\\\\lib',\n 'D:\\\\Anaconda3',\n '',\n 'D:\\\\Anaconda3\\\\lib\\\\site-packages',\n 'D:\\\\Anaconda3\\\\lib\\\\site-packages\\\\win32',\n 'D:\\\\Anaconda3\\\\lib\\\\site-packages\\\\win32\\\\lib',\n 'D:\\\\Anaconda3\\\\lib\\\\site-packages\\\\Pythonwin',\n 'D:\\\\Anaconda3\\\\lib\\\\site-packages\\\\IPython\\\\extensions',\n 'C:\\\\Users\\\\SongZQ\\\\.ipython']"
     },
     "execution_count": 1,
     "metadata": {},
     "output_type": "execute_result"
    }
   ],
   "source": [
    "import sys \n",
    "sys.path "
   ]
  },
  {
   "cell_type": "code",
   "execution_count": null,
   "metadata": {},
   "outputs": [],
   "source": [
    "sys.path.append(\"c:\\\\\") # 添加新的路径\n",
    "sys.path.insert(0, \"..\") "
   ]
  },
  {
   "cell_type": "markdown",
   "execution_count": null,
   "metadata": {},
   "outputs": [],
   "source": [
    "## as 扩展\n",
    "\n",
    "```python\n",
    "import modulename as name \n",
    "from library import newname as oldname\n",
    "\n",
    "# 等价于\n",
    "import modulename\n",
    "name modulename\n",
    "del modulename\n",
    "```"
   ]
  },
  {
   "cell_type": "markdown",
   "execution_count": null,
   "metadata": {},
   "outputs": [],
   "source": [
    "## 用名称字符串导入模块"
   ]
  },
  {
   "cell_type": "code",
   "execution_count": 2,
   "metadata": {},
   "outputs": [
    {
     "data": {
      "text/plain": "<module 'string' from 'D:\\\\Anaconda3\\\\lib\\\\string.py'>"
     },
     "execution_count": 2,
     "metadata": {},
     "output_type": "execute_result"
    }
   ],
   "source": [
    "modename = \"string\"\n",
    "exec(\"import \" + modename)\n",
    "string "
   ]
  },
  {
   "cell_type": "code",
   "execution_count": 3,
   "metadata": {},
   "outputs": [
    {
     "data": {
      "text/plain": "<module 'math' (built-in)>"
     },
     "execution_count": 3,
     "metadata": {},
     "output_type": "execute_result"
    }
   ],
   "source": [
    "modename = \"math\"\n",
    "string = __import__(modename)\n",
    "string "
   ]
  },
  {
   "cell_type": "code",
   "execution_count": 4,
   "metadata": {},
   "outputs": [
    {
     "data": {
      "text/plain": "<module 'json' from 'D:\\\\Anaconda3\\\\lib\\\\json\\\\__init__.py'>"
     },
     "execution_count": 4,
     "metadata": {},
     "output_type": "execute_result"
    }
   ],
   "source": [
    "## 推荐方式\n",
    "import importlib\n",
    "modename = \"json\"\n",
    "string = importlib.import_module(modename)\n",
    "string "
   ]
  },
  {
   "cell_type": "code",
   "execution_count": null,
   "metadata": {},
   "outputs": [],
   "source": []
  }
 ]
}