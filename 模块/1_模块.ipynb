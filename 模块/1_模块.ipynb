{
 "nbformat": 4,
 "nbformat_minor": 2,
 "metadata": {
  "language_info": {
   "name": "python",
   "codemirror_mode": {
    "name": "ipython",
    "version": 3
   },
   "version": "3.7.4"
  },
  "orig_nbformat": 2,
  "file_extension": ".py",
  "mimetype": "text/x-python",
  "name": "python",
  "npconvert_exporter": "python",
  "pygments_lexer": "ipython3",
  "version": 3
 },
 "cells": [
  {
   "cell_type": "markdown",
   "execution_count": null,
   "metadata": {},
   "outputs": [],
   "source": [
    "# 模块\n",
    "\n",
    "## 为啥用模块\n",
    "\n",
    "模块提供自包含的变量的包，从而将部件组织为系统的一种可行方式，导入给予了对模块的全局作用域中的名称的访问权。\n",
    "\n",
    "- 代码重用\n",
    "- 系统命名空间的划分\n",
    "- 实现共享的服务和数据\n",
    "\n",
    "## Python程序架构\n",
    "\n",
    "python程序拥有一个主体的顶层文件，辅以零个或多个模块支持文件。模块提供了主文件使用的工具函数等。\n",
    "\n",
    "## 模块标准库\n",
    "\n",
    "python自带了很多实用的模块，称为标准库。\n",
    "\n",
    "## import的工作方式\n",
    "\n",
    "- 找到模块文件\n",
    "- 编译成字节码\n",
    "- 执行模块的代码来创建其所定义的对象\n",
    "\n",
    "只有在程序执行期间模块第一次导入时会进行上面的操作\n",
    "\n",
    "### 搜索\n",
    "\n",
    "必须查找到import语句所引用的模块文件，在导入时不用指明模块的路径，python会使用标准模块搜索路径来找出对应的模块文件。\n",
    "\n",
    "### 编译\n",
    "\n",
    "编译是将模块编译成字节码，如果已经存在字节码，并且不比源代码旧和python版本相同，则跳过编译，直接加载。否则重新编译。\n",
    "\n",
    "### 运行\n",
    "\n",
    "执行字节码，文件中所有的语句将从头到尾依次执行，而此步骤中任何对名称的赋值运算，都会产生所得模块对象的属性。\n",
    "\n",
    "## 字节码文件\n",
    "\n",
    "python3.2之后存在一个`__pycache__`的子路径下，字节码文件后缀为`.pyc`，不同python版本的命名不一样，所以避免了不同版本的覆盖问题。\n",
    "\n",
    "## 模块搜索路径\n",
    "\n",
    "- 程序主目录\n",
    "- PYTHONPATH目录\n",
    "- 标准库目录\n",
    "- 任何.pth文件中的内容\n",
    "- 第三方扩展应用的`site-packages`主目录\n",
    "上面五个路径组成了`sys.path`\n",
    "\n",
    "### 主目录\n",
    "\n",
    "自动导入，包含程序定成脚本文件的目录，优先搜索，因此可能覆盖同名模块\n",
    "\n",
    "### PYTHONPATH目录\n",
    "\n",
    "需要预先设置，尤其是文件跨目录时\n",
    "\n",
    "### 标准库目录\n",
    "\n",
    "自动搜索安装在机器上的标准库模块目录。一定会被搜索\n",
    "\n",
    "### .pth文件目录\n",
    "\n",
    "将需要的目录添加到模块搜索路径中去，也就是后缀为`.pth`的文本文件中一行一行的列出目录。\n",
    "\n",
    "### 第三方扩展应用的`Lib\\site-packages`目录"
   ]
  },
  {
   "cell_type": "code",
   "execution_count": 1,
   "metadata": {},
   "outputs": [],
   "source": [
    "import sys "
   ]
  },
  {
   "cell_type": "code",
   "execution_count": 2,
   "metadata": {},
   "outputs": [
    {
     "data": {
      "text/plain": "['C:\\\\Users\\\\SongZQ\\\\AppData\\\\Local\\\\Temp\\\\557ba71d-d44b-42f6-8412-2d68a44e0001',\n 'D:\\\\Anaconda3\\\\python37.zip',\n 'D:\\\\Anaconda3\\\\DLLs',\n 'D:\\\\Anaconda3\\\\lib',\n 'D:\\\\Anaconda3',\n '',\n 'D:\\\\Anaconda3\\\\lib\\\\site-packages',\n 'D:\\\\Anaconda3\\\\lib\\\\site-packages\\\\win32',\n 'D:\\\\Anaconda3\\\\lib\\\\site-packages\\\\win32\\\\lib',\n 'D:\\\\Anaconda3\\\\lib\\\\site-packages\\\\Pythonwin',\n 'D:\\\\Anaconda3\\\\lib\\\\site-packages\\\\IPython\\\\extensions',\n 'C:\\\\Users\\\\SongZQ\\\\.ipython']"
     },
     "execution_count": 2,
     "metadata": {},
     "output_type": "execute_result"
    }
   ],
   "source": [
    "sys.path"
   ]
  },
  {
   "cell_type": "markdown",
   "execution_count": null,
   "metadata": {},
   "outputs": [],
   "source": [
    "## 导入的文件类型\n",
    "\n",
    "- 源代码文件 `.py`\n",
    "- 字节码文件 `.pyc`\n",
    "- 优化字节码文件 `.pyo`\n",
    "- 目录b,对于包导入而言\n",
    "- 编译扩展模块，导入时使用动态链接，`.so`,`.dll`,`.pyd`\n",
    "- C编写的编译好的内置模块，静态连接至Python\n",
    "- ZIP文件组件，导入时自动解压\n",
    "- 内存内镜像，用于冻结可执行文件而言\n",
    "- Java类，用于Jython\n",
    "- Net组件，Ironpython\n",
    "\n",
    "同名时优先级覆盖\n",
    "\n",
    "## 第三方工具 distutils\n",
    "\n",
    "针对第三方扩展，如果有`setup.py`脚本，执行脚本会进行程序的安装，该脚本导入并使用`distutils`模块，安装到属于模块自动搜索路径一部分的目录中。"
   ]
  },
  {
   "cell_type": "code",
   "execution_count": null,
   "metadata": {},
   "outputs": [],
   "source": []
  }
 ]
}