{
 "nbformat": 4,
 "nbformat_minor": 2,
 "metadata": {
  "language_info": {
   "name": "python",
   "codemirror_mode": {
    "name": "ipython",
    "version": 3
   },
   "version": "3.7.4"
  },
  "orig_nbformat": 2,
  "file_extension": ".py",
  "mimetype": "text/x-python",
  "name": "python",
  "npconvert_exporter": "python",
  "pygments_lexer": "ipython3",
  "version": 3
 },
 "cells": [
  {
   "cell_type": "markdown",
   "execution_count": null,
   "metadata": {},
   "outputs": [],
   "source": [
    "# 模块代码编写基础\n",
    "\n",
    "## 模块的创建\n",
    "\n",
    "模块文件名应该以.py结尾，因为模块名在python程序中会变成变量名，因此要遵循变量名的命令规则。\n",
    "\n",
    "## 模块的使用\n",
    "\n",
    "`import`会整体读取一个模块，所以必须借助点号才能获取其中的名称；而`from`将从模块中取出特定的名称。\n",
    "\n",
    "### import 语句\n",
    "\n",
    "识别要被载入的外部文件，同时会称为脚本中的变量，在文件加载后可用于引用模块对象。\n",
    "```python \n",
    "import module1\n",
    "module1.p1\n",
    "```\n",
    "\n",
    "### from 语句\n",
    "\n",
    "from语句会把特定的名称从一个文件复制到另一个作用域，所以可以直接在脚本中使用复制后的名称，不需要通过模块。\n",
    "```python \n",
    "from module1 import p1 \n",
    "p1 \n",
    "```\n",
    "\n",
    "### from* 语句 \n",
    "\n",
    "from的特殊形式，使用*代表特定的名称时，会取得模块顶层被赋值的所有名称的副本。\n",
    "\n",
    "### 导入只发生一次\n",
    "\n",
    "模块文件中的定成程序代码通常只执行一次，定义的变量在第一次导入时才会进行初始化，第二次及以后的导入不会重新执行该模块的代码，只是从内部模块表中取出以创建的模块对象。\n",
    "\n",
    "### import 和 from 是赋值语句\n",
    "\n",
    "import和from是可执行的语句，可以出现在嵌套语句中，可以出现在def语句中。\n",
    "\n",
    "以from复制的名称会变成共享对象的引用，所以坑你会修改可变对象的值。"
   ]
  },
  {
   "cell_type": "markdown",
   "execution_count": null,
   "metadata": {},
   "outputs": [],
   "source": [
    "## 模块命名空间\n",
    "\n",
    "模块就是命名空间，存在于一个模块内的名称被称为模块对象的属性。\n",
    "\n",
    "- 模块语句会在首次导入时执行\n",
    "- 顶层的赋值语句会创建模块属性\n",
    "- 模块的命名空间可以通过属性`__dict__`或`dir()`来获取。\n",
    "- 模块是一个独立的作用域"
   ]
  },
  {
   "cell_type": "code",
   "execution_count": 1,
   "metadata": {},
   "outputs": [],
   "source": [
    "import math"
   ]
  },
  {
   "cell_type": "code",
   "execution_count": 3,
   "metadata": {},
   "outputs": [
    {
     "data": {
      "text/plain": "{'__name__': 'math',\n '__doc__': 'This module provides access to the mathematical functions\\ndefined by the C standard.',\n '__package__': '',\n '__loader__': _frozen_importlib.BuiltinImporter,\n '__spec__': ModuleSpec(name='math', loader=<class '_frozen_importlib.BuiltinImporter'>, origin='built-in'),\n 'acos': <function math.acos(x, /)>,\n 'acosh': <function math.acosh(x, /)>,\n 'asin': <function math.asin(x, /)>,\n 'asinh': <function math.asinh(x, /)>,\n 'atan': <function math.atan(x, /)>,\n 'atan2': <function math.atan2(y, x, /)>,\n 'atanh': <function math.atanh(x, /)>,\n 'ceil': <function math.ceil(x, /)>,\n 'copysign': <function math.copysign(x, y, /)>,\n 'cos': <function math.cos(x, /)>,\n 'cosh': <function math.cosh(x, /)>,\n 'degrees': <function math.degrees(x, /)>,\n 'erf': <function math.erf(x, /)>,\n 'erfc': <function math.erfc(x, /)>,\n 'exp': <function math.exp(x, /)>,\n 'expm1': <function math.expm1(x, /)>,\n 'fabs': <function math.fabs(x, /)>,\n 'factorial': <function math.factorial(x, /)>,\n 'floor': <function math.floor(x, /)>,\n 'fmod': <function math.fmod(x, y, /)>,\n 'frexp': <function math.frexp(x, /)>,\n 'fsum': <function math.fsum(seq, /)>,\n 'gamma': <function math.gamma(x, /)>,\n 'gcd': <function math.gcd(x, y, /)>,\n 'hypot': <function math.hypot(x, y, /)>,\n 'isclose': <function math.isclose(a, b, *, rel_tol=1e-09, abs_tol=0.0)>,\n 'isfinite': <function math.isfinite(x, /)>,\n 'isinf': <function math.isinf(x, /)>,\n 'isnan': <function math.isnan(x, /)>,\n 'ldexp': <function math.ldexp(x, i, /)>,\n 'lgamma': <function math.lgamma(x, /)>,\n 'log': <function math.log>,\n 'log1p': <function math.log1p(x, /)>,\n 'log10': <function math.log10(x, /)>,\n 'log2': <function math.log2(x, /)>,\n 'modf': <function math.modf(x, /)>,\n 'pow': <function math.pow(x, y, /)>,\n 'radians': <function math.radians(x, /)>,\n 'remainder': <function math.remainder(x, y, /)>,\n 'sin': <function math.sin(x, /)>,\n 'sinh': <function math.sinh(x, /)>,\n 'sqrt': <function math.sqrt(x, /)>,\n 'tan': <function math.tan(x, /)>,\n 'tanh': <function math.tanh(x, /)>,\n 'trunc': <function math.trunc(x, /)>,\n 'pi': 3.141592653589793,\n 'e': 2.718281828459045,\n 'tau': 6.283185307179586,\n 'inf': inf,\n 'nan': nan}"
     },
     "execution_count": 3,
     "metadata": {},
     "output_type": "execute_result"
    }
   ],
   "source": [
    "math.__dict__"
   ]
  },
  {
   "cell_type": "markdown",
   "execution_count": null,
   "metadata": {},
   "outputs": [],
   "source": [
    "## 重新加载模块\n",
    "\n",
    "要强制使模块代码重新载入并重新运行，那么你必须现实的要求python这么做。使用`reload`内置函数。\n",
    "\n",
    "- reload 在python中是一个函数，而不是一条语句\n",
    "- reload传入的参数是一个已经存在的模块对象，而不是一个新的名称\n",
    "- reload在python3中位于模块之中，并且必须导入才能使用。"
   ]
  },
  {
   "cell_type": "code",
   "execution_count": 4,
   "metadata": {},
   "outputs": [
    {
     "data": {
      "text/plain": "<module 'math' (built-in)>"
     },
     "execution_count": 4,
     "metadata": {},
     "output_type": "execute_result"
    }
   ],
   "source": [
    "import math \n",
    "from imp import reload\n",
    "reload(math) # 是个函数，不是语句"
   ]
  },
  {
   "cell_type": "markdown",
   "execution_count": null,
   "metadata": {},
   "outputs": [],
   "source": [
    "- reload 会在模块当前命名空间内执行模块代码文件的新代码\n",
    "- 文件中顶层赋值语句会将名称替换为新的值\n",
    "- 重新加载会影响所有使用import读取了模块的用户程序\n",
    "- 重新加载只会对以后使用from的用于程序造成影响，之前使用的不会\n",
    "- 重新加载只适用于单一的模块"
   ]
  }
 ]
}