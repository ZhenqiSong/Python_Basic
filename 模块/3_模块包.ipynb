{
 "nbformat": 4,
 "nbformat_minor": 2,
 "metadata": {
  "language_info": {
   "name": "python",
   "codemirror_mode": {
    "name": "ipython",
    "version": 3
   },
   "version": "3.7.4"
  },
  "orig_nbformat": 2,
  "file_extension": ".py",
  "mimetype": "text/x-python",
  "name": "python",
  "npconvert_exporter": "python",
  "pygments_lexer": "ipython3",
  "version": 3
 },
 "cells": [
  {
   "cell_type": "markdown",
   "execution_count": null,
   "metadata": {},
   "outputs": [],
   "source": [
    "# 模块包\n",
    "\n",
    "## 包导入模型\n",
    "\n",
    "```python\n",
    "import dir1.dir2.mod\n",
    "```\n",
    "带点号的路径对应于机器上目录层次的路径，通过这个路径可以获取文件`mod.py`。\n",
    "\n",
    "## __init__.py 包文件\n",
    "\n",
    "如果使用包导入，必须在每个目录中有`__init__.py`文件\n",
    "\n",
    "- dir0\\dir1\\dir2\\mod.py \n",
    "```python\n",
    "import dir1.dir2.mod\n",
    "```\n",
    "\n",
    "- dir1 和 dir2 中必须有__init__.py文件\n",
    "- dir0是容器，不需要该文件\n",
    "- dir0必须在搜索路径的sys.path中\n",
    "\n",
    "### 包初始化文件的作用\n",
    "- 包初始化：当python首次导入某个目录是，会自动执行该目录下的`__init__.py` 文件中的所有程序代码\n",
    "- 模块使用的声明：声明一个路径是python包\n",
    "- 模块命名空间的初始化：脚本中的目录路径在导入后会变成真实的嵌套对象路径\n",
    "- from*语句行为： \n",
    "    在初始化文件中定义`__all__`列表来规定目录以`from*`语句形式导入时，应该导入的子模块的名称清单。如果没有设定`__all__`，不会自动加载嵌套于该目录下的子模块；而只加载`__init__`中赋值语句定义的名称，包含该文件中程序代码显式导入的任何子模块。"
   ]
  },
  {
   "cell_type": "code",
   "execution_count": 4,
   "metadata": {},
   "outputs": [],
   "source": [
    "import sys\n",
    "sys.path.append(r\"E:\\Python\\Python_Basic\\模块\\03\")"
   ]
  },
  {
   "cell_type": "code",
   "execution_count": 5,
   "metadata": {},
   "outputs": [
    {
     "name": "stdout",
     "output_type": "stream",
     "text": "dir1 init\ndir2 init\nin mod.py\n"
    }
   ],
   "source": [
    "import dir1.dir2.mod"
   ]
  },
  {
   "cell_type": "code",
   "execution_count": 6,
   "metadata": {},
   "outputs": [],
   "source": [
    "from imp import reload"
   ]
  },
  {
   "cell_type": "code",
   "execution_count": 7,
   "metadata": {},
   "outputs": [
    {
     "name": "stdout",
     "output_type": "stream",
     "text": "dir1 init\n"
    },
    {
     "data": {
      "text/plain": "<module 'dir1' from 'E:\\\\Python\\\\Python_Basic\\\\模块\\\\03\\\\dir1\\\\__init__.py'>"
     },
     "execution_count": 7,
     "metadata": {},
     "output_type": "execute_result"
    }
   ],
   "source": [
    "reload(dir1)"
   ]
  },
  {
   "cell_type": "code",
   "execution_count": 8,
   "metadata": {},
   "outputs": [
    {
     "data": {
      "text/plain": "<module 'dir1' from 'E:\\\\Python\\\\Python_Basic\\\\模块\\\\03\\\\dir1\\\\__init__.py'>"
     },
     "execution_count": 8,
     "metadata": {},
     "output_type": "execute_result"
    }
   ],
   "source": [
    "dir1"
   ]
  },
  {
   "cell_type": "code",
   "execution_count": 9,
   "metadata": {},
   "outputs": [
    {
     "data": {
      "text/plain": "1"
     },
     "execution_count": 9,
     "metadata": {},
     "output_type": "execute_result"
    }
   ],
   "source": [
    "dir1.x"
   ]
  },
  {
   "cell_type": "markdown",
   "execution_count": 10,
   "metadata": {},
   "outputs": [
    {
     "ename": "NameError",
     "evalue": "name 'dir2' is not defined",
     "output_type": "error",
     "traceback": [
      "\u001b[1;31m---------------------------------------------------------------------------\u001b[0m",
      "\u001b[1;31mNameError\u001b[0m                                 Traceback (most recent call last)",
      "\u001b[1;32m<ipython-input-10-7710802289b3>\u001b[0m in \u001b[0;36m<module>\u001b[1;34m\u001b[0m\n\u001b[1;32m----> 1\u001b[1;33m \u001b[0mdir2\u001b[0m\u001b[1;33m\u001b[0m\u001b[1;33m\u001b[0m\u001b[0m\n\u001b[0m",
      "\u001b[1;31mNameError\u001b[0m: name 'dir2' is not defined"
     ]
    }
   ],
   "source": [
    "### 包导入的作用\n",
    "- 加上了包的路径信息，可以给编码者提供更多参考信息\n",
    "- 解决了不同包中模块重名的问题"
   ]
  },
  {
   "cell_type": "markdown",
   "execution_count": null,
   "metadata": {},
   "outputs": [],
   "source": [
    "## 包相对导入\n",
    "\n",
    "包内的导入可以相对于包，而不需要列出包导入路径。在python3中：\n",
    "- 修改了模块导入搜索路径语义，从而默认地跳过包自己地目录，只检查sys.path列表中地搜索路径。称为绝对导入\n",
    "- 扩展了from语句的语法，以及允许显式地导入只搜索包地目录。称为相对导入语法。\n",
    "\n",
    "也就是说在python3中，必须使用特殊地from语法来导入与导入者位于同一个包内地模块，否则就要使用从sys.path出发的包的根目录的完整的路径，。\n",
    "\n",
    "相对导入，from语句使用以点号开头的子句来导入位于同一包中的模块。点号仅对from有用，对import无用，import始终是绝对导入\n",
    "```python\n",
    "from . import spam\n",
    "from .. import spam # 从父级目录中导入\n",
    "```\n",
    "\n",
    "- 相对导入只适用于包内部导入\n",
    "- 相对导入只能用于from语句"
   ]
  },
  {
   "cell_type": "markdown",
   "execution_count": null,
   "metadata": {},
   "outputs": [],
   "source": [
    "## 命名空间包\n",
    "\n",
    "命名空间包与普通包并没有本质的区别，顶层仍然是想到对于sys.path。  \n",
    "命名空间包不可以含有__init__.py文件，而且可以横跨多个路径"
   ]
  }
 ]
}