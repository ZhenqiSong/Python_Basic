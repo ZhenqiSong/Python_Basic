{
 "nbformat": 4,
 "nbformat_minor": 2,
 "metadata": {
  "language_info": {
   "name": "python",
   "codemirror_mode": {
    "name": "ipython",
    "version": 3
   },
   "version": "3.7.4"
  },
  "orig_nbformat": 2,
  "file_extension": ".py",
  "mimetype": "text/x-python",
  "name": "python",
  "npconvert_exporter": "python",
  "pygments_lexer": "ipython3",
  "version": 3
 },
 "cells": [
  {
   "cell_type": "markdown",
   "execution_count": null,
   "metadata": {},
   "outputs": [],
   "source": [
    "# 异常的设计\n",
    "\n",
    "## 嵌套异常处理\n",
    "\n",
    "try语句是可以嵌套的，python会将try语句放入栈，当异常发生时，python会回到最近进入，具有相符except分句的try语句。然后向上传递到较高的处理程序。一旦异常被捕获，其生命就结束了，控制权并不会跳回所有匹配该异常、相符的try语句，只有第一个匹配的try有机会对它进行处理。、\n",
    "\n",
    "而当try/finally语句嵌套发生异常时，每个嵌套的finally代码都会依次执行；直到碰到能处理对应异常的except语句"
   ]
  },
  {
   "cell_type": "code",
   "execution_count": 1,
   "metadata": {},
   "outputs": [],
   "source": [
    "def action2():\n",
    "    print(1 + [])\n",
    "\n",
    "def action1():\n",
    "    try:\n",
    "        action2()\n",
    "    except TypeError:\n",
    "        print('inner try')"
   ]
  },
  {
   "cell_type": "code",
   "execution_count": 2,
   "metadata": {},
   "outputs": [
    {
     "name": "stdout",
     "output_type": "stream",
     "text": "inner try\n"
    }
   ],
   "source": [
    "# 会在首次except匹配时拦截\n",
    "try:\n",
    "    action1()\n",
    "except TypeError:\n",
    "    print('outer try')"
   ]
  },
  {
   "cell_type": "code",
   "execution_count": 3,
   "metadata": {},
   "outputs": [],
   "source": [
    "def raise1(): raise IndexError\n",
    "def noraise(): return \n",
    "def raise2(): raise SyntaxError"
   ]
  },
  {
   "cell_type": "code",
   "execution_count": 4,
   "metadata": {},
   "outputs": [
    {
     "name": "stdout",
     "output_type": "stream",
     "text": "<raise1>\ncaught IndexError\nfinally run\n...\n<noraise>\nfinally run\n...\n<raise2>\nfinally run\n"
    },
    {
     "ename": "SyntaxError",
     "evalue": "None (<string>)",
     "output_type": "error",
     "traceback": [
      "Traceback \u001b[1;36m(most recent call last)\u001b[0m:\n",
      "  File \u001b[0;32m\"D:\\Anaconda3\\lib\\site-packages\\IPython\\core\\interactiveshell.py\"\u001b[0m, line \u001b[0;32m3326\u001b[0m, in \u001b[0;35mrun_code\u001b[0m\n    exec(code_obj, self.user_global_ns, self.user_ns)\n",
      "  File \u001b[0;32m\"<ipython-input-4-ebc9ca96b541>\"\u001b[0m, line \u001b[0;32m5\u001b[0m, in \u001b[0;35m<module>\u001b[0m\n    func()\n",
      "\u001b[1;36m  File \u001b[1;32m\"<ipython-input-3-3f7a020e9fc8>\"\u001b[1;36m, line \u001b[1;32m3\u001b[1;36m, in \u001b[1;35mraise2\u001b[1;36m\u001b[0m\n\u001b[1;33m    def raise2(): raise SyntaxError\u001b[0m\n",
      "\u001b[1;36m  File \u001b[1;32m\"<string>\"\u001b[1;36m, line \u001b[1;32munknown\u001b[0m\n\u001b[1;31mSyntaxError\u001b[0m\n"
     ]
    }
   ],
   "source": [
    "for func in (raise1, noraise, raise2):\n",
    "    print('<%s>' % func.__name__)\n",
    "    try:\n",
    "        try:\n",
    "            func()\n",
    "        except IndexError:\n",
    "            print('caught IndexError')\n",
    "    finally:\n",
    "        print('finally run')\n",
    "    print('...')"
   ]
  },
  {
   "cell_type": "markdown",
   "execution_count": null,
   "metadata": {},
   "outputs": [],
   "source": [
    "## 异常的习惯用法\n",
    "\n",
    "### 跳出多重循环\n",
    "\n",
    "python中的break只能跳出一个最近的外围循环，但是可以利用异常来跳出更多层的循环"
   ]
  },
  {
   "cell_type": "code",
   "execution_count": 5,
   "metadata": {},
   "outputs": [],
   "source": [
    "class Exitloop(Exception): pass"
   ]
  },
  {
   "cell_type": "code",
   "execution_count": 8,
   "metadata": {},
   "outputs": [
    {
     "name": "stdout",
     "output_type": "stream",
     "text": "loop3 : 0\nloop3 : 1\nloop3 : 2\nloop3 : 3\ncontinuing\n"
    }
   ],
   "source": [
    "try:\n",
    "    while True:\n",
    "        while True:\n",
    "            for i in range(10):\n",
    "                if i > 3:\n",
    "                    raise Exitloop\n",
    "                print('loop3 : %s' % i)\n",
    "            print('loop2')\n",
    "        print('loop1')\n",
    "except Exitloop:\n",
    "    print('continuing')"
   ]
  },
  {
   "cell_type": "markdown",
   "execution_count": null,
   "metadata": {},
   "outputs": [],
   "source": [
    "如果把这里的raise 换成 break, 则会得到一个无限循环，只能退出for循环，然后进入loop2,没有终止条件会一直循环下去"
   ]
  },
  {
   "cell_type": "markdown",
   "execution_count": null,
   "metadata": {},
   "outputs": [],
   "source": [
    "### 异常并不总是错误\n",
    "\n",
    "所有错误都是异常，但是并非所有异常都是错误。如文件读到最后，或者调用sys.exit()\n",
    "\n",
    "### 函数可以用raise语句触发状况\n",
    "\n",
    "用户定义的异常也可以用于触发非错误的状况。例如函数可以写成找到相应数据后引发异常，而不是返回一个状态标志来告知调用者。\n",
    "\n",
    "### 断开文件或服务器连接\n",
    "\n",
    "使用finally，可以保证发生异常后，始终能够断开服务\n",
    "\n",
    "### 使用外层try语句辅助调试\n",
    "\n",
    "可以利用异常处理程序取代python的默认顶层异常处理行为。通过把整段顶层程序包在一个外层的try语句中，可以捕捉任何程序执行时会引发的异常，从而改变默认的程序终止行为。"
   ]
  },
  {
   "cell_type": "code",
   "execution_count": 9,
   "metadata": {},
   "outputs": [
    {
     "name": "stdout",
     "output_type": "stream",
     "text": "<class 'IndexError'> \n"
    }
   ],
   "source": [
    "try:\n",
    "    raise IndexError\n",
    "except:\n",
    "    import sys\n",
    "    print(sys.exc_info()[0], sys.exc_info()[1])"
   ]
  },
  {
   "cell_type": "markdown",
   "execution_count": null,
   "metadata": {},
   "outputs": [],
   "source": [
    "### sys.exc_info \n",
    "\n",
    "exc_info 允许异常处理程序获取对最近引发的异常的访问。当不想盲目的使用空except分句来捕获每个异常以确定引发了什么的时候，这种方式尤其有用。\n",
    "\n",
    "如果没有正在处理的异常，这一调用返回一个包含三个None值的元组，否则，将会返回(type, Value, traceback)\n",
    "- type 正在处理异常的类型\n",
    "- value 被引发的异常类实例\n",
    "- traceback 跟踪对象，代表异常最初发生时所调用的栈。"
   ]
  },
  {
   "cell_type": "markdown",
   "execution_count": null,
   "metadata": {},
   "outputs": [],
   "source": [
    "## 异常设计的建议和缺陷\n",
    "\n",
    "### 应该包装什么\n",
    "\n",
    "- 经常会失败的一般都应该包装在try语句内\n",
    "- 应该在 try/finally中实现终止动作，从而保证它们的执行，除非存在可使上下文管理器作为with/as的可选方案\n",
    "- 把对大型函数的调用包装在单个try语句内，而不是向函数本身中放入零散的try语句内。\n",
    "\n",
    "### 避免空的except分句和Exception异常\n",
    "避免涵盖太广。\n",
    "\n",
    "### 捕获过少\n",
    "\n",
    "处理程序也不应过于具体。当在try中列出特定的异常时，只能捕捉实力列出的异常。可用层次的类异常解决"
   ]
  }
 ]
}