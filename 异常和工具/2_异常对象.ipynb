{
 "nbformat": 4,
 "nbformat_minor": 2,
 "metadata": {
  "language_info": {
   "name": "python",
   "codemirror_mode": {
    "name": "ipython",
    "version": 3
   },
   "version": "3.6.9"
  },
  "orig_nbformat": 2,
  "file_extension": ".py",
  "mimetype": "text/x-python",
  "name": "python",
  "npconvert_exporter": "python",
  "pygments_lexer": "ipython3",
  "version": 3
 },
 "cells": [
  {
   "cell_type": "markdown",
   "execution_count": null,
   "metadata": {},
   "outputs": [],
   "source": [
    "# 异常对象\n",
    "\n",
    "## 编写异常类\n"
   ]
  },
  {
   "cell_type": "code",
   "execution_count": 1,
   "metadata": {},
   "outputs": [],
   "source": [
    "class General(Exception):pass \n",
    "class Specific1(General):pass\n",
    "class Specific2(General):pass "
   ]
  },
  {
   "cell_type": "code",
   "execution_count": 2,
   "metadata": {},
   "outputs": [],
   "source": [
    "def  raise0():\n",
    "    x = General()\n",
    "    raise x "
   ]
  },
  {
   "cell_type": "code",
   "execution_count": 3,
   "metadata": {},
   "outputs": [],
   "source": [
    "def  raise1():\n",
    "    x = Specific1()\n",
    "    raise x "
   ]
  },
  {
   "cell_type": "code",
   "execution_count": 4,
   "metadata": {},
   "outputs": [],
   "source": [
    "def raise2():\n",
    "    x = Specific2()\n",
    "    raise x"
   ]
  },
  {
   "cell_type": "code",
   "execution_count": 5,
   "metadata": {},
   "outputs": [
    {
     "name": "stdout",
     "output_type": "stream",
     "text": "caught: <class '__main__.General'>\ncaught: <class '__main__.Specific1'>\ncaught: <class '__main__.Specific2'>\n"
    }
   ],
   "source": [
    "for func in (raise0, raise1, raise2):\n",
    "    try:\n",
    "        func()\n",
    "    except General:\n",
    "        import sys \n",
    "        print('caught: %s' % sys.exc_info()[0])"
   ]
  },
  {
   "cell_type": "code",
   "execution_count": 7,
   "metadata": {},
   "outputs": [
    {
     "name": "stdout",
     "output_type": "stream",
     "text": "caught: <class '__main__.General'>\ncaught: <class '__main__.Specific1'>\ncaught: <class '__main__.Specific2'>\n"
    }
   ],
   "source": [
    "for func in (raise0, raise1, raise2):\n",
    "    try:\n",
    "        func()\n",
    "    except General as X:\n",
    "        # 如果是空的except则不能获得类别\n",
    "        print('caught: %s' % X.__class__)"
   ]
  },
  {
   "cell_type": "markdown",
   "execution_count": null,
   "metadata": {},
   "outputs": [],
   "source": [
    "假设个函数有Ｎ种可能的异常，那么需要try里捕捉所有的异常，一种方法时，在except中列出所有可能的异常，还有就是使用空的except语句。但是列出所有的异常，当添加新的可能的异常时，需要修改try中列出异常种类。\n",
    "\n",
    "然而采用层级的，只要列出所有异常的共同父类，当然是自定义异常更好了。"
   ]
  },
  {
   "cell_type": "markdown",
   "execution_count": null,
   "metadata": {},
   "outputs": [],
   "source": [
    "## 内置异常类\n",
    "\n",
    "位于`__builtin__`模块内，同时也是标准库exceptions的属性。\n",
    "\n",
    "- `BaseException`　顶层根，打印和构造函数默认值。\n",
    "- `Exception` 用户定义异常的根，是除系统退出事件类外，所有其他内置异常的父类。BaseException的子类\n",
    "- `ArithmeticError`数值错误的根，Exception的子类，所有数值错误的父类\n",
    "- `LookupError` 索引错误，Exception的子类"
   ]
  },
  {
   "cell_type": "markdown",
   "execution_count": null,
   "metadata": {},
   "outputs": [],
   "source": [
    "### 默认打印和状态\n",
    "\n",
    "内置异常还提供了默认打印显示和状态保持功能，除非重新定义了类从它们集成来的构造函数，否则传递给这些类的任何构造函数参数都会自动保存在实例的args元组属性中，并且在打印时自动显示。如果没有传递构造函数参数，则使用一个空元祖和显示字符串；如果传递单一参数，则只显示他自己。"
   ]
  },
  {
   "cell_type": "code",
   "execution_count": 8,
   "metadata": {},
   "outputs": [
    {
     "ename": "IndexError",
     "evalue": "",
     "output_type": "error",
     "traceback": [
      "\u001b[0;31m---------------------------------------------------------------------------\u001b[0m",
      "\u001b[0;31mIndexError\u001b[0m                                Traceback (most recent call last)",
      "\u001b[0;32m<ipython-input-8-55a00e7db5b5>\u001b[0m in \u001b[0;36m<module>\u001b[0;34m\u001b[0m\n\u001b[0;32m----> 1\u001b[0;31m \u001b[0;32mraise\u001b[0m \u001b[0mIndexError\u001b[0m\u001b[0;34m\u001b[0m\u001b[0;34m\u001b[0m\u001b[0m\n\u001b[0m",
      "\u001b[0;31mIndexError\u001b[0m: "
     ]
    }
   ],
   "source": [
    "raise IndexError"
   ]
  },
  {
   "cell_type": "code",
   "execution_count": 11,
   "metadata": {},
   "outputs": [
    {
     "ename": "IndexError",
     "evalue": "('szq', 'lqf')",
     "output_type": "error",
     "traceback": [
      "\u001b[0;31m---------------------------------------------------------------------------\u001b[0m",
      "\u001b[0;31mIndexError\u001b[0m                                Traceback (most recent call last)",
      "\u001b[0;32m<ipython-input-11-6afde1c9491e>\u001b[0m in \u001b[0;36m<module>\u001b[0;34m\u001b[0m\n\u001b[0;32m----> 1\u001b[0;31m \u001b[0;32mraise\u001b[0m \u001b[0mIndexError\u001b[0m\u001b[0;34m(\u001b[0m\u001b[0;34m'szq'\u001b[0m\u001b[0;34m,\u001b[0m \u001b[0;34m'lqf'\u001b[0m\u001b[0;34m)\u001b[0m\u001b[0;34m\u001b[0m\u001b[0;34m\u001b[0m\u001b[0m\n\u001b[0m",
      "\u001b[0;31mIndexError\u001b[0m: ('szq', 'lqf')"
     ]
    }
   ],
   "source": [
    "raise IndexError('szq', 'lqf')"
   ]
  },
  {
   "cell_type": "code",
   "execution_count": 10,
   "metadata": {},
   "outputs": [
    {
     "data": {
      "text/plain": "('szq',)"
     },
     "execution_count": 10,
     "metadata": {},
     "output_type": "execute_result"
    }
   ],
   "source": [
    "I = IndexError('szq')\n",
    "I.args"
   ]
  },
  {
   "cell_type": "code",
   "execution_count": 12,
   "metadata": {},
   "outputs": [
    {
     "name": "stdout",
     "output_type": "stream",
     "text": "szq\n"
    }
   ],
   "source": [
    "try:\n",
    "    raise IndexError('szq')\n",
    "except Exception as X:\n",
    "    print(X)"
   ]
  },
  {
   "cell_type": "markdown",
   "execution_count": null,
   "metadata": {},
   "outputs": [],
   "source": [
    "## 定制的打印显示\n",
    "\n",
    "重载　`__str__`或`__repr__`"
   ]
  },
  {
   "cell_type": "code",
   "execution_count": 13,
   "metadata": {},
   "outputs": [],
   "source": [
    "class MyBad(Exception):\n",
    "    def __str__(self):\n",
    "        return 'aaaaaaaaaaaaaaaa'"
   ]
  },
  {
   "cell_type": "code",
   "execution_count": 15,
   "metadata": {},
   "outputs": [
    {
     "name": "stdout",
     "output_type": "stream",
     "text": "aaaaaaaaaaaaaaaa\n"
    }
   ],
   "source": [
    "try:\n",
    "    raise MyBad('szq')\n",
    "except Exception as x:\n",
    "    print(x)"
   ]
  },
  {
   "cell_type": "markdown",
   "execution_count": null,
   "metadata": {},
   "outputs": [],
   "source": [
    "## 定制的数据和行为\n",
    "\n",
    "除了支持灵活的层次结构，异常类还提供了把额外状态信息存储为实例属性的功能。\n",
    "\n",
    "### 提供异常细节"
   ]
  },
  {
   "cell_type": "code",
   "execution_count": 16,
   "metadata": {},
   "outputs": [],
   "source": [
    "class FormatError(Exception):\n",
    "    def __init__(self, line, file):\n",
    "        self.line = line\n",
    "        self.file = file"
   ]
  },
  {
   "cell_type": "code",
   "execution_count": 17,
   "metadata": {},
   "outputs": [],
   "source": [
    "def parser():\n",
    "    raise FormatError(42, file='szq.py')"
   ]
  },
  {
   "cell_type": "code",
   "execution_count": 18,
   "metadata": {},
   "outputs": [
    {
     "name": "stdout",
     "output_type": "stream",
     "text": "42 szq.py\n"
    }
   ],
   "source": [
    "try:\n",
    "    parser()\n",
    "except FormatError as X:\n",
    "    print(X.line, X.file)"
   ]
  },
  {
   "cell_type": "markdown",
   "execution_count": null,
   "metadata": {},
   "outputs": [],
   "source": [
    "除此之外，异常类也可以定义那些在处理器中调用的方法。"
   ]
  }
 ]
}