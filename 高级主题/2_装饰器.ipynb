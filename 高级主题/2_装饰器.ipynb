{
 "nbformat": 4,
 "nbformat_minor": 2,
 "metadata": {
  "language_info": {
   "name": "python",
   "codemirror_mode": {
    "name": "ipython",
    "version": 3
   },
   "version": "3.7.4-final"
  },
  "orig_nbformat": 2,
  "file_extension": ".py",
  "mimetype": "text/x-python",
  "name": "python",
  "npconvert_exporter": "python",
  "pygments_lexer": "ipython3",
  "version": 3,
  "kernelspec": {
   "name": "python37464bitbaseconda1d8b16d973234cfda91959fb664f3288",
   "display_name": "Python 3.7.4 64-bit ('base': conda)"
  }
 },
 "cells": [
  {
   "cell_type": "markdown",
   "execution_count": null,
   "metadata": {},
   "outputs": [],
   "source": [
    "# 装饰器\n",
    "\n",
    "## 概念\n",
    "\n",
    "装饰是为函数和类指定管理或扩增代码的一种方式。装饰器本身采用可调用对象的形式，并处理其他可调用对象\n",
    "\n",
    "- 函数装饰器： 在函数定义时进行名称重绑定，提供一个逻辑层来管理函数和方法，以及管理随后对它们的调用\n",
    "- 类装饰器：在类定义的时候进行名称重绑定，提供一个逻辑层来管理类，以及管理随后调用它们所创建的实例\n",
    "\n",
    "总而言之，装饰器提供了一种方法，在函数和类定义语句结束时插入自动运行的代码。\n",
    "\n",
    "## 基础\n",
    "\n",
    "### 函数装饰器\n",
    "\n",
    "函数装饰器是一种关于函数的运行时声明，函数的定义需要遵守此声明。装饰器在定义函数或方法的def语句的前一行编写，并且它由@符号以及紧随其后的对于元函数的一个引用组成-这是管理另一个函数的函数\n",
    "\n",
    "```python\n",
    "@decorator\n",
    "def F(args):\n",
    "    ...\n",
    "F(99)\n",
    "\n",
    "# 等价于\n",
    "def F(args):\n",
    "    ...\n",
    "F = decorator(F)\n",
    "F(99)\n",
    "```\n",
    "\n",
    "### 类装饰器\n",
    "\n",
    "类装饰器类似函数装饰器，只是它是管理类的一种方式，或是使用额外逻辑来完成实例构造调用的一种方式，这些额外的逻辑管理或扩展从类中创建的实例。\n",
    "\n",
    "```python \n",
    "@decorator\n",
    "class C:\n",
    "    ...\n",
    "x = C(99)\n",
    "```"
   ]
  },
  {
   "cell_type": "code",
   "execution_count": 1,
   "metadata": {},
   "outputs": [],
   "source": [
    "def decorator(cls):\n",
    "    class Wrapper:\n",
    "        def __init__(self, *args):\n",
    "            self.wrapped = cls(*args)\n",
    "\n",
    "        def __getattr__(self, name):\n",
    "            return getattr(self.wrapped, name)\n",
    "    return Wrapper"
   ]
  },
  {
   "cell_type": "code",
   "execution_count": 2,
   "metadata": {},
   "outputs": [],
   "source": [
    "@decorator\n",
    "class C:\n",
    "    def __init__(self, x, y):\n",
    "        self.attr = 'spam'"
   ]
  },
  {
   "cell_type": "code",
   "execution_count": 3,
   "metadata": {},
   "outputs": [
    {
     "name": "stdout",
     "output_type": "stream",
     "text": "spam\n"
    }
   ],
   "source": [
    "x = C(6, 7)\n",
    "print(x.attr)"
   ]
  },
  {
   "cell_type": "markdown",
   "execution_count": null,
   "metadata": {},
   "outputs": [],
   "source": [
    "装饰器把类的名称重新绑定到另一个类，这个类在外层作用域中保持了最初的类，并且当调用的时候，这个类创建并嵌入了最初类的一个实例。当之后从该实例获取一个属性的时候，包装器的`__getattr__`拦截了它，并且将其委托给最初的类的嵌入实例。\n",
    "\n",
    "### 装饰器嵌套\n",
    "```python\n",
    "@A\n",
    "@B\n",
    "def f():...\n",
    "\n",
    "def f(...):...\n",
    "f = A(B(f))\n",
    "```\n",
    "\n",
    "### 装饰器参数\n",
    "\n",
    "函数装饰器和类装饰器都能接受参数，但是实际上这些参数传递给了返回装饰器的一个可调用对象，而装饰器反过来又返回一个可调用对象。\n",
    "```python \n",
    "@decorator(A, B)\n",
    "def F(arg):...\n",
    "F(99)\n",
    "\n",
    "####################\n",
    "def F(args):...\n",
    "F = decorator(A, B)(F)\n",
    "\n",
    "F(99)\n",
    "```\n",
    "装饰器参数往往意味着可调用对象的三个层级：\n",
    "接受装饰器参数的一个可调用对象，它返回一个可调用对象以作为装饰器，该装饰器返回一个可调用对象来处理对最初的函数或类的调用。"
   ]
  },
  {
   "cell_type": "markdown",
   "execution_count": null,
   "metadata": {},
   "outputs": [],
   "source": [
    "## 编写函数装饰器\n",
    "\n",
    "### 跟踪调用"
   ]
  },
  {
   "cell_type": "code",
   "execution_count": 5,
   "metadata": {},
   "outputs": [],
   "source": [
    "class tracter:\n",
    "    def __init__(self, func):\n",
    "        self.calls = 0\n",
    "        self.func = func \n",
    "    \n",
    "    def __call__(self, *args):\n",
    "        self.calls += 1\n",
    "        print('call %s to %s' %(self.calls, self.func.__name__))\n",
    "        self.func(*args)"
   ]
  },
  {
   "cell_type": "code",
   "execution_count": 6,
   "metadata": {},
   "outputs": [],
   "source": [
    "@tracter\n",
    "def spam(a, b, c):\n",
    "    print(a + b + c)"
   ]
  },
  {
   "cell_type": "code",
   "execution_count": 7,
   "metadata": {},
   "outputs": [
    {
     "name": "stdout",
     "output_type": "stream",
     "text": "call 1 to spam\n6\n"
    }
   ],
   "source": [
    "spam(1, 2, 3)"
   ]
  },
  {
   "cell_type": "code",
   "execution_count": 8,
   "metadata": {},
   "outputs": [
    {
     "name": "stdout",
     "output_type": "stream",
     "text": "call 2 to spam\nabc\n"
    }
   ],
   "source": [
    "spam('a', 'b', 'c') # 其实调用的是装饰器的__call__"
   ]
  },
  {
   "cell_type": "code",
   "execution_count": 9,
   "metadata": {},
   "outputs": [
    {
     "data": {
      "text/plain": "2"
     },
     "execution_count": 9,
     "metadata": {},
     "output_type": "execute_result"
    }
   ],
   "source": [
    "spam.calls"
   ]
  },
  {
   "cell_type": "markdown",
   "execution_count": null,
   "metadata": {},
   "outputs": [],
   "source": [
    "其实上面的spam是一个tractor类的实例, 并且这个实例带有自己保存的函数对象和调用计数器，保存了被装饰函数，并且拦截了对被装饰函数的随后调用，以便添加一个统计和打印每次调用的逻辑层。"
   ]
  },
  {
   "cell_type": "code",
   "execution_count": 10,
   "metadata": {},
   "outputs": [
    {
     "data": {
      "text/plain": "<__main__.tracter at 0x1a56674bcc8>"
     },
     "execution_count": 10,
     "metadata": {},
     "output_type": "execute_result"
    }
   ],
   "source": [
    "spam"
   ]
  },
  {
   "cell_type": "markdown",
   "execution_count": null,
   "metadata": {},
   "outputs": [],
   "source": [
    "### 装饰器状态保持方案\n",
    "\n",
    "#### 类实例属性"
   ]
  },
  {
   "cell_type": "code",
   "execution_count": 11,
   "metadata": {},
   "outputs": [],
   "source": [
    "class tracter:\n",
    "    def __init__(self, func):\n",
    "        self.calls = 0\n",
    "        self.func = func \n",
    "    \n",
    "    def __call__(self, *args, **kwargs):\n",
    "        self.calls += 1\n",
    "        print('call %s to %s' %(self.calls, self.func.__name__))\n",
    "        self.func(*args, **kwargs)"
   ]
  },
  {
   "cell_type": "code",
   "execution_count": 12,
   "metadata": {},
   "outputs": [],
   "source": [
    "@tracter\n",
    "def spam(a, b, c):\n",
    "    print(a + b + c)"
   ]
  },
  {
   "cell_type": "code",
   "execution_count": 13,
   "metadata": {},
   "outputs": [],
   "source": [
    "@tracter\n",
    "def eggs(x, y):\n",
    "    print(x ** y)"
   ]
  },
  {
   "cell_type": "code",
   "execution_count": 14,
   "metadata": {},
   "outputs": [
    {
     "name": "stdout",
     "output_type": "stream",
     "text": "call 1 to spam\n6\ncall 2 to spam\n15\n"
    }
   ],
   "source": [
    "spam(1, 2, 3)\n",
    "spam(a=4, b=5, c=6)"
   ]
  },
  {
   "cell_type": "code",
   "execution_count": 15,
   "metadata": {},
   "outputs": [
    {
     "name": "stdout",
     "output_type": "stream",
     "text": "call 1 to eggs\n65536\ncall 2 to eggs\n256\n"
    }
   ],
   "source": [
    "eggs(2, 16)\n",
    "eggs(4, y=4)"
   ]
  },
  {
   "cell_type": "markdown",
   "execution_count": null,
   "metadata": {},
   "outputs": [],
   "source": [
    "上述例子中使用了实例属性 `self.calls`显式的保存状态，每个实例都有各自的计数器信息\n",
    "\n",
    "#### 外层作用域和全局变量\n",
    "\n",
    "闭包函数常常可以实现相同的效果，特别是用于被装饰器的最初函数这样的静态数据时"
   ]
  },
  {
   "cell_type": "code",
   "execution_count": 20,
   "metadata": {},
   "outputs": [],
   "source": [
    "calls = 0\n",
    "def tracer(func):\n",
    "    def warpper(*args, **kwargs):\n",
    "        global calls\n",
    "        calls += 1\n",
    "        print('call %s to %s'%(calls, func.__name__))\n",
    "        return func(*args, **kwargs)\n",
    "    return warpper"
   ]
  },
  {
   "cell_type": "code",
   "execution_count": 24,
   "metadata": {},
   "outputs": [],
   "source": [
    "@tracer\n",
    "def spam(a, b, c):\n",
    "    print(a + b + c)\n",
    "@tracer\n",
    "def eggs(x, y):\n",
    "    print(x ** y)"
   ]
  },
  {
   "cell_type": "code",
   "execution_count": 25,
   "metadata": {},
   "outputs": [
    {
     "name": "stdout",
     "output_type": "stream",
     "text": "call 1 to spam\n6\ncall 2 to spam\n15\n"
    }
   ],
   "source": [
    "spam(1, 2, 3)\n",
    "spam(a = 4, b= 5,c=6)"
   ]
  },
  {
   "cell_type": "code",
   "execution_count": 26,
   "metadata": {},
   "outputs": [
    {
     "name": "stdout",
     "output_type": "stream",
     "text": "call 3 to eggs\n1\n"
    }
   ],
   "source": [
    "eggs(1, 2) # 因为使用了全局变量"
   ]
  },
  {
   "cell_type": "markdown",
   "execution_count": null,
   "metadata": {},
   "outputs": [],
   "source": [
    "#### 外层作用域和非局部变量"
   ]
  },
  {
   "cell_type": "code",
   "execution_count": 27,
   "metadata": {},
   "outputs": [],
   "source": [
    "def tracer(func):\n",
    "    calls = 0\n",
    "    def warpper(*args, **kwargs):\n",
    "        nonlocal calls\n",
    "        calls += 1\n",
    "        print('call %s to %s'%(calls, func.__name__))\n",
    "        return func(*args, **kwargs)\n",
    "    return warpper"
   ]
  },
  {
   "cell_type": "code",
   "execution_count": 28,
   "metadata": {},
   "outputs": [],
   "source": [
    "@tracer\n",
    "def spam(a, b, c):\n",
    "    print(a + b + c)\n",
    "@tracer\n",
    "def eggs(x, y):\n",
    "    print(x ** y)"
   ]
  },
  {
   "cell_type": "code",
   "execution_count": 29,
   "metadata": {},
   "outputs": [
    {
     "name": "stdout",
     "output_type": "stream",
     "text": "call 1 to spam\n6\ncall 2 to spam\n15\n"
    }
   ],
   "source": [
    "spam(1, 2, 3)\n",
    "spam(a = 4, b= 5,c=6)"
   ]
  },
  {
   "cell_type": "code",
   "execution_count": 31,
   "metadata": {},
   "outputs": [
    {
     "name": "stdout",
     "output_type": "stream",
     "text": "call 2 to eggs\n1\n"
    }
   ],
   "source": [
    "eggs(1, 2) # 类似使用了实例属性，每个装饰器有自己的非局部变量"
   ]
  },
  {
   "cell_type": "markdown",
   "execution_count": null,
   "metadata": {},
   "outputs": [],
   "source": [
    "#### 函数属性"
   ]
  },
  {
   "cell_type": "code",
   "execution_count": 32,
   "metadata": {},
   "outputs": [],
   "source": [
    "def tracer(func):\n",
    "    def warpper(*args, **kwargs):\n",
    "        warpper.calls += 1\n",
    "        print('call %s to %s'%(warpper.calls, func.__name__))\n",
    "        return func(*args, **kwargs)\n",
    "    warpper.calls = 0\n",
    "    return warpper"
   ]
  },
  {
   "cell_type": "code",
   "execution_count": 33,
   "metadata": {},
   "outputs": [],
   "source": [
    "@tracer\n",
    "def spam(a, b, c):\n",
    "    print(a + b + c)\n",
    "@tracer\n",
    "def eggs(x, y):\n",
    "    print(x ** y)"
   ]
  },
  {
   "cell_type": "code",
   "execution_count": 35,
   "metadata": {},
   "outputs": [
    {
     "name": "stdout",
     "output_type": "stream",
     "text": "call 3 to spam\n6\n<function tracer.<locals>.warpper at 0x000001A566BB50D8>\ncall 4 to spam\n15\n<function tracer.<locals>.warpper at 0x000001A566BB50D8>\n"
    }
   ],
   "source": [
    "spam(1, 2, 3)\n",
    "print(spam)\n",
    "spam(a = 4, b= 5,c=6)\n",
    "print(spam)"
   ]
  },
  {
   "cell_type": "code",
   "execution_count": 36,
   "metadata": {},
   "outputs": [
    {
     "name": "stdout",
     "output_type": "stream",
     "text": "call 1 to eggs\n1\n"
    }
   ],
   "source": [
    "eggs(1, 2)"
   ]
  },
  {
   "cell_type": "markdown",
   "execution_count": null,
   "metadata": {},
   "outputs": [],
   "source": [
    "#### 添加装饰器参数"
   ]
  },
  {
   "cell_type": "code",
   "execution_count": 1,
   "metadata": {},
   "outputs": [],
   "source": [
    "import time"
   ]
  },
  {
   "cell_type": "code",
   "execution_count": 2,
   "metadata": {},
   "outputs": [],
   "source": [
    "def timer(label='', trace=True):\n",
    "    class Timer:\n",
    "        def __init__(self, func):\n",
    "            self.func = func\n",
    "            self.alltime = 0\n",
    "        \n",
    "        def __call__(self, *args, **kargs):\n",
    "            start = time.clock()\n",
    "            result = self.func(*args, **kargs)\n",
    "            elapsed = time.clock() - start \n",
    "            self.alltime += elapsed\n",
    "            if trace:\n",
    "                format = '%s %s: %.5f, %.5f'\n",
    "                value = (label, self.func.__name__, elapsed, self.alltime)\n",
    "                print(format, value)\n",
    "            return result\n",
    "        \n",
    "    return Timer"
   ]
  },
  {
   "cell_type": "code",
   "execution_count": 4,
   "metadata": {},
   "outputs": [
    {
     "name": "stdout",
     "output_type": "stream",
     "text": "%s %s: %.5f, %.5f ('[CCC]==>', 'listcomp', 0.0003523000000313914, 0.0003523000000313914)\nD:\\Anaconda3\\lib\\site-packages\\ipykernel_launcher.py:8: DeprecationWarning: time.clock has been deprecated in Python 3.3 and will be removed from Python 3.8: use time.perf_counter or time.process_time instead\n  \nD:\\Anaconda3\\lib\\site-packages\\ipykernel_launcher.py:10: DeprecationWarning: time.clock has been deprecated in Python 3.3 and will be removed from Python 3.8: use time.perf_counter or time.process_time instead\n  # Remove the CWD from sys.path while we load stuff.\n"
    },
    {
     "data": {
      "text/plain": "[0,\n 2,\n 4,\n 6,\n 8,\n 10,\n 12,\n 14,\n 16,\n 18,\n 20,\n 22,\n 24,\n 26,\n 28,\n 30,\n 32,\n 34,\n 36,\n 38,\n 40,\n 42,\n 44,\n 46,\n 48,\n 50,\n 52,\n 54,\n 56,\n 58,\n 60,\n 62,\n 64,\n 66,\n 68,\n 70,\n 72,\n 74,\n 76,\n 78,\n 80,\n 82,\n 84,\n 86,\n 88,\n 90,\n 92,\n 94,\n 96,\n 98,\n 100,\n 102,\n 104,\n 106,\n 108,\n 110,\n 112,\n 114,\n 116,\n 118,\n 120,\n 122,\n 124,\n 126,\n 128,\n 130,\n 132,\n 134,\n 136,\n 138,\n 140,\n 142,\n 144,\n 146,\n 148,\n 150,\n 152,\n 154,\n 156,\n 158,\n 160,\n 162,\n 164,\n 166,\n 168,\n 170,\n 172,\n 174,\n 176,\n 178,\n 180,\n 182,\n 184,\n 186,\n 188,\n 190,\n 192,\n 194,\n 196,\n 198,\n 200,\n 202,\n 204,\n 206,\n 208,\n 210,\n 212,\n 214,\n 216,\n 218,\n 220,\n 222,\n 224,\n 226,\n 228,\n 230,\n 232,\n 234,\n 236,\n 238,\n 240,\n 242,\n 244,\n 246,\n 248,\n 250,\n 252,\n 254,\n 256,\n 258,\n 260,\n 262,\n 264,\n 266,\n 268,\n 270,\n 272,\n 274,\n 276,\n 278,\n 280,\n 282,\n 284,\n 286,\n 288,\n 290,\n 292,\n 294,\n 296,\n 298,\n 300,\n 302,\n 304,\n 306,\n 308,\n 310,\n 312,\n 314,\n 316,\n 318,\n 320,\n 322,\n 324,\n 326,\n 328,\n 330,\n 332,\n 334,\n 336,\n 338,\n 340,\n 342,\n 344,\n 346,\n 348,\n 350,\n 352,\n 354,\n 356,\n 358,\n 360,\n 362,\n 364,\n 366,\n 368,\n 370,\n 372,\n 374,\n 376,\n 378,\n 380,\n 382,\n 384,\n 386,\n 388,\n 390,\n 392,\n 394,\n 396,\n 398,\n 400,\n 402,\n 404,\n 406,\n 408,\n 410,\n 412,\n 414,\n 416,\n 418,\n 420,\n 422,\n 424,\n 426,\n 428,\n 430,\n 432,\n 434,\n 436,\n 438,\n 440,\n 442,\n 444,\n 446,\n 448,\n 450,\n 452,\n 454,\n 456,\n 458,\n 460,\n 462,\n 464,\n 466,\n 468,\n 470,\n 472,\n 474,\n 476,\n 478,\n 480,\n 482,\n 484,\n 486,\n 488,\n 490,\n 492,\n 494,\n 496,\n 498,\n 500,\n 502,\n 504,\n 506,\n 508,\n 510,\n 512,\n 514,\n 516,\n 518,\n 520,\n 522,\n 524,\n 526,\n 528,\n 530,\n 532,\n 534,\n 536,\n 538,\n 540,\n 542,\n 544,\n 546,\n 548,\n 550,\n 552,\n 554,\n 556,\n 558,\n 560,\n 562,\n 564,\n 566,\n 568,\n 570,\n 572,\n 574,\n 576,\n 578,\n 580,\n 582,\n 584,\n 586,\n 588,\n 590,\n 592,\n 594,\n 596,\n 598,\n 600,\n 602,\n 604,\n 606,\n 608,\n 610,\n 612,\n 614,\n 616,\n 618,\n 620,\n 622,\n 624,\n 626,\n 628,\n 630,\n 632,\n 634,\n 636,\n 638,\n 640,\n 642,\n 644,\n 646,\n 648,\n 650,\n 652,\n 654,\n 656,\n 658,\n 660,\n 662,\n 664,\n 666,\n 668,\n 670,\n 672,\n 674,\n 676,\n 678,\n 680,\n 682,\n 684,\n 686,\n 688,\n 690,\n 692,\n 694,\n 696,\n 698,\n 700,\n 702,\n 704,\n 706,\n 708,\n 710,\n 712,\n 714,\n 716,\n 718,\n 720,\n 722,\n 724,\n 726,\n 728,\n 730,\n 732,\n 734,\n 736,\n 738,\n 740,\n 742,\n 744,\n 746,\n 748,\n 750,\n 752,\n 754,\n 756,\n 758,\n 760,\n 762,\n 764,\n 766,\n 768,\n 770,\n 772,\n 774,\n 776,\n 778,\n 780,\n 782,\n 784,\n 786,\n 788,\n 790,\n 792,\n 794,\n 796,\n 798,\n 800,\n 802,\n 804,\n 806,\n 808,\n 810,\n 812,\n 814,\n 816,\n 818,\n 820,\n 822,\n 824,\n 826,\n 828,\n 830,\n 832,\n 834,\n 836,\n 838,\n 840,\n 842,\n 844,\n 846,\n 848,\n 850,\n 852,\n 854,\n 856,\n 858,\n 860,\n 862,\n 864,\n 866,\n 868,\n 870,\n 872,\n 874,\n 876,\n 878,\n 880,\n 882,\n 884,\n 886,\n 888,\n 890,\n 892,\n 894,\n 896,\n 898,\n 900,\n 902,\n 904,\n 906,\n 908,\n 910,\n 912,\n 914,\n 916,\n 918,\n 920,\n 922,\n 924,\n 926,\n 928,\n 930,\n 932,\n 934,\n 936,\n 938,\n 940,\n 942,\n 944,\n 946,\n 948,\n 950,\n 952,\n 954,\n 956,\n 958,\n 960,\n 962,\n 964,\n 966,\n 968,\n 970,\n 972,\n 974,\n 976,\n 978,\n 980,\n 982,\n 984,\n 986,\n 988,\n 990,\n 992,\n 994,\n 996,\n 998,\n 1000,\n 1002,\n 1004,\n 1006,\n 1008,\n 1010,\n 1012,\n 1014,\n 1016,\n 1018,\n 1020,\n 1022,\n 1024,\n 1026,\n 1028,\n 1030,\n 1032,\n 1034,\n 1036,\n 1038,\n 1040,\n 1042,\n 1044,\n 1046,\n 1048,\n 1050,\n 1052,\n 1054,\n 1056,\n 1058,\n 1060,\n 1062,\n 1064,\n 1066,\n 1068,\n 1070,\n 1072,\n 1074,\n 1076,\n 1078,\n 1080,\n 1082,\n 1084,\n 1086,\n 1088,\n 1090,\n 1092,\n 1094,\n 1096,\n 1098,\n 1100,\n 1102,\n 1104,\n 1106,\n 1108,\n 1110,\n 1112,\n 1114,\n 1116,\n 1118,\n 1120,\n 1122,\n 1124,\n 1126,\n 1128,\n 1130,\n 1132,\n 1134,\n 1136,\n 1138,\n 1140,\n 1142,\n 1144,\n 1146,\n 1148,\n 1150,\n 1152,\n 1154,\n 1156,\n 1158,\n 1160,\n 1162,\n 1164,\n 1166,\n 1168,\n 1170,\n 1172,\n 1174,\n 1176,\n 1178,\n 1180,\n 1182,\n 1184,\n 1186,\n 1188,\n 1190,\n 1192,\n 1194,\n 1196,\n 1198,\n 1200,\n 1202,\n 1204,\n 1206,\n 1208,\n 1210,\n 1212,\n 1214,\n 1216,\n 1218,\n 1220,\n 1222,\n 1224,\n 1226,\n 1228,\n 1230,\n 1232,\n 1234,\n 1236,\n 1238,\n 1240,\n 1242,\n 1244,\n 1246,\n 1248,\n 1250,\n 1252,\n 1254,\n 1256,\n 1258,\n 1260,\n 1262,\n 1264,\n 1266,\n 1268,\n 1270,\n 1272,\n 1274,\n 1276,\n 1278,\n 1280,\n 1282,\n 1284,\n 1286,\n 1288,\n 1290,\n 1292,\n 1294,\n 1296,\n 1298,\n 1300,\n 1302,\n 1304,\n 1306,\n 1308,\n 1310,\n 1312,\n 1314,\n 1316,\n 1318,\n 1320,\n 1322,\n 1324,\n 1326,\n 1328,\n 1330,\n 1332,\n 1334,\n 1336,\n 1338,\n 1340,\n 1342,\n 1344,\n 1346,\n 1348,\n 1350,\n 1352,\n 1354,\n 1356,\n 1358,\n 1360,\n 1362,\n 1364,\n 1366,\n 1368,\n 1370,\n 1372,\n 1374,\n 1376,\n 1378,\n 1380,\n 1382,\n 1384,\n 1386,\n 1388,\n 1390,\n 1392,\n 1394,\n 1396,\n 1398,\n 1400,\n 1402,\n 1404,\n 1406,\n 1408,\n 1410,\n 1412,\n 1414,\n 1416,\n 1418,\n 1420,\n 1422,\n 1424,\n 1426,\n 1428,\n 1430,\n 1432,\n 1434,\n 1436,\n 1438,\n 1440,\n 1442,\n 1444,\n 1446,\n 1448,\n 1450,\n 1452,\n 1454,\n 1456,\n 1458,\n 1460,\n 1462,\n 1464,\n 1466,\n 1468,\n 1470,\n 1472,\n 1474,\n 1476,\n 1478,\n 1480,\n 1482,\n 1484,\n 1486,\n 1488,\n 1490,\n 1492,\n 1494,\n 1496,\n 1498,\n 1500,\n 1502,\n 1504,\n 1506,\n 1508,\n 1510,\n 1512,\n 1514,\n 1516,\n 1518,\n 1520,\n 1522,\n 1524,\n 1526,\n 1528,\n 1530,\n 1532,\n 1534,\n 1536,\n 1538,\n 1540,\n 1542,\n 1544,\n 1546,\n 1548,\n 1550,\n 1552,\n 1554,\n 1556,\n 1558,\n 1560,\n 1562,\n 1564,\n 1566,\n 1568,\n 1570,\n 1572,\n 1574,\n 1576,\n 1578,\n 1580,\n 1582,\n 1584,\n 1586,\n 1588,\n 1590,\n 1592,\n 1594,\n 1596,\n 1598,\n 1600,\n 1602,\n 1604,\n 1606,\n 1608,\n 1610,\n 1612,\n 1614,\n 1616,\n 1618,\n 1620,\n 1622,\n 1624,\n 1626,\n 1628,\n 1630,\n 1632,\n 1634,\n 1636,\n 1638,\n 1640,\n 1642,\n 1644,\n 1646,\n 1648,\n 1650,\n 1652,\n 1654,\n 1656,\n 1658,\n 1660,\n 1662,\n 1664,\n 1666,\n 1668,\n 1670,\n 1672,\n 1674,\n 1676,\n 1678,\n 1680,\n 1682,\n 1684,\n 1686,\n 1688,\n 1690,\n 1692,\n 1694,\n 1696,\n 1698,\n 1700,\n 1702,\n 1704,\n 1706,\n 1708,\n 1710,\n 1712,\n 1714,\n 1716,\n 1718,\n 1720,\n 1722,\n 1724,\n 1726,\n 1728,\n 1730,\n 1732,\n 1734,\n 1736,\n 1738,\n 1740,\n 1742,\n 1744,\n 1746,\n 1748,\n 1750,\n 1752,\n 1754,\n 1756,\n 1758,\n 1760,\n 1762,\n 1764,\n 1766,\n 1768,\n 1770,\n 1772,\n 1774,\n 1776,\n 1778,\n 1780,\n 1782,\n 1784,\n 1786,\n 1788,\n 1790,\n 1792,\n 1794,\n 1796,\n 1798,\n 1800,\n 1802,\n 1804,\n 1806,\n 1808,\n 1810,\n 1812,\n 1814,\n 1816,\n 1818,\n 1820,\n 1822,\n 1824,\n 1826,\n 1828,\n 1830,\n 1832,\n 1834,\n 1836,\n 1838,\n 1840,\n 1842,\n 1844,\n 1846,\n 1848,\n 1850,\n 1852,\n 1854,\n 1856,\n 1858,\n 1860,\n 1862,\n 1864,\n 1866,\n 1868,\n 1870,\n 1872,\n 1874,\n 1876,\n 1878,\n 1880,\n 1882,\n 1884,\n 1886,\n 1888,\n 1890,\n 1892,\n 1894,\n 1896,\n 1898,\n 1900,\n 1902,\n 1904,\n 1906,\n 1908,\n 1910,\n 1912,\n 1914,\n 1916,\n 1918,\n 1920,\n 1922,\n 1924,\n 1926,\n 1928,\n 1930,\n 1932,\n 1934,\n 1936,\n 1938,\n 1940,\n 1942,\n 1944,\n 1946,\n 1948,\n 1950,\n 1952,\n 1954,\n 1956,\n 1958,\n 1960,\n 1962,\n 1964,\n 1966,\n 1968,\n 1970,\n 1972,\n 1974,\n 1976,\n 1978,\n 1980,\n 1982,\n 1984,\n 1986,\n 1988,\n 1990,\n 1992,\n 1994,\n 1996,\n 1998,\n ...]"
     },
     "execution_count": 4,
     "metadata": {},
     "output_type": "execute_result"
    }
   ],
   "source": [
    "@timer(label='[CCC]==>')\n",
    "def listcomp(N):\n",
    "    return [x*2 for x in range(N)]\n",
    "\n",
    "listcomp(5000)"
   ]
  },
  {
   "cell_type": "markdown",
   "execution_count": null,
   "metadata": {},
   "outputs": [],
   "source": [
    "## 编写类装饰器\n",
    "\n",
    "### 单例类\n",
    "\n",
    "由于装饰器可以拦截实例创建调用，因此它们可以用来管理一个类的所有实例，或者扩充这些实例的接口。"
   ]
  },
  {
   "cell_type": "code",
   "execution_count": 5,
   "metadata": {},
   "outputs": [],
   "source": [
    "instances = {}"
   ]
  },
  {
   "cell_type": "code",
   "execution_count": 6,
   "metadata": {},
   "outputs": [],
   "source": [
    "def singleton(aClass):\n",
    "    def onCall(*args, **kargs):\n",
    "        if aClass not in instances:\n",
    "            instances[aClass] = aClass(*args, **kargs) # 装饰器拦截了实例创建调用\n",
    "        return instances[aClass]\n",
    "    return onCall"
   ]
  },
  {
   "cell_type": "code",
   "execution_count": 7,
   "metadata": {},
   "outputs": [],
   "source": [
    "@singleton\n",
    "class Person:\n",
    "    def __init__(self, name, hours, rate):\n",
    "        self.name = name \n",
    "        self.hours = hours \n",
    "        self.rate = rate \n",
    "    \n",
    "    def pay(self):\n",
    "        return self.hours * self.rate "
   ]
  },
  {
   "cell_type": "code",
   "execution_count": 8,
   "metadata": {},
   "outputs": [],
   "source": [
    "@singleton\n",
    "class Spam:\n",
    "    def __init__(self, val):\n",
    "        self.attr = val"
   ]
  },
  {
   "cell_type": "code",
   "execution_count": 10,
   "metadata": {},
   "outputs": [
    {
     "name": "stdout",
     "output_type": "stream",
     "text": "Bob 400\n"
    }
   ],
   "source": [
    "bob = Person('Bob', 40, 10)\n",
    "print(bob.name, bob.pay())"
   ]
  },
  {
   "cell_type": "markdown",
   "execution_count": 12,
   "metadata": {},
   "outputs": [
    {
     "ename": "AttributeError",
     "evalue": "'dict' object has no attribute 'name'",
     "output_type": "error",
     "traceback": [
      "\u001b[1;31m---------------------------------------------------------------------------\u001b[0m",
      "\u001b[1;31mAttributeError\u001b[0m                            Traceback (most recent call last)",
      "\u001b[1;32m<ipython-input-12-e6ad547ec661>\u001b[0m in \u001b[0;36m<module>\u001b[1;34m\u001b[0m\n\u001b[1;32m----> 1\u001b[1;33m \u001b[0minstances\u001b[0m\u001b[1;33m.\u001b[0m\u001b[0mname\u001b[0m\u001b[1;33m\u001b[0m\u001b[1;33m\u001b[0m\u001b[0m\n\u001b[0m",
      "\u001b[1;31mAttributeError\u001b[0m: 'dict' object has no attribute 'name'"
     ]
    }
   ],
   "source": [
    "### 使用装饰器根据接口实现委托"
   ]
  },
  {
   "cell_type": "code",
   "execution_count": 13,
   "metadata": {},
   "outputs": [],
   "source": [
    "def Tracer(aClass):\n",
    "    class Wrapper:\n",
    "        def __init__(self, *args, **kargs):\n",
    "            self.fetches = 0\n",
    "            self.wrapped = aClass(*args, **kargs)\n",
    "\n",
    "        def __getattr__(self, attrname):\n",
    "            print('Trace: ' + attrname)\n",
    "            self.fetches += 1\n",
    "            return getattr(self.wrapped, attrname)\n",
    "    return Wrapper"
   ]
  },
  {
   "cell_type": "code",
   "execution_count": 14,
   "metadata": {},
   "outputs": [],
   "source": [
    "@Tracer\n",
    "class Spam:\n",
    "    def display(self):\n",
    "        print('spam!' * 8)"
   ]
  },
  {
   "cell_type": "code",
   "execution_count": 15,
   "metadata": {},
   "outputs": [
    {
     "name": "stdout",
     "output_type": "stream",
     "text": "Trace: display\nspam!spam!spam!spam!spam!spam!spam!spam!\n"
    }
   ],
   "source": [
    "food = Spam()\n",
    "food.display()"
   ]
  },
  {
   "cell_type": "code",
   "execution_count": 16,
   "metadata": {},
   "outputs": [],
   "source": [
    "@Tracer\n",
    "class Mylist(list): pass"
   ]
  },
  {
   "cell_type": "code",
   "execution_count": 19,
   "metadata": {},
   "outputs": [
    {
     "name": "stdout",
     "output_type": "stream",
     "text": "Trace: append\n[1, 2, 3, 4, 5]\n"
    }
   ],
   "source": [
    "x = Mylist([1, 2, 3, 4])\n",
    "x.append(5)\n",
    "print(x.wrapped)"
   ]
  },
  {
   "cell_type": "markdown",
   "execution_count": null,
   "metadata": {},
   "outputs": [],
   "source": [
    "## 直接管理函数和类\n",
    "\n",
    "除了用来拦截函数和实例创建调用，装饰器还可以用来管理函数和类对象本身，而不只是管理对他们随后的调用。"
   ]
  },
  {
   "cell_type": "code",
   "execution_count": 1,
   "metadata": {},
   "outputs": [],
   "source": [
    "registry = {}"
   ]
  },
  {
   "cell_type": "code",
   "execution_count": 2,
   "metadata": {},
   "outputs": [],
   "source": [
    "def register(obj):\n",
    "    registry[obj.__name__] = obj \n",
    "    return obj "
   ]
  },
  {
   "cell_type": "code",
   "execution_count": 3,
   "metadata": {},
   "outputs": [],
   "source": [
    "@register\n",
    "def spam(x):\n",
    "    return (x**2)"
   ]
  },
  {
   "cell_type": "code",
   "execution_count": 4,
   "metadata": {},
   "outputs": [],
   "source": [
    "@register\n",
    "def ham(x):\n",
    "    return (x**3)"
   ]
  },
  {
   "cell_type": "code",
   "execution_count": 5,
   "metadata": {},
   "outputs": [],
   "source": [
    "@register\n",
    "class Eggs:\n",
    "    def __init__(self, x):\n",
    "        self.data = x**4\n",
    "    def __str__ (self):\n",
    "        return str(self.data)"
   ]
  },
  {
   "cell_type": "code",
   "execution_count": 9,
   "metadata": {},
   "outputs": [
    {
     "name": "stdout",
     "output_type": "stream",
     "text": "spam => <function spam at 0x0000015F10A5F798> <class 'function'>\n4\nham => <function ham at 0x0000015F110F81F8> <class 'function'>\n8\nEggs => <class '__main__.Eggs'> <class 'type'>\n16\n"
    }
   ],
   "source": [
    "for name in registry:\n",
    "    print(name, '=>', registry[name], type(registry[name]))\n",
    "    print(registry[name](2))"
   ]
  },
  {
   "cell_type": "markdown",
   "execution_count": null,
   "metadata": {},
   "outputs": [],
   "source": [
    "## 示例：\"私有\"和\"公有\"属性\n",
    "\n",
    "### 实现私有属性\n",
    "\n",
    "实现一个用于类实例属性的private声明，属性存储在一个实例上，或者从一个类继承而来。不接受从被装饰类的外部对这样的属性的获取和修改访问，但是依然允许类自身在其自己的方法中自由地访问那些名称。"
   ]
  },
  {
   "cell_type": "code",
   "execution_count": 15,
   "metadata": {},
   "outputs": [],
   "source": [
    "traceMe = False\n",
    "def trace (*args):\n",
    "    if traceMe:\n",
    "        print('[' + ' '.join(map(str, args)) + ']')"
   ]
  },
  {
   "cell_type": "code",
   "execution_count": 39,
   "metadata": {},
   "outputs": [],
   "source": [
    "def Private(*privates):\n",
    "    def onDecorator(aClass):\n",
    "        class onInstance:\n",
    "            def __init__(self, *args, **kargs):\n",
    "                self.wrapped = aClass(*args, **kargs)\n",
    "            \n",
    "            def __getattr__(self, attr):\n",
    "                trace('get:', attr)\n",
    "                if attr in privates:\n",
    "                    raise TypeError('private attrbute fetch: ' + attr)\n",
    "                else:\n",
    "                    return getattr(self.wrapped, attr)\n",
    "\n",
    "            def __setattr__(self, attr, value):\n",
    "                trace('set:', attr, value)\n",
    "                if attr == 'wrapped':\n",
    "                    self.__dict__[attr] = value \n",
    "                elif attr in privates:\n",
    "                    raise TypeError('private attribute change: ' + attr)\n",
    "                else:\n",
    "                    setattr(self.wrapped, attr, value)\n",
    "            \n",
    "        return onInstance\n",
    "    return onDecorator"
   ]
  },
  {
   "cell_type": "code",
   "execution_count": 40,
   "metadata": {},
   "outputs": [],
   "source": [
    "traceMe = True "
   ]
  },
  {
   "cell_type": "code",
   "execution_count": 41,
   "metadata": {},
   "outputs": [],
   "source": [
    "@Private('data', 'size')\n",
    "class Doubler:\n",
    "    def __init__(self, label, start):\n",
    "        self.label = label \n",
    "        self.data = start \n",
    "    \n",
    "    def size(self):\n",
    "        return len(self.data)\n",
    "    \n",
    "    def double(self):\n",
    "        for i in range(self.size()):\n",
    "            self.data[i] = self.data[i] * 2\n",
    "    \n",
    "    def display(self):\n",
    "        print('%s => %s' % (self.label, self.data))"
   ]
  },
  {
   "cell_type": "code",
   "execution_count": 42,
   "metadata": {},
   "outputs": [
    {
     "name": "stdout",
     "output_type": "stream",
     "text": "[set: wrapped <__main__.Doubler object at 0x0000015F1362E848>]\n"
    }
   ],
   "source": [
    "X = Doubler('X is', [1, 2, 3])"
   ]
  },
  {
   "cell_type": "code",
   "execution_count": 44,
   "metadata": {},
   "outputs": [
    {
     "name": "stdout",
     "output_type": "stream",
     "text": "[get: size]\n"
    },
    {
     "ename": "TypeError",
     "evalue": "private attrbute fetch: size",
     "output_type": "error",
     "traceback": [
      "\u001b[1;31m---------------------------------------------------------------------------\u001b[0m",
      "\u001b[1;31mTypeError\u001b[0m                                 Traceback (most recent call last)",
      "\u001b[1;32m<ipython-input-44-7e398f393108>\u001b[0m in \u001b[0;36m<module>\u001b[1;34m\u001b[0m\n\u001b[1;32m----> 1\u001b[1;33m \u001b[0mX\u001b[0m\u001b[1;33m.\u001b[0m\u001b[0msize\u001b[0m\u001b[1;33m(\u001b[0m\u001b[1;33m)\u001b[0m\u001b[1;33m\u001b[0m\u001b[1;33m\u001b[0m\u001b[0m\n\u001b[0m",
      "\u001b[1;32m<ipython-input-39-6e4371dc2668>\u001b[0m in \u001b[0;36m__getattr__\u001b[1;34m(self, attr)\u001b[0m\n\u001b[0;32m      8\u001b[0m                 \u001b[0mtrace\u001b[0m\u001b[1;33m(\u001b[0m\u001b[1;34m'get:'\u001b[0m\u001b[1;33m,\u001b[0m \u001b[0mattr\u001b[0m\u001b[1;33m)\u001b[0m\u001b[1;33m\u001b[0m\u001b[1;33m\u001b[0m\u001b[0m\n\u001b[0;32m      9\u001b[0m                 \u001b[1;32mif\u001b[0m \u001b[0mattr\u001b[0m \u001b[1;32min\u001b[0m \u001b[0mprivates\u001b[0m\u001b[1;33m:\u001b[0m\u001b[1;33m\u001b[0m\u001b[1;33m\u001b[0m\u001b[0m\n\u001b[1;32m---> 10\u001b[1;33m                     \u001b[1;32mraise\u001b[0m \u001b[0mTypeError\u001b[0m\u001b[1;33m(\u001b[0m\u001b[1;34m'private attrbute fetch: '\u001b[0m \u001b[1;33m+\u001b[0m \u001b[0mattr\u001b[0m\u001b[1;33m)\u001b[0m\u001b[1;33m\u001b[0m\u001b[1;33m\u001b[0m\u001b[0m\n\u001b[0m\u001b[0;32m     11\u001b[0m                 \u001b[1;32melse\u001b[0m\u001b[1;33m:\u001b[0m\u001b[1;33m\u001b[0m\u001b[1;33m\u001b[0m\u001b[0m\n\u001b[0;32m     12\u001b[0m                     \u001b[1;32mreturn\u001b[0m \u001b[0mgetattr\u001b[0m\u001b[1;33m(\u001b[0m\u001b[0mself\u001b[0m\u001b[1;33m.\u001b[0m\u001b[0mwrapped\u001b[0m\u001b[1;33m,\u001b[0m \u001b[0mattr\u001b[0m\u001b[1;33m)\u001b[0m\u001b[1;33m\u001b[0m\u001b[1;33m\u001b[0m\u001b[0m\n",
      "\u001b[1;31mTypeError\u001b[0m: private attrbute fetch: size"
     ]
    }
   ],
   "source": [
    "X.size()"
   ]
  },
  {
   "cell_type": "code",
   "execution_count": 46,
   "metadata": {},
   "outputs": [
    {
     "name": "stdout",
     "output_type": "stream",
     "text": "[get: display]\nX is => [1, 2, 3]\n"
    }
   ],
   "source": [
    "X.display()"
   ]
  },
  {
   "cell_type": "code",
   "execution_count": 47,
   "metadata": {},
   "outputs": [
    {
     "name": "stdout",
     "output_type": "stream",
     "text": "[set: size <function <lambda> at 0x0000015F10994B88>]\n"
    },
    {
     "ename": "TypeError",
     "evalue": "private attribute change: size",
     "output_type": "error",
     "traceback": [
      "\u001b[1;31m---------------------------------------------------------------------------\u001b[0m",
      "\u001b[1;31mTypeError\u001b[0m                                 Traceback (most recent call last)",
      "\u001b[1;32m<ipython-input-47-810944f8df44>\u001b[0m in \u001b[0;36m<module>\u001b[1;34m\u001b[0m\n\u001b[1;32m----> 1\u001b[1;33m \u001b[0mX\u001b[0m\u001b[1;33m.\u001b[0m\u001b[0msize\u001b[0m \u001b[1;33m=\u001b[0m \u001b[1;32mlambda\u001b[0m \u001b[0mS\u001b[0m\u001b[1;33m:\u001b[0m\u001b[1;36m0\u001b[0m\u001b[1;33m\u001b[0m\u001b[1;33m\u001b[0m\u001b[0m\n\u001b[0m",
      "\u001b[1;32m<ipython-input-39-6e4371dc2668>\u001b[0m in \u001b[0;36m__setattr__\u001b[1;34m(self, attr, value)\u001b[0m\n\u001b[0;32m     17\u001b[0m                     \u001b[0mself\u001b[0m\u001b[1;33m.\u001b[0m\u001b[0m__dict__\u001b[0m\u001b[1;33m[\u001b[0m\u001b[0mattr\u001b[0m\u001b[1;33m]\u001b[0m \u001b[1;33m=\u001b[0m \u001b[0mvalue\u001b[0m\u001b[1;33m\u001b[0m\u001b[1;33m\u001b[0m\u001b[0m\n\u001b[0;32m     18\u001b[0m                 \u001b[1;32melif\u001b[0m \u001b[0mattr\u001b[0m \u001b[1;32min\u001b[0m \u001b[0mprivates\u001b[0m\u001b[1;33m:\u001b[0m\u001b[1;33m\u001b[0m\u001b[1;33m\u001b[0m\u001b[0m\n\u001b[1;32m---> 19\u001b[1;33m                     \u001b[1;32mraise\u001b[0m \u001b[0mTypeError\u001b[0m\u001b[1;33m(\u001b[0m\u001b[1;34m'private attribute change: '\u001b[0m \u001b[1;33m+\u001b[0m \u001b[0mattr\u001b[0m\u001b[1;33m)\u001b[0m\u001b[1;33m\u001b[0m\u001b[1;33m\u001b[0m\u001b[0m\n\u001b[0m\u001b[0;32m     20\u001b[0m                 \u001b[1;32melse\u001b[0m\u001b[1;33m:\u001b[0m\u001b[1;33m\u001b[0m\u001b[1;33m\u001b[0m\u001b[0m\n\u001b[0;32m     21\u001b[0m                     \u001b[0msetattr\u001b[0m\u001b[1;33m(\u001b[0m\u001b[0mself\u001b[0m\u001b[1;33m.\u001b[0m\u001b[0mwrapped\u001b[0m\u001b[1;33m,\u001b[0m \u001b[0mattr\u001b[0m\u001b[1;33m,\u001b[0m \u001b[0mvalue\u001b[0m\u001b[1;33m)\u001b[0m\u001b[1;33m\u001b[0m\u001b[1;33m\u001b[0m\u001b[0m\n",
      "\u001b[1;31mTypeError\u001b[0m: private attribute change: size"
     ]
    }
   ],
   "source": [
    "X.size = lambda S:0"
   ]
  },
  {
   "cell_type": "markdown",
   "execution_count": null,
   "metadata": {},
   "outputs": [],
   "source": [
    "### 公有声明的推广"
   ]
  },
  {
   "cell_type": "code",
   "execution_count": 48,
   "metadata": {},
   "outputs": [],
   "source": [
    "def accessControl(failIf):\n",
    "    def onDecorator(aClass):\n",
    "        class onInstance:\n",
    "            def __init__(self, *args, **kargs):\n",
    "                self.__wrapped = aClass(*args, **kargs)\n",
    "            \n",
    "            def __getattr__ (self, attr):\n",
    "                trace('get:', attr)\n",
    "                if failIf(attr):\n",
    "                    raise TypeError('private attribute fetch: ' + attr)\n",
    "                else:\n",
    "                    return getattr(self.__wrapped, attr)\n",
    "            \n",
    "            def __setattr__(self, attr, value):\n",
    "                trace('set:', attr, value)\n",
    "                if attr == '_onInstance__wrapped':\n",
    "                    self.__dict__[attr] = value \n",
    "                elif failIf(attr):\n",
    "                    raise TypeError('private attribute change: ' + attr)\n",
    "                else:\n",
    "                    setattr(self.__wrapped, value)\n",
    "        return onInstance \n",
    "    return onDecorator"
   ]
  },
  {
   "cell_type": "code",
   "execution_count": 49,
   "metadata": {},
   "outputs": [],
   "source": [
    "def Private(*attributes):\n",
    "    return accessControl(failIf=(lambda attr: attr in attributes))\n",
    "\n",
    "def Public(*attributes):\n",
    "    return accessControl(failIf=(lambda attr: attr not in attributes))"
   ]
  },
  {
   "cell_type": "code",
   "execution_count": 50,
   "metadata": {},
   "outputs": [],
   "source": [
    "@Private('age')\n",
    "class Person:\n",
    "    def __init__(self, name, age):\n",
    "        self.name = name \n",
    "        self.age = age"
   ]
  },
  {
   "cell_type": "code",
   "execution_count": 51,
   "metadata": {},
   "outputs": [
    {
     "name": "stdout",
     "output_type": "stream",
     "text": "[set: _onInstance__wrapped <__main__.Person object at 0x0000015F12A89388>]\n[get: name]\n"
    },
    {
     "data": {
      "text/plain": "'Bob'"
     },
     "execution_count": 51,
     "metadata": {},
     "output_type": "execute_result"
    }
   ],
   "source": [
    "X = Person('Bob', 40)\n",
    "X.name "
   ]
  },
  {
   "cell_type": "code",
   "execution_count": 52,
   "metadata": {},
   "outputs": [
    {
     "name": "stdout",
     "output_type": "stream",
     "text": "[get: age]\n"
    },
    {
     "ename": "TypeError",
     "evalue": "private attribute fetch: age",
     "output_type": "error",
     "traceback": [
      "\u001b[1;31m---------------------------------------------------------------------------\u001b[0m",
      "\u001b[1;31mTypeError\u001b[0m                                 Traceback (most recent call last)",
      "\u001b[1;32m<ipython-input-52-d45492ff82da>\u001b[0m in \u001b[0;36m<module>\u001b[1;34m\u001b[0m\n\u001b[1;32m----> 1\u001b[1;33m \u001b[0mX\u001b[0m\u001b[1;33m.\u001b[0m\u001b[0mage\u001b[0m\u001b[1;33m\u001b[0m\u001b[1;33m\u001b[0m\u001b[0m\n\u001b[0m",
      "\u001b[1;32m<ipython-input-48-dc9bb0b50223>\u001b[0m in \u001b[0;36m__getattr__\u001b[1;34m(self, attr)\u001b[0m\n\u001b[0;32m      8\u001b[0m                 \u001b[0mtrace\u001b[0m\u001b[1;33m(\u001b[0m\u001b[1;34m'get:'\u001b[0m\u001b[1;33m,\u001b[0m \u001b[0mattr\u001b[0m\u001b[1;33m)\u001b[0m\u001b[1;33m\u001b[0m\u001b[1;33m\u001b[0m\u001b[0m\n\u001b[0;32m      9\u001b[0m                 \u001b[1;32mif\u001b[0m \u001b[0mfailIf\u001b[0m\u001b[1;33m(\u001b[0m\u001b[0mattr\u001b[0m\u001b[1;33m)\u001b[0m\u001b[1;33m:\u001b[0m\u001b[1;33m\u001b[0m\u001b[1;33m\u001b[0m\u001b[0m\n\u001b[1;32m---> 10\u001b[1;33m                     \u001b[1;32mraise\u001b[0m \u001b[0mTypeError\u001b[0m\u001b[1;33m(\u001b[0m\u001b[1;34m'private attribute fetch: '\u001b[0m \u001b[1;33m+\u001b[0m \u001b[0mattr\u001b[0m\u001b[1;33m)\u001b[0m\u001b[1;33m\u001b[0m\u001b[1;33m\u001b[0m\u001b[0m\n\u001b[0m\u001b[0;32m     11\u001b[0m                 \u001b[1;32melse\u001b[0m\u001b[1;33m:\u001b[0m\u001b[1;33m\u001b[0m\u001b[1;33m\u001b[0m\u001b[0m\n\u001b[0;32m     12\u001b[0m                     \u001b[1;32mreturn\u001b[0m \u001b[0mgetattr\u001b[0m\u001b[1;33m(\u001b[0m\u001b[0mself\u001b[0m\u001b[1;33m.\u001b[0m\u001b[0m__wrapped\u001b[0m\u001b[1;33m,\u001b[0m \u001b[0mattr\u001b[0m\u001b[1;33m)\u001b[0m\u001b[1;33m\u001b[0m\u001b[1;33m\u001b[0m\u001b[0m\n",
      "\u001b[1;31mTypeError\u001b[0m: private attribute fetch: age"
     ]
    }
   ],
   "source": [
    "X.age"
   ]
  },
  {
   "cell_type": "code",
   "execution_count": 53,
   "metadata": {},
   "outputs": [],
   "source": [
    "@Public('name')\n",
    "class Person:\n",
    "    def __init__(self, name, age):\n",
    "        self.name = name \n",
    "        self.age = age"
   ]
  },
  {
   "cell_type": "code",
   "execution_count": 54,
   "metadata": {},
   "outputs": [
    {
     "name": "stdout",
     "output_type": "stream",
     "text": "[set: _onInstance__wrapped <__main__.Person object at 0x0000015F12A88C08>]\n[get: name]\n"
    },
    {
     "data": {
      "text/plain": "'szq'"
     },
     "execution_count": 54,
     "metadata": {},
     "output_type": "execute_result"
    }
   ],
   "source": [
    "X = Person('szq', 18)\n",
    "X.name "
   ]
  },
  {
   "cell_type": "markdown",
   "execution_count": null,
   "metadata": {},
   "outputs": [],
   "source": [
    "## 示例：验证函数参数"
   ]
  },
  {
   "cell_type": "code",
   "execution_count": 55,
   "metadata": {},
   "outputs": [],
   "source": [
    "trace = True"
   ]
  },
  {
   "cell_type": "code",
   "execution_count": 56,
   "metadata": {},
   "outputs": [],
   "source": [
    "def rangetest(**argchecks):\n",
    "    def onDecorator(func):\n",
    "        if not __debug__:\n",
    "            return func \n",
    "        else:\n",
    "            code = func.__code__\n",
    "            allargs = code.co_varnames[:code.co_argcount]\n",
    "            funcname = func.__name__\n",
    "        \n",
    "        def onCall(*pargs, **kargs):\n",
    "            expected = list(allargs)\n",
    "            positionals = expected[:len(pargs)]\n",
    "\n",
    "            for (argname, (low, high)) in argchecks.items():\n",
    "                if argname in kargs:\n",
    "                    if kargs[argname] < low or kargs[argname] > high:\n",
    "                        errmsg = '{0} argmust \"{1}\" not in {2}...{3}'\n",
    "                        errmsg = errmsg.format(funcname, argname, low, high)\n",
    "                        raise TypeError(errmsg)\n",
    "                \n",
    "                elif argname in positionals:\n",
    "                    position = positionals.index(argname)\n",
    "                    if pargs[position] < low or pargs[position] > high:\n",
    "                        errmsg = '{0} argmust \"{1}\" not in {2}...{3}'\n",
    "                        errmsg = errmsg.format(funcname, argname, low, high)\n",
    "                        raise TypeError(errmsg)\n",
    "                else:\n",
    "                    if tarce:\n",
    "                        print('Argument \"{0}\" defaulted'.format(argname))\n",
    "            return func(*pargs, **kargs)\n",
    "        return onCall\n",
    "    return onDecorator"
   ]
  },
  {
   "cell_type": "code",
   "execution_count": 57,
   "metadata": {},
   "outputs": [],
   "source": [
    "@rangetest(age=(0, 120))\n",
    "def persinfo(name, age):\n",
    "    print('%s is %s years old' % (name, age))"
   ]
  },
  {
   "cell_type": "code",
   "execution_count": 58,
   "metadata": {},
   "outputs": [],
   "source": [
    "@rangetest(M=(1, 12), D=(1, 31), Y=(0, 2013))\n",
    "def birthday(M, D, Y):\n",
    "    print('birtyday = {0}/{1}/{2}'.format(M, D, Y))"
   ]
  },
  {
   "cell_type": "code",
   "execution_count": 59,
   "metadata": {},
   "outputs": [
    {
     "ename": "TypeError",
     "evalue": "persinfo argmust \"age\" not in 0...120",
     "output_type": "error",
     "traceback": [
      "\u001b[1;31m---------------------------------------------------------------------------\u001b[0m",
      "\u001b[1;31mTypeError\u001b[0m                                 Traceback (most recent call last)",
      "\u001b[1;32m<ipython-input-59-90899d6d435e>\u001b[0m in \u001b[0;36m<module>\u001b[1;34m\u001b[0m\n\u001b[1;32m----> 1\u001b[1;33m \u001b[0mpersinfo\u001b[0m\u001b[1;33m(\u001b[0m\u001b[1;34m'szq'\u001b[0m\u001b[1;33m,\u001b[0m \u001b[1;36m125\u001b[0m\u001b[1;33m)\u001b[0m\u001b[1;33m\u001b[0m\u001b[1;33m\u001b[0m\u001b[0m\n\u001b[0m",
      "\u001b[1;32m<ipython-input-56-0d6457ad6c8d>\u001b[0m in \u001b[0;36monCall\u001b[1;34m(*pargs, **kargs)\u001b[0m\n\u001b[0;32m     24\u001b[0m                         \u001b[0merrmsg\u001b[0m \u001b[1;33m=\u001b[0m \u001b[1;34m'{0} argmust \"{1}\" not in {2}...{3}'\u001b[0m\u001b[1;33m\u001b[0m\u001b[1;33m\u001b[0m\u001b[0m\n\u001b[0;32m     25\u001b[0m                         \u001b[0merrmsg\u001b[0m \u001b[1;33m=\u001b[0m \u001b[0merrmsg\u001b[0m\u001b[1;33m.\u001b[0m\u001b[0mformat\u001b[0m\u001b[1;33m(\u001b[0m\u001b[0mfuncname\u001b[0m\u001b[1;33m,\u001b[0m \u001b[0margname\u001b[0m\u001b[1;33m,\u001b[0m \u001b[0mlow\u001b[0m\u001b[1;33m,\u001b[0m \u001b[0mhigh\u001b[0m\u001b[1;33m)\u001b[0m\u001b[1;33m\u001b[0m\u001b[1;33m\u001b[0m\u001b[0m\n\u001b[1;32m---> 26\u001b[1;33m                         \u001b[1;32mraise\u001b[0m \u001b[0mTypeError\u001b[0m\u001b[1;33m(\u001b[0m\u001b[0merrmsg\u001b[0m\u001b[1;33m)\u001b[0m\u001b[1;33m\u001b[0m\u001b[1;33m\u001b[0m\u001b[0m\n\u001b[0m\u001b[0;32m     27\u001b[0m                 \u001b[1;32melse\u001b[0m\u001b[1;33m:\u001b[0m\u001b[1;33m\u001b[0m\u001b[1;33m\u001b[0m\u001b[0m\n\u001b[0;32m     28\u001b[0m                     \u001b[1;32mif\u001b[0m \u001b[0mtarce\u001b[0m\u001b[1;33m:\u001b[0m\u001b[1;33m\u001b[0m\u001b[1;33m\u001b[0m\u001b[0m\n",
      "\u001b[1;31mTypeError\u001b[0m: persinfo argmust \"age\" not in 0...120"
     ]
    }
   ],
   "source": [
    "persinfo('szq', 125)"
   ]
  },
  {
   "cell_type": "code",
   "execution_count": 60,
   "metadata": {},
   "outputs": [
    {
     "ename": "TypeError",
     "evalue": "birthday argmust \"D\" not in 1...31",
     "output_type": "error",
     "traceback": [
      "\u001b[1;31m---------------------------------------------------------------------------\u001b[0m",
      "\u001b[1;31mTypeError\u001b[0m                                 Traceback (most recent call last)",
      "\u001b[1;32m<ipython-input-60-2961671ff7f6>\u001b[0m in \u001b[0;36m<module>\u001b[1;34m\u001b[0m\n\u001b[1;32m----> 1\u001b[1;33m \u001b[0mbirthday\u001b[0m\u001b[1;33m(\u001b[0m\u001b[1;36m5\u001b[0m\u001b[1;33m,\u001b[0m \u001b[0mD\u001b[0m\u001b[1;33m=\u001b[0m\u001b[1;36m40\u001b[0m\u001b[1;33m,\u001b[0m \u001b[0mY\u001b[0m\u001b[1;33m=\u001b[0m\u001b[1;36m1963\u001b[0m\u001b[1;33m)\u001b[0m\u001b[1;33m\u001b[0m\u001b[1;33m\u001b[0m\u001b[0m\n\u001b[0m",
      "\u001b[1;32m<ipython-input-56-0d6457ad6c8d>\u001b[0m in \u001b[0;36monCall\u001b[1;34m(*pargs, **kargs)\u001b[0m\n\u001b[0;32m     17\u001b[0m                         \u001b[0merrmsg\u001b[0m \u001b[1;33m=\u001b[0m \u001b[1;34m'{0} argmust \"{1}\" not in {2}...{3}'\u001b[0m\u001b[1;33m\u001b[0m\u001b[1;33m\u001b[0m\u001b[0m\n\u001b[0;32m     18\u001b[0m                         \u001b[0merrmsg\u001b[0m \u001b[1;33m=\u001b[0m \u001b[0merrmsg\u001b[0m\u001b[1;33m.\u001b[0m\u001b[0mformat\u001b[0m\u001b[1;33m(\u001b[0m\u001b[0mfuncname\u001b[0m\u001b[1;33m,\u001b[0m \u001b[0margname\u001b[0m\u001b[1;33m,\u001b[0m \u001b[0mlow\u001b[0m\u001b[1;33m,\u001b[0m \u001b[0mhigh\u001b[0m\u001b[1;33m)\u001b[0m\u001b[1;33m\u001b[0m\u001b[1;33m\u001b[0m\u001b[0m\n\u001b[1;32m---> 19\u001b[1;33m                         \u001b[1;32mraise\u001b[0m \u001b[0mTypeError\u001b[0m\u001b[1;33m(\u001b[0m\u001b[0merrmsg\u001b[0m\u001b[1;33m)\u001b[0m\u001b[1;33m\u001b[0m\u001b[1;33m\u001b[0m\u001b[0m\n\u001b[0m\u001b[0;32m     20\u001b[0m \u001b[1;33m\u001b[0m\u001b[0m\n\u001b[0;32m     21\u001b[0m                 \u001b[1;32melif\u001b[0m \u001b[0margname\u001b[0m \u001b[1;32min\u001b[0m \u001b[0mpositionals\u001b[0m\u001b[1;33m:\u001b[0m\u001b[1;33m\u001b[0m\u001b[1;33m\u001b[0m\u001b[0m\n",
      "\u001b[1;31mTypeError\u001b[0m: birthday argmust \"D\" not in 1...31"
     ]
    }
   ],
   "source": [
    "birthday(5, D=40, Y=1963)"
   ]
  },
  {
   "cell_type": "code",
   "execution_count": 64,
   "metadata": {},
   "outputs": [
    {
     "data": {
      "text/plain": "('pargs',\n 'kargs',\n 'expected',\n 'positionals',\n 'argname',\n 'low',\n 'high',\n 'errmsg',\n 'position')"
     },
     "execution_count": 64,
     "metadata": {},
     "output_type": "execute_result"
    }
   ],
   "source": [
    "birthday.__code__.co_varnames"
   ]
  },
  {
   "cell_type": "markdown",
   "execution_count": null,
   "metadata": {},
   "outputs": [],
   "source": [
    "### 函数内省"
   ]
  },
  {
   "cell_type": "code",
   "execution_count": 65,
   "metadata": {},
   "outputs": [],
   "source": [
    "def func(a, b, e=True, f=None):\n",
    "    x = 1\n",
    "    y = 2"
   ]
  },
  {
   "cell_type": "code",
   "execution_count": 66,
   "metadata": {},
   "outputs": [],
   "source": [
    "code = func.__code__"
   ]
  },
  {
   "cell_type": "code",
   "execution_count": 67,
   "metadata": {},
   "outputs": [
    {
     "data": {
      "text/plain": "6"
     },
     "execution_count": 67,
     "metadata": {},
     "output_type": "execute_result"
    }
   ],
   "source": [
    "code.co_nlocals"
   ]
  },
  {
   "cell_type": "code",
   "execution_count": 68,
   "metadata": {},
   "outputs": [
    {
     "data": {
      "text/plain": "('a', 'b', 'e', 'f', 'x', 'y')"
     },
     "execution_count": 68,
     "metadata": {},
     "output_type": "execute_result"
    }
   ],
   "source": [
    "code.co_varnames"
   ]
  },
  {
   "cell_type": "code",
   "execution_count": 69,
   "metadata": {},
   "outputs": [
    {
     "data": {
      "text/plain": "('a', 'b', 'e', 'f')"
     },
     "execution_count": 69,
     "metadata": {},
     "output_type": "execute_result"
    }
   ],
   "source": [
    "code.co_varnames[:code.co_argcount]"
   ]
  },
  {
   "cell_type": "code",
   "execution_count": 70,
   "metadata": {},
   "outputs": [],
   "source": [
    "def func(a:(1, 5), b, c:(0.0, 1.0)):\n",
    "    print(a+b+c)"
   ]
  },
  {
   "cell_type": "code",
   "execution_count": 71,
   "metadata": {},
   "outputs": [
    {
     "data": {
      "text/plain": "{'a': (1, 5), 'c': (0.0, 1.0)}"
     },
     "execution_count": 71,
     "metadata": {},
     "output_type": "execute_result"
    }
   ],
   "source": [
    "func.__annotations__"
   ]
  },
  {
   "cell_type": "code",
   "execution_count": null,
   "metadata": {},
   "outputs": [],
   "source": []
  }
 ]
}