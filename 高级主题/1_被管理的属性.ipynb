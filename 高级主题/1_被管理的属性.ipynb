{
 "nbformat": 4,
 "nbformat_minor": 2,
 "metadata": {
  "language_info": {
   "name": "python",
   "codemirror_mode": {
    "name": "ipython",
    "version": 3
   },
   "version": "3.7.4"
  },
  "orig_nbformat": 2,
  "file_extension": ".py",
  "mimetype": "text/x-python",
  "name": "python",
  "npconvert_exporter": "python",
  "pygments_lexer": "ipython3",
  "version": 3
 },
 "cells": [
  {
   "cell_type": "markdown",
   "execution_count": null,
   "metadata": {},
   "outputs": [],
   "source": [
    "# 被管理的属性\n",
    "\n",
    "## property\n",
    "\n",
    "property协议允许我们把一个特定属性的获取、设置和修改操作指向我们所提供的函数或方法，使得我们能够插入在属性访问时自动运行的代码，或是拦截属性的删除\n",
    "\n",
    "```python\n",
    "attribute = property(fget, fset, fdel, doc)\n",
    "```\n",
    "- fget传入一个函数用于拦截属性访问\n",
    "- fset传入一个函数用于属性赋值\n",
    "- fdel传入一个函数用于属性删除\n",
    "- doc属性用于接收该属性的一个文档字符串，否则property会复制fget的文档字符串，而其默认值也一样是None"
   ]
  },
  {
   "cell_type": "code",
   "execution_count": 5,
   "metadata": {},
   "outputs": [],
   "source": [
    "class Person:\n",
    "    def __init__(self, name):\n",
    "        self._name = name \n",
    "    \n",
    "    def getName(self):\n",
    "        print('fetch...')\n",
    "        return self._name\n",
    "    \n",
    "    def setName(self, value):\n",
    "        print('change...')\n",
    "        self._name = value \n",
    "    \n",
    "    def delName(self):\n",
    "        print('remove...')\n",
    "        del self._name \n",
    "    \n",
    "    name = property(getName, setName, delName, 'name property docs')"
   ]
  },
  {
   "cell_type": "code",
   "execution_count": 6,
   "metadata": {},
   "outputs": [
    {
     "name": "stdout",
     "output_type": "stream",
     "text": "fetch...\nBob Smith\nchange...\nfetch...\nRobert Smith\nremove...\n"
    }
   ],
   "source": [
    "bob = Person('Bob Smith')\n",
    "print(bob.name)\n",
    "bob.name = 'Robert Smith'\n",
    "print(bob.name)\n",
    "del bob.name "
   ]
  },
  {
   "cell_type": "markdown",
   "execution_count": null,
   "metadata": {},
   "outputs": [],
   "source": [
    "并且该特性可以被继承\n",
    "\n",
    "### 计算出的属性\n",
    "\n",
    "当获取属性的时候，动态地计算属性地值。"
   ]
  },
  {
   "cell_type": "code",
   "execution_count": 7,
   "metadata": {},
   "outputs": [],
   "source": [
    "class PropSquare:\n",
    "    def __init__(self, start):\n",
    "        self.value = start \n",
    "    \n",
    "    def getX(self):\n",
    "        return self.value ** 2 # 每次获取都会根据当前值计算出新的值\n",
    "    \n",
    "    def setX(self, value):\n",
    "        self.value = value \n",
    "    \n",
    "    x = property(getX, setX)"
   ]
  },
  {
   "cell_type": "code",
   "execution_count": 8,
   "metadata": {},
   "outputs": [],
   "source": [
    "P = PropSquare(3)\n",
    "Q = PropSquare(32)"
   ]
  },
  {
   "cell_type": "code",
   "execution_count": 9,
   "metadata": {},
   "outputs": [
    {
     "name": "stdout",
     "output_type": "stream",
     "text": "9\n16\n"
    }
   ],
   "source": [
    "print(P.x)\n",
    "P.x = 4\n",
    "print(P.x)"
   ]
  },
  {
   "cell_type": "code",
   "execution_count": 12,
   "metadata": {},
   "outputs": [
    {
     "name": "stdout",
     "output_type": "stream",
     "text": "Help on class property in module builtins:\n\nclass property(object)\n |  property(fget=None, fset=None, fdel=None, doc=None)\n |  \n |  Property attribute.\n |  \n |    fget\n |      function to be used for getting an attribute value\n |    fset\n |      function to be used for setting an attribute value\n |    fdel\n |      function to be used for del'ing an attribute\n |    doc\n |      docstring\n |  \n |  Typical use is to define a managed attribute x:\n |  \n |  class C(object):\n |      def getx(self): return self._x\n |      def setx(self, value): self._x = value\n |      def delx(self): del self._x\n |      x = property(getx, setx, delx, \"I'm the 'x' property.\")\n |  \n |  Decorators make defining new properties or modifying existing ones easy:\n |  \n |  class C(object):\n |      @property\n |      def x(self):\n |          \"I am the 'x' property.\"\n |          return self._x\n |      @x.setter\n |      def x(self, value):\n |          self._x = value\n |      @x.deleter\n |      def x(self):\n |          del self._x\n |  \n |  Methods defined here:\n |  \n |  __delete__(self, instance, /)\n |      Delete an attribute of instance.\n |  \n |  __get__(self, instance, owner, /)\n |      Return an attribute of instance, which is of type owner.\n |  \n |  __getattribute__(self, name, /)\n |      Return getattr(self, name).\n |  \n |  __init__(self, /, *args, **kwargs)\n |      Initialize self.  See help(type(self)) for accurate signature.\n |  \n |  __set__(self, instance, value, /)\n |      Set an attribute of instance to value.\n |  \n |  deleter(...)\n |      Descriptor to change the deleter on a property.\n |  \n |  getter(...)\n |      Descriptor to change the getter on a property.\n |  \n |  setter(...)\n |      Descriptor to change the setter on a property.\n |  \n |  ----------------------------------------------------------------------\n |  Static methods defined here:\n |  \n |  __new__(*args, **kwargs) from builtins.type\n |      Create and return a new object.  See help(type) for accurate signature.\n |  \n |  ----------------------------------------------------------------------\n |  Data descriptors defined here:\n |  \n |  __isabstractmethod__\n |  \n |  fdel\n |  \n |  fget\n |  \n |  fset\n\n"
    }
   ],
   "source": [
    "help(property)"
   ]
  },
  {
   "cell_type": "code",
   "execution_count": 13,
   "metadata": {},
   "outputs": [],
   "source": [
    " class C(object):\n",
    "     @property\n",
    "     def x(self):\n",
    "         \"I am the 'x' property.\"\n",
    "         return self._x\n",
    "     @x.setter\n",
    "     def x(self, value):\n",
    "         self._x = value\n",
    "     @x.deleter\n",
    "     def x(self):\n",
    "         del self._x"
   ]
  },
  {
   "cell_type": "code",
   "execution_count": 18,
   "metadata": {},
   "outputs": [
    {
     "data": {
      "text/plain": "10"
     },
     "execution_count": 18,
     "metadata": {},
     "output_type": "execute_result"
    }
   ],
   "source": [
    "B=C()\n",
    "B.x = 10\n",
    "B.x"
   ]
  },
  {
   "cell_type": "code",
   "execution_count": 19,
   "metadata": {},
   "outputs": [
    {
     "data": {
      "text/plain": "['__class__',\n '__delattr__',\n '__dict__',\n '__dir__',\n '__doc__',\n '__eq__',\n '__format__',\n '__ge__',\n '__getattribute__',\n '__gt__',\n '__hash__',\n '__init__',\n '__init_subclass__',\n '__le__',\n '__lt__',\n '__module__',\n '__ne__',\n '__new__',\n '__reduce__',\n '__reduce_ex__',\n '__repr__',\n '__setattr__',\n '__sizeof__',\n '__str__',\n '__subclasshook__',\n '__weakref__',\n '_x',\n 'x']"
     },
     "execution_count": 19,
     "metadata": {},
     "output_type": "execute_result"
    }
   ],
   "source": [
    "dir(B)"
   ]
  },
  {
   "cell_type": "markdown",
   "execution_count": null,
   "metadata": {},
   "outputs": [],
   "source": [
    "## 描述符\n",
    "\n",
    "描述符提供了拦截属性访问的另一种替代方法；property是描述符的一种。描述符协议允许我们把一个特定属性的获取、设置和删除指向我们提供都得一个单独类对象的方法。\n",
    "\n",
    "描述符编写成单独的类，并且针对向要拦截的属性访问操作提供明确指定的访问器方法。当以相应的方式访问赋值了描述符类实例的属性时，描述符类中的获取、设置和删除等方法会自动运行。\n",
    "```python\n",
    "class Descriptor:\n",
    "    def __get__(self, instance, owner):...\n",
    "    def __set__(self, instance, value):...\n",
    "    def __delete__(self, instance):...\n",
    "```\n",
    "所有带有这么方法的类都可以看作描述符，并且当它们的一个实例被赋值给另一个类的属性的时候，它们的这些方法就会成为特殊的。这些方法却已不可。。"
   ]
  },
  {
   "cell_type": "code",
   "execution_count": 1,
   "metadata": {},
   "outputs": [],
   "source": [
    "class Descriptor:\n",
    "    def __get__(self, instance, owner):\n",
    "        print(self, instance, owner, sep='\\n')"
   ]
  },
  {
   "cell_type": "code",
   "execution_count": 2,
   "metadata": {},
   "outputs": [],
   "source": [
    "class Subject:\n",
    "    attr = Descriptor()"
   ]
  },
  {
   "cell_type": "code",
   "execution_count": 3,
   "metadata": {},
   "outputs": [
    {
     "name": "stdout",
     "output_type": "stream",
     "text": "<__main__.Descriptor object at 0x00000184A0CDFEC8>\n<__main__.Subject object at 0x00000184A2D82E88>\n<class '__main__.Subject'>\n"
    }
   ],
   "source": [
    "X = Subject()\n",
    "X.attr"
   ]
  },
  {
   "cell_type": "code",
   "execution_count": 4,
   "metadata": {},
   "outputs": [
    {
     "name": "stdout",
     "output_type": "stream",
     "text": "<__main__.Descriptor object at 0x00000184A0CDFEC8>\nNone\n<class '__main__.Subject'>\n"
    }
   ],
   "source": [
    "Subject.attr"
   ]
  },
  {
   "cell_type": "markdown",
   "execution_count": null,
   "metadata": {},
   "outputs": [],
   "source": [
    "在第一个属性获取中自动传递到__get__方法中的参数，当获取X.attr的时候，就好像发生了如下的转换：\n",
    "```python\n",
    "X.attr -> Descriptor.__get__(Subject.attr, X, Subject)\n",
    "```\n",
    "当描述符的instance参数为None的时候，该描述符就知道它正被通过类名直接访问。"
   ]
  },
  {
   "cell_type": "markdown",
   "execution_count": null,
   "metadata": {},
   "outputs": [],
   "source": [
    "### 只读描述符\n",
    "\n",
    "和property不同的是，在使用描述符时如果忽略描述符中的__set__方法就不能够让属性称为制度的，因为描述名称可以赋给一个实例。"
   ]
  },
  {
   "cell_type": "code",
   "execution_count": 5,
   "metadata": {},
   "outputs": [],
   "source": [
    "class D:\n",
    "    def __get__(*args):print('get')\n",
    "\n",
    "class C:\n",
    "    a = D()"
   ]
  },
  {
   "cell_type": "code",
   "execution_count": 6,
   "metadata": {},
   "outputs": [
    {
     "name": "stdout",
     "output_type": "stream",
     "text": "get\n"
    }
   ],
   "source": [
    "X = C()\n",
    "X.a"
   ]
  },
  {
   "cell_type": "code",
   "execution_count": 7,
   "metadata": {},
   "outputs": [
    {
     "name": "stdout",
     "output_type": "stream",
     "text": "get\n"
    }
   ],
   "source": [
    "C.a"
   ]
  },
  {
   "cell_type": "code",
   "execution_count": 8,
   "metadata": {},
   "outputs": [
    {
     "data": {
      "text/plain": "99"
     },
     "execution_count": 8,
     "metadata": {},
     "output_type": "execute_result"
    }
   ],
   "source": [
    "X.a = 99\n",
    "X.a"
   ]
  },
  {
   "cell_type": "markdown",
   "execution_count": 9,
   "metadata": {},
   "outputs": [
    {
     "ename": "SyntaxError",
     "evalue": "invalid character in identifier (<ipython-input-9-2e1170070392>, line 1)",
     "output_type": "error",
     "traceback": [
      "\u001b[1;36m  File \u001b[1;32m\"<ipython-input-9-2e1170070392>\"\u001b[1;36m, line \u001b[1;32m1\u001b[0m\n\u001b[1;33m    要想让基于描述符的属性成为只读的，你需要在描述符中捕获赋值操作并引发一个异常来阻止属性赋值。\u001b[0m\n\u001b[1;37m                                                 ^\u001b[0m\n\u001b[1;31mSyntaxError\u001b[0m\u001b[1;31m:\u001b[0m invalid character in identifier\n"
     ]
    }
   ],
   "source": [
    "要想让基于描述符的属性成为只读的，你需要在描述符中捕获赋值操作并引发一个异常来阻止属性赋值。 "
   ]
  },
  {
   "cell_type": "code",
   "execution_count": 17,
   "metadata": {},
   "outputs": [],
   "source": [
    "class D:\n",
    "    def __get__(*args):print('get')\n",
    "    def __set__(*args):raise AttributeError('cannot set')\n",
    "\n",
    "class C:\n",
    "    def __init__(self):\n",
    "        self.b = 10\n",
    "    a = D()"
   ]
  },
  {
   "cell_type": "code",
   "execution_count": 18,
   "metadata": {},
   "outputs": [
    {
     "name": "stdout",
     "output_type": "stream",
     "text": "get\n"
    },
    {
     "data": {
      "text/plain": "10"
     },
     "execution_count": 18,
     "metadata": {},
     "output_type": "execute_result"
    }
   ],
   "source": [
    "X = C() \n",
    "X.a \n",
    "X.b"
   ]
  },
  {
   "cell_type": "code",
   "execution_count": 19,
   "metadata": {},
   "outputs": [
    {
     "ename": "AttributeError",
     "evalue": "cannot set",
     "output_type": "error",
     "traceback": [
      "\u001b[1;31m---------------------------------------------------------------------------\u001b[0m",
      "\u001b[1;31mAttributeError\u001b[0m                            Traceback (most recent call last)",
      "\u001b[1;32m<ipython-input-19-1ce34fee47e1>\u001b[0m in \u001b[0;36m<module>\u001b[1;34m\u001b[0m\n\u001b[1;32m----> 1\u001b[1;33m \u001b[0mX\u001b[0m\u001b[1;33m.\u001b[0m\u001b[0ma\u001b[0m \u001b[1;33m=\u001b[0m \u001b[1;36m99\u001b[0m\u001b[1;33m\u001b[0m\u001b[1;33m\u001b[0m\u001b[0m\n\u001b[0m",
      "\u001b[1;32m<ipython-input-17-c8f5165a619d>\u001b[0m in \u001b[0;36m__set__\u001b[1;34m(*args)\u001b[0m\n\u001b[0;32m      1\u001b[0m \u001b[1;32mclass\u001b[0m \u001b[0mD\u001b[0m\u001b[1;33m:\u001b[0m\u001b[1;33m\u001b[0m\u001b[1;33m\u001b[0m\u001b[0m\n\u001b[0;32m      2\u001b[0m     \u001b[1;32mdef\u001b[0m \u001b[0m__get__\u001b[0m\u001b[1;33m(\u001b[0m\u001b[1;33m*\u001b[0m\u001b[0margs\u001b[0m\u001b[1;33m)\u001b[0m\u001b[1;33m:\u001b[0m\u001b[0mprint\u001b[0m\u001b[1;33m(\u001b[0m\u001b[1;34m'get'\u001b[0m\u001b[1;33m)\u001b[0m\u001b[1;33m\u001b[0m\u001b[1;33m\u001b[0m\u001b[0m\n\u001b[1;32m----> 3\u001b[1;33m     \u001b[1;32mdef\u001b[0m \u001b[0m__set__\u001b[0m\u001b[1;33m(\u001b[0m\u001b[1;33m*\u001b[0m\u001b[0margs\u001b[0m\u001b[1;33m)\u001b[0m\u001b[1;33m:\u001b[0m\u001b[1;32mraise\u001b[0m \u001b[0mAttributeError\u001b[0m\u001b[1;33m(\u001b[0m\u001b[1;34m'cannot set'\u001b[0m\u001b[1;33m)\u001b[0m\u001b[1;33m\u001b[0m\u001b[1;33m\u001b[0m\u001b[0m\n\u001b[0m\u001b[0;32m      4\u001b[0m \u001b[1;33m\u001b[0m\u001b[0m\n\u001b[0;32m      5\u001b[0m \u001b[1;32mclass\u001b[0m \u001b[0mC\u001b[0m\u001b[1;33m:\u001b[0m\u001b[1;33m\u001b[0m\u001b[1;33m\u001b[0m\u001b[0m\n",
      "\u001b[1;31mAttributeError\u001b[0m: cannot set"
     ]
    }
   ],
   "source": [
    "X.a = 99"
   ]
  },
  {
   "cell_type": "code",
   "execution_count": 20,
   "metadata": {},
   "outputs": [
    {
     "data": {
      "text/plain": "20"
     },
     "execution_count": 20,
     "metadata": {},
     "output_type": "execute_result"
    }
   ],
   "source": [
    "X.b = 20\n",
    "X.b "
   ]
  },
  {
   "cell_type": "markdown",
   "execution_count": null,
   "metadata": {},
   "outputs": [],
   "source": [
    "### 示例"
   ]
  },
  {
   "cell_type": "code",
   "execution_count": 21,
   "metadata": {},
   "outputs": [],
   "source": [
    "class Name:\n",
    "    # self是Name类属性，instance是Person类属性，owner是Person类\n",
    "    def __get__(self, instance, owner):\n",
    "        print('fetch...')\n",
    "        return instance._name\n",
    "    \n",
    "    def __set__(self, instance, value):\n",
    "        print('change...')\n",
    "        instance._name = value \n",
    "    \n",
    "    def __delete__(self, instance):\n",
    "        print('remove...')\n",
    "        del instance._name "
   ]
  },
  {
   "cell_type": "code",
   "execution_count": 22,
   "metadata": {},
   "outputs": [],
   "source": [
    "class Person:\n",
    "    def __init__(self, name):\n",
    "        self._name = name \n",
    "    name = Name() # 把描述符赋值给类属性"
   ]
  },
  {
   "cell_type": "code",
   "execution_count": 24,
   "metadata": {},
   "outputs": [
    {
     "name": "stdout",
     "output_type": "stream",
     "text": "fetch...\nBob Smith\n"
    }
   ],
   "source": [
    "bob = Person('Bob Smith')\n",
    "print(bob.name)"
   ]
  },
  {
   "cell_type": "code",
   "execution_count": 25,
   "metadata": {},
   "outputs": [
    {
     "name": "stdout",
     "output_type": "stream",
     "text": "change...\nfetch...\n"
    },
    {
     "data": {
      "text/plain": "'szq'"
     },
     "execution_count": 25,
     "metadata": {},
     "output_type": "execute_result"
    }
   ],
   "source": [
    "bob.name = 'szq'\n",
    "bob.name "
   ]
  },
  {
   "cell_type": "markdown",
   "execution_count": null,
   "metadata": {},
   "outputs": [],
   "source": [
    "和property一样，可以在每次获取属性的时候计算它们的值"
   ]
  },
  {
   "cell_type": "markdown",
   "execution_count": null,
   "metadata": {},
   "outputs": [],
   "source": [
    "### 描述符中使用状态信息\n",
    "\n",
    "描述符除了能使用存储在客户实例中的数据，也能使用附加到描述符对象本身的数据。\n",
    "\n",
    "- 描述符状态用来管理描述符内部使用的数据，或是**横跨所有实例的数据**。它可以随着属性形式的不同而不同。。。基于描述符的数据\n",
    "- 实例状态记录了和客户类相关，或是被客户类创建的信息。它可以随着客户类实例的不同而不同。。。基于客户类实例的数据"
   ]
  },
  {
   "cell_type": "code",
   "execution_count": 26,
   "metadata": {},
   "outputs": [],
   "source": [
    "class DescState:\n",
    "    def __init__(self, value):\n",
    "        self.value = value \n",
    "    \n",
    "    def __get__(self, instance, owner):\n",
    "        print('DescState get')\n",
    "        return self.value * 10 # 计算值\n",
    "    \n",
    "    def __set__(self, instance, value):\n",
    "        print('DescState set')\n",
    "        self.value = value "
   ]
  },
  {
   "cell_type": "code",
   "execution_count": 27,
   "metadata": {},
   "outputs": [],
   "source": [
    "class CalcAttrs:\n",
    "    X = DescState(2) # 描述符状态\n",
    "    Y = 3\n",
    "    def __init__(self):\n",
    "        self.Z = 4"
   ]
  },
  {
   "cell_type": "code",
   "execution_count": 28,
   "metadata": {},
   "outputs": [
    {
     "name": "stdout",
     "output_type": "stream",
     "text": "DescState get\n20 3 4\n"
    }
   ],
   "source": [
    "obj = CalcAttrs()\n",
    "print(obj.X, obj.Y, obj.Z)"
   ]
  },
  {
   "cell_type": "code",
   "execution_count": 29,
   "metadata": {},
   "outputs": [
    {
     "name": "stdout",
     "output_type": "stream",
     "text": "DescState set\nDescState get\n50 6 7\n"
    }
   ],
   "source": [
    "obj.X = 5\n",
    "CalcAttrs.Y = 6\n",
    "obj.Z = 7\n",
    "print(obj.X, obj.Y, obj.Z)"
   ]
  },
  {
   "cell_type": "code",
   "execution_count": 30,
   "metadata": {},
   "outputs": [
    {
     "name": "stdout",
     "output_type": "stream",
     "text": "DescState get\n50 6 4\n"
    }
   ],
   "source": [
    "obj2 = CalcAttrs()\n",
    "print(obj2.X, obj2.Y, obj2.Z)"
   ]
  },
  {
   "cell_type": "markdown",
   "execution_count": null,
   "metadata": {},
   "outputs": [],
   "source": [
    "因为这段代码内部的value信息仅存在于描述符之中，因此如果在客户类的实例中使用相同的名称，也不会冲突。这里描述符管理的属性只拦截X，可以看到所有实例共享一个X值，因为X是绑定的描述符状态，而不是实例的自建的属性。如果使用实例的属性，则每个实例都有一个自己的属性副本"
   ]
  },
  {
   "cell_type": "code",
   "execution_count": 31,
   "metadata": {},
   "outputs": [],
   "source": [
    "class InstState:\n",
    "    def __get__(self, instance, owner):\n",
    "        print('Instance get')\n",
    "        return instance._X * 10\n",
    "    \n",
    "    def __set__(self, instance, value):\n",
    "        print('Instance set')\n",
    "        instance._X = value "
   ]
  },
  {
   "cell_type": "code",
   "execution_count": 32,
   "metadata": {},
   "outputs": [],
   "source": [
    "class CalcAttrs:\n",
    "    X = InstState()\n",
    "    Y = 3\n",
    "    def __init__(self):\n",
    "        self._X = 2\n",
    "        self.Z = 4"
   ]
  },
  {
   "cell_type": "code",
   "execution_count": 33,
   "metadata": {},
   "outputs": [
    {
     "name": "stdout",
     "output_type": "stream",
     "text": "Instance get\n20 3 4\n"
    }
   ],
   "source": [
    "obj = CalcAttrs()\n",
    "print(obj.X, obj.Y, obj.Z)"
   ]
  },
  {
   "cell_type": "code",
   "execution_count": 35,
   "metadata": {},
   "outputs": [
    {
     "name": "stdout",
     "output_type": "stream",
     "text": "Instance set\nInstance get\n50 5 6\n"
    }
   ],
   "source": [
    "obj.X = 5\n",
    "CalcAttrs.Y = 5\n",
    "obj.Z = 6\n",
    "print(obj.X, obj.Y, obj.Z)"
   ]
  },
  {
   "cell_type": "code",
   "execution_count": 36,
   "metadata": {},
   "outputs": [
    {
     "name": "stdout",
     "output_type": "stream",
     "text": "Instance get\n20 5 4\n"
    }
   ],
   "source": [
    "obj2 = CalcAttrs()\n",
    "print(obj2.X, obj2.Y, obj2.Z)"
   ]
  },
  {
   "cell_type": "markdown",
   "execution_count": null,
   "metadata": {},
   "outputs": [],
   "source": [
    "描述符相较于Proprty的一个常见的优势就是描述符有自己的状态，所以可以很容易的在内部存储数据，而不用将数据添加到客户实例对象的命名空间中。"
   ]
  },
  {
   "cell_type": "markdown",
   "execution_count": null,
   "metadata": {},
   "outputs": [],
   "source": [
    "### property与描述符"
   ]
  },
  {
   "cell_type": "code",
   "execution_count": 37,
   "metadata": {},
   "outputs": [],
   "source": [
    "# 可以用描述符实现property\n",
    "class Property:\n",
    "    def __init__(self, fget=None, fset=None, fdel=None, doc=None):\n",
    "        self.fget = fget \n",
    "        self.fset = fset \n",
    "        self.fdel = fdel\n",
    "    \n",
    "    def __get__(self, instance, instanceType=None):\n",
    "        if instance is None:\n",
    "            return self\n",
    "        if self.fget is None:\n",
    "            raise AttributeError(\"can't get attribute\")\n",
    "        return self.fget(instance)\n",
    "    \n",
    "    def __set__(self, instance, value):\n",
    "        if self.fset is None:\n",
    "            raise AttributeError(\"can't set attribute\")\n",
    "        self.fset(instance, value)\n",
    "    \n",
    "    def __delete__(self, instance):\n",
    "        if self.fdel is None:\n",
    "            raise AttributeError(\"can't delete attribute\")\n",
    "        self.fdel(instance)"
   ]
  },
  {
   "cell_type": "markdown",
   "execution_count": null,
   "metadata": {},
   "outputs": [],
   "source": [
    "## __getattr__ 和 __getattribute__\n",
    "\n",
    "两个运算符重载方法提供了拦截实例的属性获取的方法。但是这两个能拦截任意的名称。所以可以扮演更多的角色比如代理。\n",
    "\n",
    "- `__getattr__`针对未定义的属性运行。因为它只能为不存储在实例中或是不继承自它的类的属性运行\n",
    "- `__getattribute__`针对所有的属性运行，因为它是涵盖一切的，所以在使用它的时候，必须小心避免通过把属性访问传递给父类而导致递归循环。\n",
    "\n",
    "其中死循环的现象如下所示：\n",
    "```pyhton\n",
    "def __getattribute__(self, name):\n",
    "    x = self.other # 由于getattrubute拦截所有属性获取，继续调用就会进入死循环\n",
    "```\n",
    "\n",
    "为了避免死循环，需要将获取指向一个更高的父类，从而跳过这个层级的版本，因为`object`总是一个新式类的父类，所以选择它在这里可以很好的起作用。\n",
    "\n",
    "```python\n",
    "def __getattribute__(self, name):\n",
    "    x = object.__getattribute__(self, 'other')\n",
    "```\n",
    "\n",
    "`__setattr__`避免死循环的方式：\n",
    "```js\n",
    "def __setattr__(self, name, value):\n",
    "    self.__dict__['other'] = value \n",
    "    object.__setattr__(self, 'other', value)\n",
    "```"
   ]
  },
  {
   "cell_type": "code",
   "execution_count": 9,
   "metadata": {},
   "outputs": [],
   "source": [
    "class Person:\n",
    "    def __init__(self, name):\n",
    "        self._name = name  # 这一句话也会调用__setattr__的呦\n",
    "    \n",
    "    def __getattr__(self, attr):\n",
    "        print('get: ' + attr)\n",
    "        if attr == 'name':\n",
    "            return self._name \n",
    "        else:\n",
    "            raise AttributeError(attr)\n",
    "    \n",
    "    # 优先级比getattr高\n",
    "    # def __getattribute__(self, attr):\n",
    "    #     print('getattribute:' + attr)\n",
    "    #     if attr == 'name':\n",
    "    #         attr = '_name'\n",
    "    #     return object.__getattribute__(self, attr)\n",
    "        \n",
    "    def __setattr__(self, attr, value):\n",
    "        print('set: ' + attr)\n",
    "        if attr == 'name':\n",
    "            attr = '_name'\n",
    "        self.__dict__[attr] = value \n",
    "    \n",
    "    def __delattr__(self):\n",
    "        print('del: ' + attr)\n",
    "        if attr == 'name':\n",
    "            attr = '_name'\n",
    "        del self.__dict__[attr]"
   ]
  },
  {
   "cell_type": "code",
   "execution_count": 11,
   "metadata": {},
   "outputs": [
    {
     "name": "stdout",
     "output_type": "stream",
     "text": "set: _name\ngetattribute:__dict__\n--------------------------------------------------\ngetattribute:name\nBob Smith\nset: name\ngetattribute:__dict__\n"
    }
   ],
   "source": [
    "bob = Person('Bob Smith')\n",
    "print('-' * 50)\n",
    "print(bob.name)\n",
    "bob.name = 'szq'"
   ]
  },
  {
   "cell_type": "markdown",
   "execution_count": null,
   "metadata": {},
   "outputs": [],
   "source": [
    "### 计算出的属性"
   ]
  },
  {
   "cell_type": "code",
   "execution_count": 12,
   "metadata": {},
   "outputs": [],
   "source": [
    "class AttrSquare:\n",
    "    def __init__(self, start):\n",
    "        self.value = start \n",
    "    \n",
    "    def __getattribute__(self, attr):\n",
    "        if attr == 'X':\n",
    "            return self.value ** 2\n",
    "        else:\n",
    "            return object.__getattribute__(self, attr)\n",
    "\n",
    "        # return object.__getattribute__(self, 'value') ** 2\n",
    "    \n",
    "    def __setattr__(self, attr, value):\n",
    "        if attr == 'X':\n",
    "            attr = 'value'\n",
    "        object.__setattr__(self, attr, value)"
   ]
  },
  {
   "cell_type": "markdown",
   "execution_count": null,
   "metadata": {},
   "outputs": [],
   "source": [
    "- 构造函数中的赋值会触发setattr\n",
    "- getattribute 中的self.value 会再次触发getattribute"
   ]
  },
  {
   "cell_type": "markdown",
   "execution_count": null,
   "metadata": {},
   "outputs": [],
   "source": [
    "### 拦截内置运算属性\n",
    "\n",
    "对于内置的运算符重载方法，**隐式运行时**，`getattr`和`getattribute`不会进行拦截，比如`__add__`"
   ]
  },
  {
   "cell_type": "code",
   "execution_count": 17,
   "metadata": {},
   "outputs": [],
   "source": [
    "class GetAttr:\n",
    "    eggs = 88\n",
    "    def __init__(self):\n",
    "        self.spam = 77\n",
    "    \n",
    "    def __len__(self):\n",
    "        print('__len__: 42')\n",
    "        return 42\n",
    "    \n",
    "    def __getattr__(self, attr):\n",
    "        print('getattr: ' + attr)\n",
    "        if attr == '__str__':\n",
    "            return lambda *args: '[Getattr str]'\n",
    "        else:\n",
    "            return lambda *args: None"
   ]
  },
  {
   "cell_type": "code",
   "execution_count": 18,
   "metadata": {},
   "outputs": [],
   "source": [
    "class GetAttribute:\n",
    "    eggs = 88\n",
    "    def __init__(self):\n",
    "        self.spam = 77\n",
    "    \n",
    "    def __len__(self):\n",
    "        print('__len__: 42')\n",
    "        return 42\n",
    "    \n",
    "    def __getattribute__(self, attr):\n",
    "        print('getattribute: ' + attr)\n",
    "        if attr == '__str__':\n",
    "            return lambda *args: '[Getattribute str]'\n",
    "        else:\n",
    "            return lambda *args: None"
   ]
  },
  {
   "cell_type": "code",
   "execution_count": 20,
   "metadata": {},
   "outputs": [
    {
     "name": "stdout",
     "output_type": "stream",
     "text": "getattr: other\n__len__: 42\nfail []\nfail +\nfail ()\ngetattr: __call__\n<__main__.GetAttr object at 0x0000028C0B8471C8>\n<__main__.GetAttr object at 0x0000028C0B8471C8>\n--------------------------------------------------\ngetattribute: eggs\ngetattribute: spam\ngetattribute: other\n__len__: 42\nfail []\nfail +\nfail ()\ngetattribute: __call__\ngetattribute: __str__\n[Getattribute str]\n<__main__.GetAttribute object at 0x0000028C0BB55CC8>\n--------------------------------------------------\n"
    }
   ],
   "source": [
    "for Class in GetAttr, GetAttribute:\n",
    "    X = Class()\n",
    "    X.eggs\n",
    "    X.spam\n",
    "    X.other\n",
    "    len(X)\n",
    "\n",
    "    try:\n",
    "        X[0]\n",
    "    except:\n",
    "        print('fail []')\n",
    "\n",
    "    try:\n",
    "        X + 99\n",
    "    except:\n",
    "        print('fail +')\n",
    "    \n",
    "    try:\n",
    "        X() # 隐式调用\n",
    "    except:\n",
    "        print('fail ()')    \n",
    "    X.__call__ # 显式调用\n",
    "    \n",
    "    print(X.__str__())\n",
    "    print(X)\n",
    "\n",
    "    print('-'*50)"
   ]
  },
  {
   "cell_type": "code",
   "execution_count": null,
   "metadata": {},
   "outputs": [],
   "source": []
  }
 ]
}