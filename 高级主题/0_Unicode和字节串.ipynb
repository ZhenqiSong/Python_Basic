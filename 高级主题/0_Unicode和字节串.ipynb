{
 "nbformat": 4,
 "nbformat_minor": 2,
 "metadata": {
  "language_info": {
   "name": "python",
   "codemirror_mode": {
    "name": "ipython",
    "version": 3
   },
   "version": "3.7.4"
  },
  "orig_nbformat": 2,
  "file_extension": ".py",
  "mimetype": "text/x-python",
  "name": "python",
  "npconvert_exporter": "python",
  "pygments_lexer": "ipython3",
  "version": 3
 },
 "cells": [
  {
   "cell_type": "markdown",
   "execution_count": null,
   "metadata": {},
   "outputs": [],
   "source": [
    "# Unicode和字节串\n",
    "\n",
    "## 字符串基础知识\n",
    "\n",
    "### 字符编码方案\n",
    "\n",
    "字符集使将整数编码赋值给单独字符的标准，这样字符就可以在内存中标识。例如`ASCII`定义了从0-127的字符编码。"
   ]
  },
  {
   "cell_type": "code",
   "execution_count": 1,
   "metadata": {},
   "outputs": [
    {
     "data": {
      "text/plain": "(97, 'a')"
     },
     "execution_count": 1,
     "metadata": {},
     "output_type": "execute_result"
    }
   ],
   "source": [
    "ord('a'), chr(97)"
   ]
  },
  {
   "cell_type": "markdown",
   "execution_count": null,
   "metadata": {},
   "outputs": [],
   "source": [
    "然而有些语言都的字母表无法使用ASCII表示，就需要使用`Unicode`,叫做宽字符字符串，因为字符可以根据需要表示多个字节。就可以用来表示中文等非英语字符集。  \n",
    "为了确保字符和原始字节之间可以使用一种编码互相转换，而编码就是把一个Unicode字符转换为字节序列以及从一个字节序列提取字符串的规则。我们需要将字符串编码为原始字节，并且从原始字节解码为字符串。\n",
    "\n",
    "ASCII是UTF-8的子集，是小于128的字符码，UTF-8则使用了多个字节表示字符串。"
   ]
  },
  {
   "cell_type": "code",
   "execution_count": 2,
   "metadata": {},
   "outputs": [],
   "source": [
    "s = 'szq'"
   ]
  },
  {
   "cell_type": "code",
   "execution_count": 3,
   "metadata": {},
   "outputs": [
    {
     "data": {
      "text/plain": "(b'szq', b'szq', b'szq')"
     },
     "execution_count": 3,
     "metadata": {},
     "output_type": "execute_result"
    }
   ],
   "source": [
    "s.encode('ascii'), s.encode('latin1'), s.encode('utf-8')"
   ]
  },
  {
   "cell_type": "code",
   "execution_count": 4,
   "metadata": {},
   "outputs": [
    {
     "data": {
      "text/plain": "(b'\\xff\\xfes\\x00z\\x00q\\x00', 8)"
     },
     "execution_count": 4,
     "metadata": {},
     "output_type": "execute_result"
    }
   ],
   "source": [
    "s.encode('utf-16'), len(s.encode('utf-16'))"
   ]
  },
  {
   "cell_type": "markdown",
   "execution_count": null,
   "metadata": {},
   "outputs": [],
   "source": [
    "### 内存中存储字符串\n",
    "\n",
    "在内存中，python以编码中立的格式存储解码后的文本字符串。全部都得文本处理都以这种统一的内部格式进行。只有当文本被转移到外部文本文件、字节串或带有特定编码要求的API时，文本才被翻译为特定的编码格式。只要处理内存中，就没有任何编码。"
   ]
  },
  {
   "cell_type": "markdown",
   "execution_count": null,
   "metadata": {},
   "outputs": [],
   "source": [
    "## python的字符串类型\n",
    "\n",
    "在python2中，str表示8为本文和二进制数据，unicode表示解码的Unicode文本。  \n",
    "在python3中，有三种字符串对象类型：\n",
    "- str表示解码的Unicode文本\n",
    "- bytes 表示二进制数据\n",
    "- bytearray 一种可变的bytes类型\n",
    "### 文本和二进制文件\n",
    "\n",
    "文本文件：以本文形式打开，会自动解码为str，依赖于平台默认名称或提供解码名称。  \n",
    "二进制文件：通过添加 `b`参数，将以二进制模式打开一个文件，不以任何方式解码它，而是返回未经修改的原始内容，作为一个bytes对象。"
   ]
  },
  {
   "cell_type": "markdown",
   "execution_count": null,
   "metadata": {},
   "outputs": [],
   "source": [
    "## 编写基本的字符串\n",
    "\n"
   ]
  },
  {
   "cell_type": "code",
   "execution_count": 5,
   "metadata": {},
   "outputs": [],
   "source": [
    "B = b'spam'\n",
    "S = 'eggs'"
   ]
  },
  {
   "cell_type": "code",
   "execution_count": 6,
   "metadata": {},
   "outputs": [
    {
     "data": {
      "text/plain": "(bytes, str)"
     },
     "execution_count": 6,
     "metadata": {},
     "output_type": "execute_result"
    }
   ],
   "source": [
    "type(B), type(S)"
   ]
  },
  {
   "cell_type": "code",
   "execution_count": 8,
   "metadata": {},
   "outputs": [
    {
     "data": {
      "text/plain": "(115, 'e')"
     },
     "execution_count": 8,
     "metadata": {},
     "output_type": "execute_result"
    }
   ],
   "source": [
    "B[0], S[0] # python3的bytes对象实际上是一个短整数序列"
   ]
  },
  {
   "cell_type": "code",
   "execution_count": 9,
   "metadata": {},
   "outputs": [
    {
     "data": {
      "text/plain": "([115, 112, 97, 109], ['e', 'g', 'g', 's'])"
     },
     "execution_count": 9,
     "metadata": {},
     "output_type": "execute_result"
    }
   ],
   "source": [
    "list(B), list(S)"
   ]
  },
  {
   "cell_type": "markdown",
   "execution_count": null,
   "metadata": {},
   "outputs": [],
   "source": [
    "### 字符串类型转换\n",
    "\n",
    "在python3中，str和bytes类型对象禁止在表达式中自动地混合，并且当它们传递给函数地时候不会自动相互转换，需要手动执行显示转换。 \n",
    "\n",
    "- str.encode()和 bytes(S, encoding)把一个字符串转换为其原始字节形式。\n",
    "- bytes.decode() 和 str(B, encoding)把原始字节转换为字符串形式"
   ]
  },
  {
   "cell_type": "code",
   "execution_count": 10,
   "metadata": {},
   "outputs": [
    {
     "data": {
      "text/plain": "b'eggs'"
     },
     "execution_count": 10,
     "metadata": {},
     "output_type": "execute_result"
    }
   ],
   "source": [
    "S = 'eggs'\n",
    "S.encode()"
   ]
  },
  {
   "cell_type": "code",
   "execution_count": 11,
   "metadata": {},
   "outputs": [
    {
     "data": {
      "text/plain": "b'eggs'"
     },
     "execution_count": 11,
     "metadata": {},
     "output_type": "execute_result"
    }
   ],
   "source": [
    "bytes(S, encoding='ascii')"
   ]
  },
  {
   "cell_type": "code",
   "execution_count": 12,
   "metadata": {},
   "outputs": [
    {
     "data": {
      "text/plain": "('spam', 'spam')"
     },
     "execution_count": 12,
     "metadata": {},
     "output_type": "execute_result"
    }
   ],
   "source": [
    "B = b'spam'\n",
    "B.decode(), str(B, encoding='ascii')"
   ]
  },
  {
   "cell_type": "code",
   "execution_count": 13,
   "metadata": {},
   "outputs": [
    {
     "data": {
      "text/plain": "('win32', 'utf-8')"
     },
     "execution_count": 13,
     "metadata": {},
     "output_type": "execute_result"
    }
   ],
   "source": [
    "import sys\n",
    "sys.platform, sys.getdefaultencoding()"
   ]
  },
  {
   "cell_type": "code",
   "execution_count": 14,
   "metadata": {},
   "outputs": [
    {
     "data": {
      "text/plain": "(7, 4)"
     },
     "execution_count": 14,
     "metadata": {},
     "output_type": "execute_result"
    }
   ],
   "source": [
    "len(str(B)), len(str(B, encoding='ascii')) # 默认以系统默认编码方式编码"
   ]
  },
  {
   "cell_type": "markdown",
   "execution_count": null,
   "metadata": {},
   "outputs": [],
   "source": [
    "## 编写 Unicode字符串\n",
    "\n",
    "### ascii文本"
   ]
  },
  {
   "cell_type": "code",
   "execution_count": 15,
   "metadata": {},
   "outputs": [
    {
     "data": {
      "text/plain": "88"
     },
     "execution_count": 15,
     "metadata": {},
     "output_type": "execute_result"
    }
   ],
   "source": [
    "ord('X')"
   ]
  },
  {
   "cell_type": "markdown",
   "execution_count": null,
   "metadata": {},
   "outputs": [],
   "source": [
    "### 非ASCII文本"
   ]
  },
  {
   "cell_type": "code",
   "execution_count": 17,
   "metadata": {},
   "outputs": [
    {
     "data": {
      "text/plain": "'Ä'"
     },
     "execution_count": 17,
     "metadata": {},
     "output_type": "execute_result"
    }
   ],
   "source": [
    "chr(0xc4)"
   ]
  },
  {
   "cell_type": "code",
   "execution_count": 23,
   "metadata": {},
   "outputs": [
    {
     "data": {
      "text/plain": "(b'\\xe5\\xb0\\x8f\\xe5\\x8f\\xaf\\xe7\\x88\\xb1', 9)"
     },
     "execution_count": 23,
     "metadata": {},
     "output_type": "execute_result"
    }
   ],
   "source": [
    "s = '小可爱'\n",
    "s.encode('utf-8'), len(s.encode('utf-8'))"
   ]
  },
  {
   "cell_type": "code",
   "execution_count": 25,
   "metadata": {},
   "outputs": [
    {
     "data": {
      "text/plain": "'小可爱'"
     },
     "execution_count": 25,
     "metadata": {},
     "output_type": "execute_result"
    }
   ],
   "source": [
    "B = b'\\xe5\\xb0\\x8f\\xe5\\x8f\\xaf\\xe7\\x88\\xb1'\n",
    "B.decode('utf-8')"
   ]
  },
  {
   "cell_type": "markdown",
   "execution_count": 26,
   "metadata": {},
   "outputs": [
    {
     "ename": "SyntaxError",
     "evalue": "invalid syntax (<ipython-input-26-981abe6450f7>, line 1)",
     "output_type": "error",
     "traceback": [
      "\u001b[1;36m  File \u001b[1;32m\"<ipython-input-26-981abe6450f7>\"\u001b[1;36m, line \u001b[1;32m1\u001b[0m\n\u001b[1;33m    python脚本文件默认使用`UTF-8`编码，但是它允许我们包含一个注释来指明想要地编码，从而将默认值修改为想要支持地任意字符集。\u001b[0m\n\u001b[1;37m                  ^\u001b[0m\n\u001b[1;31mSyntaxError\u001b[0m\u001b[1;31m:\u001b[0m invalid syntax\n"
     ]
    }
   ],
   "source": [
    "python脚本文件默认使用`UTF-8`编码，但是它允许我们包含一个注释来指明想要地编码，从而将默认值修改为想要支持地任意字符集。\n",
    "```python\n",
    "# -*- coding: utf-8 -*-\n",
    "```"
   ]
  },
  {
   "cell_type": "markdown",
   "execution_count": null,
   "metadata": {},
   "outputs": [],
   "source": [
    "## 使用bytes对象\n",
    "\n",
    "bytes对象是一个小整数序列，其中每个整数都在0-255之间，并且在显示的时候恰好打印为ASCII字符。它支持序列操作以及str对象上可用的大多数方法。但是不支持格式化方法，而且不能不经过显式转换就将bytes和str对象混合和匹配。"
   ]
  },
  {
   "cell_type": "code",
   "execution_count": 28,
   "metadata": {},
   "outputs": [
    {
     "data": {
      "text/plain": "{'casefold',\n 'encode',\n 'format',\n 'format_map',\n 'isdecimal',\n 'isidentifier',\n 'isnumeric',\n 'isprintable'}"
     },
     "execution_count": 28,
     "metadata": {},
     "output_type": "execute_result"
    }
   ],
   "source": [
    "set(dir('abc')) - set(dir(b'abc'))"
   ]
  },
  {
   "cell_type": "code",
   "execution_count": 29,
   "metadata": {},
   "outputs": [
    {
     "data": {
      "text/plain": "{'decode', 'fromhex', 'hex'}"
     },
     "execution_count": 29,
     "metadata": {},
     "output_type": "execute_result"
    }
   ],
   "source": [
    "set(dir(b'abc')) - set(dir('abc'))"
   ]
  },
  {
   "cell_type": "code",
   "execution_count": 32,
   "metadata": {},
   "outputs": [
    {
     "data": {
      "text/plain": "1"
     },
     "execution_count": 32,
     "metadata": {},
     "output_type": "execute_result"
    }
   ],
   "source": [
    "B = b'spam'\n",
    "B.find(b'pa')"
   ]
  },
  {
   "cell_type": "code",
   "execution_count": 33,
   "metadata": {},
   "outputs": [
    {
     "data": {
      "text/plain": "b'spa'"
     },
     "execution_count": 33,
     "metadata": {},
     "output_type": "execute_result"
    }
   ],
   "source": [
    "B[:-1] # 序列操作"
   ]
  },
  {
   "cell_type": "markdown",
   "execution_count": null,
   "metadata": {},
   "outputs": [],
   "source": [
    "### 创建bytes对象的其他方式"
   ]
  },
  {
   "cell_type": "code",
   "execution_count": 35,
   "metadata": {},
   "outputs": [
    {
     "data": {
      "text/plain": "b'abc'"
     },
     "execution_count": 35,
     "metadata": {},
     "output_type": "execute_result"
    }
   ],
   "source": [
    "B = bytes('abc', 'ascii')\n",
    "B"
   ]
  },
  {
   "cell_type": "code",
   "execution_count": 38,
   "metadata": {},
   "outputs": [
    {
     "data": {
      "text/plain": "b'abc'"
     },
     "execution_count": 38,
     "metadata": {},
     "output_type": "execute_result"
    }
   ],
   "source": [
    "B = bytes([97,98,99])\n",
    "B"
   ]
  },
  {
   "cell_type": "code",
   "execution_count": 40,
   "metadata": {},
   "outputs": [
    {
     "data": {
      "text/plain": "b'spam'"
     },
     "execution_count": 40,
     "metadata": {},
     "output_type": "execute_result"
    }
   ],
   "source": [
    "B = 'spam'.encode()\n",
    "B"
   ]
  },
  {
   "cell_type": "markdown",
   "execution_count": null,
   "metadata": {},
   "outputs": [],
   "source": [
    "## bytearray对象\n",
    "\n",
    "范围在0-255之间的一个可变序列，它是bytes的可变的变体。本身支持和bytes相同的字符串方法和序列操作，并且支持和列表同样多的可变的原处修改操作。"
   ]
  },
  {
   "cell_type": "code",
   "execution_count": 43,
   "metadata": {},
   "outputs": [
    {
     "data": {
      "text/plain": "bytearray(b'spam')"
     },
     "execution_count": 43,
     "metadata": {},
     "output_type": "execute_result"
    }
   ],
   "source": [
    "s = 'spam'\n",
    "c = bytearray(s, 'utf-8')\n",
    "c"
   ]
  },
  {
   "cell_type": "code",
   "execution_count": 46,
   "metadata": {},
   "outputs": [
    {
     "data": {
      "text/plain": "bytearray(b'xpam')"
     },
     "execution_count": 46,
     "metadata": {},
     "output_type": "execute_result"
    }
   ],
   "source": [
    "c[0] = ord('x')\n",
    "c"
   ]
  },
  {
   "cell_type": "code",
   "execution_count": 47,
   "metadata": {},
   "outputs": [
    {
     "ename": "TypeError",
     "evalue": "'bytes' object cannot be interpreted as an integer",
     "output_type": "error",
     "traceback": [
      "\u001b[1;31m---------------------------------------------------------------------------\u001b[0m",
      "\u001b[1;31mTypeError\u001b[0m                                 Traceback (most recent call last)",
      "\u001b[1;32m<ipython-input-47-6d13a021352d>\u001b[0m in \u001b[0;36m<module>\u001b[1;34m\u001b[0m\n\u001b[1;32m----> 1\u001b[1;33m \u001b[0mc\u001b[0m\u001b[1;33m[\u001b[0m\u001b[1;36m0\u001b[0m\u001b[1;33m]\u001b[0m \u001b[1;33m=\u001b[0m \u001b[1;34mb'a'\u001b[0m\u001b[1;33m\u001b[0m\u001b[1;33m\u001b[0m\u001b[0m\n\u001b[0m",
      "\u001b[1;31mTypeError\u001b[0m: 'bytes' object cannot be interpreted as an integer"
     ]
    }
   ],
   "source": [
    "c[0] = b'a'"
   ]
  },
  {
   "cell_type": "markdown",
   "execution_count": null,
   "metadata": {},
   "outputs": [],
   "source": [
    "- 对文本数据使用str\n",
    "- 对二进制数据使用bytes\n",
    "- 对想要原处修改的二进制数据使用bytearray"
   ]
  },
  {
   "cell_type": "markdown",
   "execution_count": null,
   "metadata": {},
   "outputs": [],
   "source": [
    "## 文本文件和二进制文件\n",
    "\n",
    "**文本模式文件**根据Unicode编码来解释文件内容，通过向open内置函数传递一个编码名，可以强行进行各种类型的转换。默认情况下所有的行末映射为脚本中一个单独的`\\n`字符。也负责读取和写入某些写入文件开始处的字节顺序标记BOM，返回str对象  \n",
    "**二进制模式文件**返回原始文件内容，作为表示字节值的一个整数序列。返回一个bytes对象"
   ]
  },
  {
   "cell_type": "markdown",
   "execution_count": null,
   "metadata": {},
   "outputs": [],
   "source": [
    "## 使用Unicode文件\n",
    "\n",
    "python使用open调用打开文本文件时接受一个编码名称，在数据传输的时候，它能够自动为我们进行所需要的编码和解码。\n",
    "\n",
    "### 读写Unicode \n"
   ]
  },
  {
   "cell_type": "code",
   "execution_count": 49,
   "metadata": {},
   "outputs": [
    {
     "data": {
      "text/plain": "'AÄBèc'"
     },
     "execution_count": 49,
     "metadata": {},
     "output_type": "execute_result"
    }
   ],
   "source": [
    "s = 'A\\xc4B\\xe8c'\n",
    "s"
   ]
  },
  {
   "cell_type": "code",
   "execution_count": 50,
   "metadata": {},
   "outputs": [
    {
     "data": {
      "text/plain": "(b'A\\xc4B\\xe8c', 5)"
     },
     "execution_count": 50,
     "metadata": {},
     "output_type": "execute_result"
    }
   ],
   "source": [
    "# 手动编码\n",
    "\n",
    "L = s.encode('latin-1')\n",
    "L, len(L)"
   ]
  },
  {
   "cell_type": "code",
   "execution_count": 51,
   "metadata": {},
   "outputs": [
    {
     "data": {
      "text/plain": "(b'A\\xc3\\x84B\\xc3\\xa8c', 7)"
     },
     "execution_count": 51,
     "metadata": {},
     "output_type": "execute_result"
    }
   ],
   "source": [
    "U = s.encode('utf-8')\n",
    "U, len(U)"
   ]
  },
  {
   "cell_type": "code",
   "execution_count": null,
   "metadata": {},
   "outputs": [],
   "source": [
    "# 文件输出编码\n",
    "\n",
    "open('latindata', 'w', encoding='latin-1').write(s)"
   ]
  },
  {
   "cell_type": "markdown",
   "execution_count": null,
   "metadata": {},
   "outputs": [],
   "source": [
    "### 处理BOM\n",
    "\n",
    "一些编码方式在文件开始处存储了一个特殊的字节顺序标记序列，来指定数据的大小尾方式或声明编码类型。\n",
    "- UTF-16中，总是对`utf-16`进行BOM处理，而更为特定的编码名称`utf-16-le`标示小尾格式`utf-16-be`表示大尾\n",
    "- UTF-8 中，更为特定的编码名称为`utf-8-sig`迫使python在输入和输出时分别跳过和写入BOM，使用默认的utf-8不会写入和跳过BOM"
   ]
  },
  {
   "cell_type": "markdown",
   "execution_count": null,
   "metadata": {},
   "outputs": [],
   "source": [
    "## 其他字符串工具\n",
    "\n",
    "### re模式匹配\n",
    "\n",
    "就是正则化，在python3中任何字符串类型都支持"
   ]
  },
  {
   "cell_type": "code",
   "execution_count": 52,
   "metadata": {},
   "outputs": [],
   "source": [
    "import re"
   ]
  },
  {
   "cell_type": "code",
   "execution_count": 53,
   "metadata": {},
   "outputs": [],
   "source": [
    "S = 'Bugger all down here on earth!'\n",
    "B = b'Bugger all down here on earth!'"
   ]
  },
  {
   "cell_type": "code",
   "execution_count": 54,
   "metadata": {},
   "outputs": [
    {
     "data": {
      "text/plain": "('Bugger all', 'here', 'earth!')"
     },
     "execution_count": 54,
     "metadata": {},
     "output_type": "execute_result"
    }
   ],
   "source": [
    "re.match('(.*) down (.*) on (.*)', S).groups()"
   ]
  },
  {
   "cell_type": "code",
   "execution_count": 55,
   "metadata": {},
   "outputs": [
    {
     "data": {
      "text/plain": "(b'Bugger all', b'here', b'earth!')"
     },
     "execution_count": 55,
     "metadata": {},
     "output_type": "execute_result"
    }
   ],
   "source": [
    "re.match(b'(.*) down (.*) on (.*)', B).groups()"
   ]
  },
  {
   "cell_type": "markdown",
   "execution_count": null,
   "metadata": {},
   "outputs": [],
   "source": [
    "### struct二进制数据模块\n",
    "\n",
    "用来从字符串中创建和提取打包的二进制数据"
   ]
  },
  {
   "cell_type": "code",
   "execution_count": 56,
   "metadata": {},
   "outputs": [],
   "source": [
    "from struct import pack "
   ]
  },
  {
   "cell_type": "code",
   "execution_count": 58,
   "metadata": {},
   "outputs": [],
   "source": [
    "B = pack('>i4sh', 7, b'spam', 8)"
   ]
  },
  {
   "cell_type": "code",
   "execution_count": 59,
   "metadata": {},
   "outputs": [],
   "source": [
    "import struct"
   ]
  },
  {
   "cell_type": "code",
   "execution_count": 61,
   "metadata": {},
   "outputs": [
    {
     "data": {
      "text/plain": "(7, b'spam', 8)"
     },
     "execution_count": 61,
     "metadata": {},
     "output_type": "execute_result"
    }
   ],
   "source": [
    "vals = struct.unpack('>i4sh', B)\n",
    "vals"
   ]
  },
  {
   "cell_type": "markdown",
   "execution_count": null,
   "metadata": {},
   "outputs": [],
   "source": [
    "### pickle对象序列化模块\n",
    "\n",
    "pickle模块总是创建一个bytes对象，而不管默认的或传入的协议"
   ]
  },
  {
   "cell_type": "code",
   "execution_count": 62,
   "metadata": {},
   "outputs": [],
   "source": [
    "import pickle"
   ]
  },
  {
   "cell_type": "code",
   "execution_count": 63,
   "metadata": {},
   "outputs": [
    {
     "data": {
      "text/plain": "b'\\x80\\x03]q\\x00(K\\x01K\\x02K\\x03e.'"
     },
     "execution_count": 63,
     "metadata": {},
     "output_type": "execute_result"
    }
   ],
   "source": [
    "pickle.dumps([1, 2, 3])"
   ]
  },
  {
   "cell_type": "code",
   "execution_count": 65,
   "metadata": {},
   "outputs": [],
   "source": [
    "pickle.dump([1, 2, 3], open('temp', 'wb')) # 所以必须以二进制形式写入文件,因此读取也必须使用r"
   ]
  },
  {
   "cell_type": "code",
   "execution_count": null,
   "metadata": {},
   "outputs": [],
   "source": []
  }
 ]
}