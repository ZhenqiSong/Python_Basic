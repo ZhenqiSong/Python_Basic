{
 "nbformat": 4,
 "nbformat_minor": 2,
 "metadata": {
  "language_info": {
   "name": "python",
   "codemirror_mode": {
    "name": "ipython",
    "version": 3
   },
   "version": "3.7.4"
  },
  "orig_nbformat": 2,
  "file_extension": ".py",
  "mimetype": "text/x-python",
  "name": "python",
  "npconvert_exporter": "python",
  "pygments_lexer": "ipython3",
  "version": 3
 },
 "cells": [
  {
   "cell_type": "markdown",
   "execution_count": null,
   "metadata": {},
   "outputs": [],
   "source": [
    "# 作用域 \n",
    "\n",
    "## 作用域基础\n",
    "\n",
    "每个变量名都有自己的命名空间，即作用域。变量的作用域在变量第一次赋值时决定，作用域决定了该变量的可见范围。\n",
    "\n",
    "- def 内创建的变量只能在函数内使用，不能在函数外部引用该变量\n",
    "- 函数内和函数外赋值的变量不冲突，即使名字相同\n",
    "\n",
    "变量的作用域由它在代码中被赋值的位置决定：\n",
    "- 在函数内赋值，则对于该函数而言是局部的\n",
    "- 在外层函数定义，对内层函数而言是非局部的\n",
    "- 在所有的函数外定义，则是全局的"
   ]
  },
  {
   "cell_type": "markdown",
   "execution_count": null,
   "metadata": {},
   "outputs": [],
   "source": [
    "## 作用域细节\n",
    "\n",
    "- 外围模块是全局作用域\n",
    "- 全局作用域的作用范围仅限于单个文件，python中没有跨文件的全局概念\n",
    "- 函数内赋值的变量名除非声明为global或nonlocal,否则都是局部变量\n",
    "- 除了函数内创建的变量名，其他使用到的变量都是外层函数的局部变量，全局变量或内置变量\n",
    "- 函数每次调用都会创建一个新的局部作用域\n",
    "\n",
    "函数内部任何类型的赋值都会把一个名称划定为局部，不仅限于=赋值，还包括import, def等"
   ]
  },
  {
   "cell_type": "markdown",
   "execution_count": null,
   "metadata": {},
   "outputs": [],
   "source": [
    "## 变量名解析：LEGB规则\n",
    "\n",
    "所有函数内定义赋值的变量名都默认为局部变量。函数能够随意使用在外层函数内或全局作用域内的白能量，但是必须声明为非局部变量和全局变量来改变其属性。\n",
    "\n",
    "当使用变量时，python会在四个作用域中找到第一次该变量名的地方停下来， 这就是LEGB规则：\n",
    "- 首先是L，局部作用域\n",
    "- 其次是E，外一层的局部作用域\n",
    "- 之后是G，全局作用域\n",
    "- 最后是B，内置作用域\n",
    "\n",
    "当在函数中给一个变量名赋值时，会创建或改变局部作用域的变量名，除非该变量已被声明为全局的"
   ]
  },
  {
   "cell_type": "markdown",
   "execution_count": null,
   "metadata": {},
   "outputs": [],
   "source": [
    "## 作用域示例"
   ]
  },
  {
   "cell_type": "code",
   "execution_count": 6,
   "metadata": {},
   "outputs": [
    {
     "name": "stdout",
     "output_type": "stream",
     "text": "11\n99\n"
    }
   ],
   "source": [
    "X = 99 # 全局\n",
    "def func(Y):\n",
    "    X = 10 # 这里对X重新赋值，则生成的局部变量的X, 和外部的X不冲突，如果不重新赋值，则X是直接使用的全部X\n",
    "    Z = X+Y\n",
    "    return Z\n",
    "\n",
    "print(func(1))\n",
    "print(X)"
   ]
  },
  {
   "cell_type": "markdown",
   "execution_count": 3,
   "metadata": {},
   "outputs": [
    {
     "ename": "SyntaxError",
     "evalue": "invalid character in identifier (<ipython-input-3-f60a535a73c6>, line 1)",
     "output_type": "error",
     "traceback": [
      "\u001b[1;36m  File \u001b[1;32m\"<ipython-input-3-f60a535a73c6>\"\u001b[1;36m, line \u001b[1;32m1\u001b[0m\n\u001b[1;33m    上例中X和func是全局作用域变量，Y和Z则是局部的\u001b[0m\n\u001b[1;37m                             ^\u001b[0m\n\u001b[1;31mSyntaxError\u001b[0m\u001b[1;31m:\u001b[0m invalid character in identifier\n"
     ]
    }
   ],
   "source": [
    "上例中X和func是全局作用域变量，Y和Z则是局部的"
   ]
  },
  {
   "cell_type": "markdown",
   "execution_count": null,
   "metadata": {},
   "outputs": [],
   "source": [
    "## 内置作用域\n",
    "\n",
    "内置作用域仅仅是一个名为`builtins`的内置模块，但是必须要导入`builtins`之后才能使用内置作用域。\n"
   ]
  },
  {
   "cell_type": "code",
   "execution_count": 8,
   "metadata": {},
   "outputs": [
    {
     "data": {
      "text/plain": "['ArithmeticError',\n 'AssertionError',\n 'AttributeError',\n 'BaseException',\n 'BlockingIOError',\n 'BrokenPipeError',\n 'BufferError',\n 'BytesWarning',\n 'ChildProcessError',\n 'ConnectionAbortedError',\n 'ConnectionError',\n 'ConnectionRefusedError',\n 'ConnectionResetError',\n 'DeprecationWarning',\n 'EOFError',\n 'Ellipsis',\n 'EnvironmentError',\n 'Exception',\n 'False',\n 'FileExistsError',\n 'FileNotFoundError',\n 'FloatingPointError',\n 'FutureWarning',\n 'GeneratorExit',\n 'IOError',\n 'ImportError',\n 'ImportWarning',\n 'IndentationError',\n 'IndexError',\n 'InterruptedError',\n 'IsADirectoryError',\n 'KeyError',\n 'KeyboardInterrupt',\n 'LookupError',\n 'MemoryError',\n 'ModuleNotFoundError',\n 'NameError',\n 'None',\n 'NotADirectoryError',\n 'NotImplemented',\n 'NotImplementedError',\n 'OSError',\n 'OverflowError',\n 'PendingDeprecationWarning',\n 'PermissionError',\n 'ProcessLookupError',\n 'RecursionError',\n 'ReferenceError',\n 'ResourceWarning',\n 'RuntimeError',\n 'RuntimeWarning',\n 'StopAsyncIteration',\n 'StopIteration',\n 'SyntaxError',\n 'SyntaxWarning',\n 'SystemError',\n 'SystemExit',\n 'TabError',\n 'TimeoutError',\n 'True',\n 'TypeError',\n 'UnboundLocalError',\n 'UnicodeDecodeError',\n 'UnicodeEncodeError',\n 'UnicodeError',\n 'UnicodeTranslateError',\n 'UnicodeWarning',\n 'UserWarning',\n 'ValueError',\n 'Warning',\n 'WindowsError',\n 'ZeroDivisionError',\n '__IPYTHON__',\n '__build_class__',\n '__debug__',\n '__doc__',\n '__import__',\n '__loader__',\n '__name__',\n '__package__',\n '__spec__',\n 'abs',\n 'all',\n 'any',\n 'ascii',\n 'bin',\n 'bool',\n 'breakpoint',\n 'bytearray',\n 'bytes',\n 'callable',\n 'chr',\n 'classmethod',\n 'compile',\n 'complex',\n 'copyright',\n 'credits',\n 'delattr',\n 'dict',\n 'dir',\n 'display',\n 'divmod',\n 'enumerate',\n 'eval',\n 'exec',\n 'filter',\n 'float',\n 'format',\n 'frozenset',\n 'get_ipython',\n 'getattr',\n 'globals',\n 'hasattr',\n 'hash',\n 'help',\n 'hex',\n 'id',\n 'input',\n 'int',\n 'isinstance',\n 'issubclass',\n 'iter',\n 'len',\n 'license',\n 'list',\n 'locals',\n 'map',\n 'max',\n 'memoryview',\n 'min',\n 'next',\n 'object',\n 'oct',\n 'open',\n 'ord',\n 'pow',\n 'print',\n 'property',\n 'range',\n 'repr',\n 'reversed',\n 'round',\n 'set',\n 'setattr',\n 'slice',\n 'sorted',\n 'staticmethod',\n 'str',\n 'sum',\n 'super',\n 'tuple',\n 'type',\n 'vars',\n 'zip']"
     },
     "execution_count": 8,
     "metadata": {},
     "output_type": "execute_result"
    }
   ],
   "source": [
    "import builtins\n",
    "dir(builtins)"
   ]
  },
  {
   "cell_type": "code",
   "execution_count": 9,
   "metadata": {},
   "outputs": [
    {
     "data": {
      "text/plain": "True"
     },
     "execution_count": 9,
     "metadata": {},
     "output_type": "execute_result"
    }
   ],
   "source": [
    "zip is builtins.zip"
   ]
  },
  {
   "cell_type": "markdown",
   "execution_count": null,
   "metadata": {},
   "outputs": [],
   "source": [
    "如果对内置作用域的变量重新赋值，那么会替换到内置作用域的变量，这是万万不能的哦"
   ]
  },
  {
   "cell_type": "markdown",
   "execution_count": 10,
   "metadata": {},
   "outputs": [],
   "source": [
    "## Global语句\n",
    "\n",
    "global 语句告诉Python函数计划生成一个或多个全局变量名\n",
    "- 全部变量是在外层模块文件顶层被赋值的变量名\n",
    "- 全局变量如果在函数内赋值，必须经过声明\n",
    "- 全局变量名在函数的内部不经声明也可以被引用"
   ]
  },
  {
   "cell_type": "code",
   "execution_count": 11,
   "metadata": {},
   "outputs": [
    {
     "name": "stdout",
     "output_type": "stream",
     "text": "99\n"
    }
   ],
   "source": [
    "x = 88\n",
    "def func():\n",
    "    global x # 使用global声明后，可以在函数内引用全局变量，并重新赋值\n",
    "    x = 99\n",
    "func()\n",
    "print(x)"
   ]
  },
  {
   "cell_type": "code",
   "execution_count": 13,
   "metadata": {},
   "outputs": [
    {
     "name": "stdout",
     "output_type": "stream",
     "text": "3\n"
    }
   ],
   "source": [
    "y, z = 1, 2\n",
    "def all_global():\n",
    "    global x # 在函数内创建的变量，升级为全局变量\n",
    "    x = y + z\n",
    "\n",
    "all_global()\n",
    "print(x) # 在函数外可以正常使用global声明的全局变量"
   ]
  },
  {
   "cell_type": "markdown",
   "execution_count": null,
   "metadata": {},
   "outputs": [],
   "source": [
    "**尽量避免使用全局变量**  \n",
    "**尽量不要修改其他文件中的全局变量**"
   ]
  },
  {
   "cell_type": "markdown",
   "execution_count": null,
   "metadata": {},
   "outputs": [],
   "source": [
    "此外可以通过导入自身模块，模拟global\n",
    "```python\n",
    "# thismode.py \n",
    "var = 10\n",
    "\n",
    "def func1():\n",
    "    import thismode\n",
    "    thismode.var += 1\n",
    "\n",
    "def func2():\n",
    "    import sys\n",
    "    glob = sys.modules['thismode']\n",
    "    glob.var += 1\n",
    "```"
   ]
  },
  {
   "cell_type": "markdown",
   "execution_count": null,
   "metadata": {},
   "outputs": [],
   "source": [
    "## 作用域和嵌套函数\n",
    "\n",
    "嵌套作用域举例"
   ]
  },
  {
   "cell_type": "code",
   "execution_count": 14,
   "metadata": {},
   "outputs": [
    {
     "name": "stdout",
     "output_type": "stream",
     "text": "88\n"
    }
   ],
   "source": [
    "x = 99\n",
    "\n",
    "def f1():\n",
    "    x = 88\n",
    "    def f2():\n",
    "        print(x) # 这里访问的是嵌套作用域的x\n",
    "    f2()\n",
    "\n",
    "f1()"
   ]
  },
  {
   "cell_type": "markdown",
   "execution_count": null,
   "metadata": {},
   "outputs": [],
   "source": [
    "### 闭包\n",
    "\n",
    "又叫工厂函数，能够记忆外层作用域的值，不管那些嵌套作用域是否还在内存中。"
   ]
  },
  {
   "cell_type": "code",
   "execution_count": 15,
   "metadata": {},
   "outputs": [],
   "source": [
    "def maker(N):\n",
    "    def action(X):\n",
    "        return X**N \n",
    "    return action"
   ]
  },
  {
   "cell_type": "markdown",
   "execution_count": null,
   "metadata": {},
   "outputs": [],
   "source": [
    "外层函数简单地生成并返回一个嵌套地函数，却并不调用这个内嵌地函数。"
   ]
  },
  {
   "cell_type": "code",
   "execution_count": 16,
   "metadata": {},
   "outputs": [
    {
     "data": {
      "text/plain": "<function __main__.maker.<locals>.action(X)>"
     },
     "execution_count": 16,
     "metadata": {},
     "output_type": "execute_result"
    }
   ],
   "source": [
    "f = maker(2)\n",
    "f"
   ]
  },
  {
   "cell_type": "markdown",
   "execution_count": null,
   "metadata": {},
   "outputs": [],
   "source": [
    "f是一个内嵌函数的引用"
   ]
  },
  {
   "cell_type": "code",
   "execution_count": 18,
   "metadata": {},
   "outputs": [
    {
     "data": {
      "text/plain": "9"
     },
     "execution_count": 18,
     "metadata": {},
     "output_type": "execute_result"
    }
   ],
   "source": [
    "f(3)"
   ]
  },
  {
   "cell_type": "markdown",
   "execution_count": null,
   "metadata": {},
   "outputs": [],
   "source": [
    "这里调用f即内层地action时，虽然maker()已经执行完毕并返回了值，但是参数N值却被action记忆了下来，每次调用f时，会计算平方  \n",
    "**扁平胜于嵌套**"
   ]
  },
  {
   "cell_type": "markdown",
   "execution_count": null,
   "metadata": {},
   "outputs": [],
   "source": [
    "如果在函数中定义嵌套函数是在一个循环中，在这个嵌套函数又引用了一个外层变量，这个变量被循环改变，那么所有在这个循环中产生地函数都会有相同地值，就是最后一次循环的值"
   ]
  },
  {
   "cell_type": "code",
   "execution_count": 19,
   "metadata": {},
   "outputs": [],
   "source": [
    "def makeAction():\n",
    "    acts=[]\n",
    "    for i in range(5):\n",
    "        acts.append(lambda x:i**x) # 内嵌函数定义在循环中，引用地外部变量i地值每次循环都会改变\n",
    "    return acts "
   ]
  },
  {
   "cell_type": "code",
   "execution_count": 20,
   "metadata": {},
   "outputs": [
    {
     "name": "stdout",
     "output_type": "stream",
     "text": "16\n16\n"
    }
   ],
   "source": [
    "acts = makeAction()\n",
    "print(acts[0](2))\n",
    "print(acts[1](2)) # 这里的i每次的值都是循环最后一次的值"
   ]
  },
  {
   "cell_type": "code",
   "execution_count": null,
   "metadata": {},
   "outputs": [],
   "source": []
  }
 ]
}