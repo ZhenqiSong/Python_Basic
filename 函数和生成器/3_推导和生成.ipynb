{
 "nbformat": 4,
 "nbformat_minor": 2,
 "metadata": {
  "language_info": {
   "name": "python",
   "codemirror_mode": {
    "name": "ipython",
    "version": 3
   },
   "version": "3.7.4"
  },
  "orig_nbformat": 2,
  "file_extension": ".py",
  "mimetype": "text/x-python",
  "name": "python",
  "npconvert_exporter": "python",
  "pygments_lexer": "ipython3",
  "version": 3
 },
 "cells": [
  {
   "cell_type": "markdown",
   "execution_count": null,
   "metadata": {},
   "outputs": [],
   "source": [
    "# 推导和生成\n"
   ]
  },
  {
   "cell_type": "markdown",
   "execution_count": 1,
   "metadata": {},
   "outputs": [],
   "source": [
    "列表推导还能更加通用，通用格式为\n",
    "```python\n",
    "[expression for target in iterable]\n",
    "```"
   ]
  },
  {
   "cell_type": "code",
   "execution_count": 5,
   "metadata": {},
   "outputs": [
    {
     "data": {
      "text/plain": "[1, 3, 3, 5, 5, 7]"
     },
     "execution_count": 5,
     "metadata": {},
     "output_type": "execute_result"
    }
   ],
   "source": [
    "[(x + y) for x in range(5) if x % 2 == 0 for y in range(5) if y % 2 == 1]"
   ]
  },
  {
   "cell_type": "code",
   "execution_count": 7,
   "metadata": {},
   "outputs": [
    {
     "data": {
      "text/plain": "[1, 3, 3, 5, 5, 7]"
     },
     "execution_count": 7,
     "metadata": {},
     "output_type": "execute_result"
    }
   ],
   "source": [
    "# 等效的for循环\n",
    "res = []\n",
    "for x in range(5):\n",
    "    if x % 2 == 0:\n",
    "        for y in range(5):\n",
    "            if y % 2 == 1:\n",
    "                res.append(x + y)\n",
    "res"
   ]
  },
  {
   "cell_type": "code",
   "execution_count": 28,
   "metadata": {},
   "outputs": [
    {
     "ename": "SyntaxError",
     "evalue": "unexpected EOF while parsing (<ipython-input-28-05bed1e04833>, line 1)",
     "output_type": "error",
     "traceback": [
      "\u001b[1;36m  File \u001b[1;32m\"<ipython-input-28-05bed1e04833>\"\u001b[1;36m, line \u001b[1;32m1\u001b[0m\n\u001b[1;33m    list(map(lambda x: map(lambda y: x + y, filter(lambda y: y % 2 == 1, range(5))), filter((lambda x: x % 2 == 0), range(5))) # TODO 怎么实现呐\u001b[0m\n\u001b[1;37m                                                                                                                                           ^\u001b[0m\n\u001b[1;31mSyntaxError\u001b[0m\u001b[1;31m:\u001b[0m unexpected EOF while parsing\n"
     ]
    }
   ],
   "source": [
    "list(map(lambda x: map(lambda y: x + y, filter(lambda y: y % 2 == 1, range(5))), filter((lambda x: x % 2 == 0), range(5))) # TODO 怎么实现呐"
   ]
  },
  {
   "cell_type": "code",
   "execution_count": 36,
   "metadata": {},
   "outputs": [
    {
     "data": {
      "text/plain": "[[1, 3], [3, 5], [5, 7]]"
     },
     "execution_count": 36,
     "metadata": {},
     "output_type": "execute_result"
    }
   ],
   "source": [
    "# map(lambda y: 1 + y, filter(lambda y:y%2==1, range(5)))\n",
    "list(map(lambda x: list(map(lambda y: x + y, filter(lambda y:y%2==1, range(5)))), filter(lambda x: x % 2 == 0, range(5))))"
   ]
  },
  {
   "cell_type": "markdown",
   "execution_count": null,
   "metadata": {},
   "outputs": [],
   "source": [
    "列表推导和矩阵"
   ]
  },
  {
   "cell_type": "code",
   "execution_count": 9,
   "metadata": {},
   "outputs": [],
   "source": [
    "M = [[1, 2, 3],\n",
    "    [4, 5, 6],\n",
    "    [7, 8, 9]]"
   ]
  },
  {
   "cell_type": "code",
   "execution_count": 10,
   "metadata": {},
   "outputs": [
    {
     "data": {
      "text/plain": "[11, 12, 13, 14, 15, 16, 17, 18, 19]"
     },
     "execution_count": 10,
     "metadata": {},
     "output_type": "execute_result"
    }
   ],
   "source": [
    "[col+10 for row in M for col in row]"
   ]
  },
  {
   "cell_type": "code",
   "execution_count": 11,
   "metadata": {},
   "outputs": [
    {
     "data": {
      "text/plain": "[[11, 12, 13], [14, 15, 16], [17, 18, 19]]"
     },
     "execution_count": 11,
     "metadata": {},
     "output_type": "execute_result"
    }
   ],
   "source": [
    "[[col + 10 for col in row] for row in M]"
   ]
  },
  {
   "cell_type": "markdown",
   "execution_count": null,
   "metadata": {},
   "outputs": [],
   "source": [
    "通常map调用比等效的for循环快两倍，而列表推导往往比map调用还要稍快一些"
   ]
  },
  {
   "cell_type": "markdown",
   "execution_count": null,
   "metadata": {},
   "outputs": [],
   "source": [
    "## 生成器函数和表达式"
   ]
  },
  {
   "cell_type": "markdown",
   "execution_count": null,
   "metadata": {},
   "outputs": [],
   "source": [
    "### 生成器函数: yield vs return\n",
    "\n",
    "使用常规的def语句进行编写，但是使用yield语句一次返回一个结果，在每次结果产生之间挂起或恢复它们的状态\n",
    "\n",
    "#### 状态挂起\n",
    "\n",
    "和返回一个值并推出的常规函数不同，生成器函数能够自动挂起并生成值得时刻恢复之前得状态并继续函数的执行。  \n",
    "生成器函数产生yield一个值，而不是返回return一个值，yield语句会挂起该函数并向调用者传回一个值，但同时也保留了足够的状态使函数能从它离开的地方继续。"
   ]
  },
  {
   "cell_type": "code",
   "execution_count": 12,
   "metadata": {},
   "outputs": [],
   "source": [
    "def gensquares(N):\n",
    "    for i in range(N):\n",
    "        yield i**2"
   ]
  },
  {
   "cell_type": "markdown",
   "execution_count": null,
   "metadata": {},
   "outputs": [],
   "source": [
    "函数在每次循环时都会yield一个值，之后将其返还给调用者。当它被暂停后，它的上一个状态保存下来，包括变量i和N，并且在yield语句之后被马上收走控制权。"
   ]
  },
  {
   "cell_type": "code",
   "execution_count": 13,
   "metadata": {},
   "outputs": [
    {
     "name": "stdout",
     "output_type": "stream",
     "text": "0 1 4 9 16"
    }
   ],
   "source": [
    "for i in gensquares(5):\n",
    "    print(i, end=\" \")"
   ]
  },
  {
   "cell_type": "code",
   "execution_count": 14,
   "metadata": {},
   "outputs": [],
   "source": [
    "x = gensquares(5) # x是一个生成器对象，它有一个__next__方法，在获得一系列值得最后一个时，会引发StopIteration异常。"
   ]
  },
  {
   "cell_type": "code",
   "execution_count": 15,
   "metadata": {},
   "outputs": [
    {
     "data": {
      "text/plain": "0"
     },
     "execution_count": 15,
     "metadata": {},
     "output_type": "execute_result"
    }
   ],
   "source": [
    "next(x)"
   ]
  },
  {
   "cell_type": "code",
   "execution_count": 16,
   "metadata": {},
   "outputs": [
    {
     "data": {
      "text/plain": "1"
     },
     "execution_count": 16,
     "metadata": {},
     "output_type": "execute_result"
    }
   ],
   "source": [
    "next(x)"
   ]
  },
  {
   "cell_type": "markdown",
   "execution_count": null,
   "metadata": {},
   "outputs": [],
   "source": [
    "生成器对于大型程序而言，在内存使用和性能方向都更好。它们允许函数避免预先做好所有得工作，生成器将产生一系列值的时间分散到每一次的循环迭代中去。\n",
    "\n",
    "#### send\n",
    "\n",
    "send方法生成一系列结果的下一个元素，提供了一种调用者与生成器之间进行通信的方式，从而能够影响生成器的操作。"
   ]
  },
  {
   "cell_type": "code",
   "execution_count": 41,
   "metadata": {},
   "outputs": [
    {
     "name": "stdout",
     "output_type": "stream",
     "text": "1\nHello World\n4\nNone\n9\n"
    }
   ],
   "source": [
    "#生成器的send用法 generator.send(value)\n",
    "def test():\n",
    "    i = 1\n",
    "    while i < 5:\n",
    "        temp = yield i**2\n",
    "        print(temp)\n",
    "        i += 1\n",
    "\n",
    "t = test()\n",
    "#第一次运行只能使用next或者send(None)\n",
    "print(t.__next__())\n",
    "#send的作用相当于使生成器继续运行，并且传递的参数为yield的返回值(程序中即temp的值)\n",
    "print(t.send(\"Hello World\"))\n",
    "print(t.__next__())#相当于send(None) 此时temp = None"
   ]
  },
  {
   "cell_type": "code",
   "execution_count": 38,
   "metadata": {},
   "outputs": [],
   "source": [
    "x = gener(3)"
   ]
  },
  {
   "cell_type": "code",
   "execution_count": 39,
   "metadata": {},
   "outputs": [
    {
     "data": {
      "text/plain": "0"
     },
     "execution_count": 39,
     "metadata": {},
     "output_type": "execute_result"
    }
   ],
   "source": [
    "next(x)"
   ]
  },
  {
   "cell_type": "code",
   "execution_count": 40,
   "metadata": {},
   "outputs": [
    {
     "name": "stdout",
     "output_type": "stream",
     "text": "1\n"
    }
   ],
   "source": [
    "print(x.send(4))"
   ]
  },
  {
   "cell_type": "markdown",
   "execution_count": null,
   "metadata": {},
   "outputs": [],
   "source": [
    "## 生成器表达式\n",
    "\n",
    "生成器表达式就像一般的列表推到一样，支持列表推导的语法。生成器表达式不是在内存中构建结果，而是返回一个生成器对象，一个自动被创建的可迭代对象。支持可迭代协议，并在任意迭代语境中产生一个结果列表。"
   ]
  },
  {
   "cell_type": "code",
   "execution_count": 2,
   "metadata": {},
   "outputs": [],
   "source": [
    "G = (x ** 2 for x in range(4))"
   ]
  },
  {
   "cell_type": "code",
   "execution_count": 3,
   "metadata": {},
   "outputs": [
    {
     "data": {
      "text/plain": "True"
     },
     "execution_count": 3,
     "metadata": {},
     "output_type": "execute_result"
    }
   ],
   "source": [
    "iter(G) is G"
   ]
  },
  {
   "cell_type": "code",
   "execution_count": 4,
   "metadata": {},
   "outputs": [
    {
     "data": {
      "text/plain": "0"
     },
     "execution_count": 4,
     "metadata": {},
     "output_type": "execute_result"
    }
   ],
   "source": [
    "next(G)"
   ]
  },
  {
   "cell_type": "code",
   "execution_count": 5,
   "metadata": {},
   "outputs": [
    {
     "data": {
      "text/plain": "1"
     },
     "execution_count": 5,
     "metadata": {},
     "output_type": "execute_result"
    }
   ],
   "source": [
    "next(G)"
   ]
  },
  {
   "cell_type": "markdown",
   "execution_count": 6,
   "metadata": {},
   "outputs": [
    {
     "ename": "SyntaxError",
     "evalue": "invalid character in identifier (<ipython-input-6-0e3ff03462df>, line 1)",
     "output_type": "error",
     "traceback": [
      "\u001b[1;36m  File \u001b[1;32m\"<ipython-input-6-0e3ff03462df>\"\u001b[1;36m, line \u001b[1;32m1\u001b[0m\n\u001b[1;33m    生成器表达式是一种对内存空间的优化，不一次产生所有结果。\u001b[0m\n\u001b[1;37m                               ^\u001b[0m\n\u001b[1;31mSyntaxError\u001b[0m\u001b[1;31m:\u001b[0m invalid character in identifier\n"
     ]
    }
   ],
   "source": [
    "生成器表达式是一种对内存空间的优化，不一次产生所有结果。 \n",
    "\n",
    "## 生成器是单遍迭代对象\n",
    "\n",
    "生成器函数和生成器表达式自身都是迭代器，支支持一次活跃迭代。当你尝试手动的使用多个迭代器来迭代结果流，它们将返回相同的位置"
   ]
  },
  {
   "cell_type": "code",
   "execution_count": 7,
   "metadata": {},
   "outputs": [],
   "source": [
    "G = (x for x in range(5))"
   ]
  },
  {
   "cell_type": "code",
   "execution_count": 8,
   "metadata": {},
   "outputs": [],
   "source": [
    "I1 = iter(G)"
   ]
  },
  {
   "cell_type": "code",
   "execution_count": 9,
   "metadata": {},
   "outputs": [
    {
     "data": {
      "text/plain": "0"
     },
     "execution_count": 9,
     "metadata": {},
     "output_type": "execute_result"
    }
   ],
   "source": [
    "next(I1)"
   ]
  },
  {
   "cell_type": "code",
   "execution_count": 10,
   "metadata": {},
   "outputs": [
    {
     "data": {
      "text/plain": "1"
     },
     "execution_count": 10,
     "metadata": {},
     "output_type": "execute_result"
    }
   ],
   "source": [
    "next(I1)"
   ]
  },
  {
   "cell_type": "code",
   "execution_count": 12,
   "metadata": {},
   "outputs": [
    {
     "data": {
      "text/plain": "3"
     },
     "execution_count": 12,
     "metadata": {},
     "output_type": "execute_result"
    }
   ],
   "source": [
    "I2 = iter(G) # 其实和I1是同一个迭代器\n",
    "next(I2)"
   ]
  },
  {
   "cell_type": "markdown",
   "execution_count": null,
   "metadata": {},
   "outputs": [],
   "source": [
    "而内置类型的生成器可以支持多个迭代器与多次迭代"
   ]
  },
  {
   "cell_type": "code",
   "execution_count": 13,
   "metadata": {},
   "outputs": [],
   "source": [
    "L = [1, 2, 3, 4]"
   ]
  },
  {
   "cell_type": "code",
   "execution_count": 16,
   "metadata": {},
   "outputs": [
    {
     "data": {
      "text/plain": "2"
     },
     "execution_count": 16,
     "metadata": {},
     "output_type": "execute_result"
    }
   ],
   "source": [
    "I1 = iter(L)\n",
    "next(I1)\n",
    "next(I1)"
   ]
  },
  {
   "cell_type": "code",
   "execution_count": 21,
   "metadata": {},
   "outputs": [
    {
     "data": {
      "text/plain": "1"
     },
     "execution_count": 21,
     "metadata": {},
     "output_type": "execute_result"
    }
   ],
   "source": [
    "I2 = iter(L) # I2是新的迭代器\n",
    "next(I2)"
   ]
  },
  {
   "cell_type": "code",
   "execution_count": 24,
   "metadata": {},
   "outputs": [
    {
     "data": {
      "text/plain": "0"
     },
     "execution_count": 24,
     "metadata": {},
     "output_type": "execute_result"
    }
   ],
   "source": [
    "# python3的新方法\n",
    "def gen(N):\n",
    "    yield from range(N)\n",
    "    # 等价于\n",
    "    # for x in range(N): yield x\n",
    "\n",
    "G = gen(5)\n",
    "next(G)"
   ]
  },
  {
   "cell_type": "markdown",
   "execution_count": null,
   "metadata": {},
   "outputs": [],
   "source": [
    "## 内置类型，工具和类中的值生成\n",
    "\n",
    "### 字典的键"
   ]
  },
  {
   "cell_type": "code",
   "execution_count": 18,
   "metadata": {},
   "outputs": [],
   "source": [
    "D = {'a':1, 'b':2, 'c':3}\n",
    "x = iter(D)"
   ]
  },
  {
   "cell_type": "code",
   "execution_count": 19,
   "metadata": {},
   "outputs": [
    {
     "data": {
      "text/plain": "'a'"
     },
     "execution_count": 19,
     "metadata": {},
     "output_type": "execute_result"
    }
   ],
   "source": [
    "next(x)"
   ]
  },
  {
   "cell_type": "code",
   "execution_count": 20,
   "metadata": {},
   "outputs": [
    {
     "name": "stdout",
     "output_type": "stream",
     "text": "a b c"
    }
   ],
   "source": [
    "for i in D:\n",
    "    print(i, end=' ')"
   ]
  },
  {
   "cell_type": "code",
   "execution_count": null,
   "metadata": {},
   "outputs": [],
   "source": []
  }
 ]
}