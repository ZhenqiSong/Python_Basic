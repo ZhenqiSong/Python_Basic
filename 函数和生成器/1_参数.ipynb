{
 "nbformat": 4,
 "nbformat_minor": 2,
 "metadata": {
  "language_info": {
   "name": "python",
   "codemirror_mode": {
    "name": "ipython",
    "version": 3
   },
   "version": "3.7.4"
  },
  "orig_nbformat": 2,
  "file_extension": ".py",
  "mimetype": "text/x-python",
  "name": "python",
  "npconvert_exporter": "python",
  "pygments_lexer": "ipython3",
  "version": 3
 },
 "cells": [
  {
   "cell_type": "markdown",
   "execution_count": null,
   "metadata": {},
   "outputs": [],
   "source": [
    "# 参数\n",
    "\n",
    "## 基础\n",
    "\n",
    "- 参数传递是通过自动将对象赋值给局部变量名来实现的。\n",
    "- 在函数内部赋值参数名不会影响调用者\n",
    "- 改变函数的可变对象参数的值也许会对调用者有影响\n",
    "- 不可变参数本质上传入的是值，可变参数本质上传入的是指针~~"
   ]
  },
  {
   "cell_type": "code",
   "execution_count": 4,
   "metadata": {},
   "outputs": [],
   "source": [
    "def f(a, b):\n",
    "    a = 99\n",
    "    b[0] = 'szq'"
   ]
  },
  {
   "cell_type": "code",
   "execution_count": 5,
   "metadata": {},
   "outputs": [
    {
     "name": "stdout",
     "output_type": "stream",
     "text": "88 ['szq', 2]\n"
    }
   ],
   "source": [
    "b = 88\n",
    "L = [1, 2]\n",
    "f(b, L)\n",
    "print(b, L)"
   ]
  },
  {
   "cell_type": "markdown",
   "execution_count": null,
   "metadata": {},
   "outputs": [],
   "source": [
    "可以看到，作为参数将b传入函数，赋值给了局部变量a, a的值改变并不影响b;  \n",
    "但是如果传入的是可变对象，如列表，那么在函数内修改的值，在函数外也被修改了，说明传入的和外面的共享内存，传入的是指针\n",
    "\n",
    "> 尽量避免修改可变参数，可以通过传入副本，或者转变为不可变参数"
   ]
  },
  {
   "cell_type": "markdown",
   "execution_count": null,
   "metadata": {},
   "outputs": [],
   "source": [
    "## 函数匹配模式\n",
    "\n",
    "- 位置次序：从左到右进行匹配\n",
    "- 关键字参数：通过参数名进行匹配 f(key=value)\n",
    "- 默认值参数：为没有传入值的可选参数指定参数值\n",
    "- 可变长参数：收集任意多的基于位置或关键字的参数 f(*iter) f(**dict)\n",
    "- 可变长参数解包：传入任意多的基于位置或关键字的参数\n",
    "- keyword-only参数：必须按照名称传递的参数\n",
    "\n",
    "### 细节\n",
    "\n",
    "- 函数调用时，参数必须按此顺序出现：所有基于位置的参数，基于关键字的参数，*iter形式的组合，**dict形式\n",
    "- 在函数头部，参数必须按照此顺序出现：所有一般参数，之后是所有默认参数，之后是*name形式，之后是所有keyword-only参数，之后是**name "
   ]
  },
  {
   "cell_type": "markdown",
   "execution_count": null,
   "metadata": {},
   "outputs": [],
   "source": [
    "### 关键字参数和默认值参数"
   ]
  },
  {
   "cell_type": "code",
   "execution_count": 6,
   "metadata": {},
   "outputs": [],
   "source": [
    "def f(a, b, c):\n",
    "    print(a, b, c)"
   ]
  },
  {
   "cell_type": "code",
   "execution_count": 8,
   "metadata": {},
   "outputs": [
    {
     "name": "stdout",
     "output_type": "stream",
     "text": "1 2 3\n"
    }
   ],
   "source": [
    "f(1, 2, 3) # 默认是从左到右进行位置匹配"
   ]
  },
  {
   "cell_type": "markdown",
   "execution_count": null,
   "metadata": {},
   "outputs": [],
   "source": [
    "### 关键字参数"
   ]
  },
  {
   "cell_type": "code",
   "execution_count": 9,
   "metadata": {},
   "outputs": [
    {
     "name": "stdout",
     "output_type": "stream",
     "text": "1 2 3\n"
    }
   ],
   "source": [
    "f(1, c=3, b=2) "
   ]
  },
  {
   "cell_type": "markdown",
   "execution_count": null,
   "metadata": {},
   "outputs": [],
   "source": [
    "在不使用关键字之前，第一个参数是按照位置关系赋值，使用了关键字参数之后就不能在使用位置参数了；  \n",
    "使用关键字参数，不用考虑位置，会根据给的关键字匹配函数声明中的关键字"
   ]
  },
  {
   "cell_type": "markdown",
   "execution_count": null,
   "metadata": {},
   "outputs": [],
   "source": [
    "### 默认值参数"
   ]
  },
  {
   "cell_type": "code",
   "execution_count": 10,
   "metadata": {},
   "outputs": [],
   "source": [
    "def f(a, b=2, c=3):\n",
    "    print(a, b, c)"
   ]
  },
  {
   "cell_type": "code",
   "execution_count": 12,
   "metadata": {},
   "outputs": [
    {
     "name": "stdout",
     "output_type": "stream",
     "text": "1 3 3\n"
    }
   ],
   "source": [
    "f(1, b=3)"
   ]
  },
  {
   "cell_type": "code",
   "execution_count": 13,
   "metadata": {},
   "outputs": [
    {
     "name": "stdout",
     "output_type": "stream",
     "text": "1 4 3\n"
    }
   ],
   "source": [
    "f(1, 4)"
   ]
  },
  {
   "cell_type": "markdown",
   "execution_count": null,
   "metadata": {},
   "outputs": [],
   "source": [
    "默认值参数，在函数声明时就给了默认值，给了默认值的参数就变成了可选参数；  \n",
    "如果不传入值，默认值参数的值就是事先给的默认值"
   ]
  },
  {
   "cell_type": "markdown",
   "execution_count": null,
   "metadata": {},
   "outputs": [],
   "source": [
    "### 可变长参数\n",
    "\n",
    "`*` 和 `**`旨在让函数支持接受任意多的参数。\n",
    "\n",
    "#### 函数定义中\n",
    "\n",
    "在函数定义中，它们的作用是收集参数"
   ]
  },
  {
   "cell_type": "code",
   "execution_count": 14,
   "metadata": {},
   "outputs": [],
   "source": [
    "def f(*args):\n",
    "    print(args)"
   ]
  },
  {
   "cell_type": "code",
   "execution_count": 16,
   "metadata": {},
   "outputs": [
    {
     "name": "stdout",
     "output_type": "stream",
     "text": "(1, 2)\n(2, 3, 4)\n"
    }
   ],
   "source": [
    "f(1, 2)\n",
    "f(2, 3, 4) # 使用*将所有基于位置的参数收集到一个元组中"
   ]
  },
  {
   "cell_type": "code",
   "execution_count": 17,
   "metadata": {},
   "outputs": [],
   "source": [
    "def f(**args):\n",
    "    print(args)"
   ]
  },
  {
   "cell_type": "code",
   "execution_count": 19,
   "metadata": {},
   "outputs": [
    {
     "name": "stdout",
     "output_type": "stream",
     "text": "{'a': 2, 'b': 3}\n"
    }
   ],
   "source": [
    "f(a=2, b=3) # 使用**将所有基于位置的参数收集到一个字典中"
   ]
  },
  {
   "cell_type": "code",
   "execution_count": 20,
   "metadata": {},
   "outputs": [],
   "source": [
    "def f(a, *args, **kargs):\n",
    "    print(a, args, kargs)"
   ]
  },
  {
   "cell_type": "code",
   "execution_count": 21,
   "metadata": {},
   "outputs": [
    {
     "name": "stdout",
     "output_type": "stream",
     "text": "1 (2, 3) {'x': 1, 'y': 3}\n"
    }
   ],
   "source": [
    "f(1, 2, 3, x=1, y=3)"
   ]
  },
  {
   "cell_type": "markdown",
   "execution_count": 22,
   "metadata": {},
   "outputs": [
    {
     "ename": "SyntaxError",
     "evalue": "invalid character in identifier (<ipython-input-22-b4a2a81fcc3b>, line 1)",
     "output_type": "error",
     "traceback": [
      "\u001b[1;36m  File \u001b[1;32m\"<ipython-input-22-b4a2a81fcc3b>\"\u001b[1;36m, line \u001b[1;32m1\u001b[0m\n\u001b[1;33m    上例中，*接收了所有不能被匹配的位置参数，而**则匹配了所有关键字参数\u001b[0m\n\u001b[1;37m       ^\u001b[0m\n\u001b[1;31mSyntaxError\u001b[0m\u001b[1;31m:\u001b[0m invalid character in identifier\n"
     ]
    }
   ],
   "source": [
    "上例中，*接收了所有不能被匹配的位置参数，而**则匹配了所有关键字参数"
   ]
  },
  {
   "cell_type": "markdown",
   "execution_count": null,
   "metadata": {},
   "outputs": [],
   "source": [
    "### 函数调用中\n",
    "在函数调用中，它们的作用是解包参数"
   ]
  },
  {
   "cell_type": "code",
   "execution_count": 23,
   "metadata": {},
   "outputs": [],
   "source": [
    "def func(a, b, c, d):\n",
    "    print(a, b, c, d)"
   ]
  },
  {
   "cell_type": "code",
   "execution_count": 24,
   "metadata": {},
   "outputs": [
    {
     "name": "stdout",
     "output_type": "stream",
     "text": "1 2 3 4\n"
    }
   ],
   "source": [
    "args = (1, 2, 3, 4)\n",
    "func(*args) # 将元素参数解压给每一个对应的参数"
   ]
  },
  {
   "cell_type": "markdown",
   "execution_count": null,
   "metadata": {},
   "outputs": [],
   "source": [
    "### keyword-only参数\n",
    "\n",
    "keyword-only参数编写为出现在参数列表中的*args之后的有名参数。这下参数必须下使用关键字调用。"
   ]
  },
  {
   "cell_type": "code",
   "execution_count": 25,
   "metadata": {},
   "outputs": [],
   "source": [
    "def kwonly(a, *b, c):\n",
    "    print(a, b, c)"
   ]
  },
  {
   "cell_type": "code",
   "execution_count": 26,
   "metadata": {},
   "outputs": [
    {
     "name": "stdout",
     "output_type": "stream",
     "text": "1 (2, 3) 3\n"
    }
   ],
   "source": [
    "kwonly(1, 2, 3, c=3)"
   ]
  },
  {
   "cell_type": "code",
   "execution_count": 27,
   "metadata": {},
   "outputs": [
    {
     "ename": "TypeError",
     "evalue": "kwonly() missing 1 required keyword-only argument: 'c'",
     "output_type": "error",
     "traceback": [
      "\u001b[1;31m---------------------------------------------------------------------------\u001b[0m",
      "\u001b[1;31mTypeError\u001b[0m                                 Traceback (most recent call last)",
      "\u001b[1;32m<ipython-input-27-ff06ce2ca933>\u001b[0m in \u001b[0;36m<module>\u001b[1;34m\u001b[0m\n\u001b[1;32m----> 1\u001b[1;33m \u001b[0mkwonly\u001b[0m\u001b[1;33m(\u001b[0m\u001b[1;36m1\u001b[0m\u001b[1;33m,\u001b[0m \u001b[1;36m2\u001b[0m\u001b[1;33m,\u001b[0m \u001b[1;36m3\u001b[0m\u001b[1;33m,\u001b[0m \u001b[1;36m4\u001b[0m\u001b[1;33m)\u001b[0m\u001b[1;33m\u001b[0m\u001b[1;33m\u001b[0m\u001b[0m\n\u001b[0m",
      "\u001b[1;31mTypeError\u001b[0m: kwonly() missing 1 required keyword-only argument: 'c'"
     ]
    }
   ],
   "source": [
    "kwonly(1, 2, 3, 4) # 跟在*b后的参数必须为关键字参数"
   ]
  },
  {
   "cell_type": "code",
   "execution_count": 30,
   "metadata": {},
   "outputs": [],
   "source": [
    "# 使用单个*，表示不接受可变长参数，但是*号后的元素必须为关键字参数\n",
    "def kwonly(a, *, c, d):\n",
    "    print(a, c, d)"
   ]
  },
  {
   "cell_type": "code",
   "execution_count": 31,
   "metadata": {},
   "outputs": [
    {
     "ename": "TypeError",
     "evalue": "kwonly() takes 1 positional argument but 3 were given",
     "output_type": "error",
     "traceback": [
      "\u001b[1;31m---------------------------------------------------------------------------\u001b[0m",
      "\u001b[1;31mTypeError\u001b[0m                                 Traceback (most recent call last)",
      "\u001b[1;32m<ipython-input-31-281a8f21b4be>\u001b[0m in \u001b[0;36m<module>\u001b[1;34m\u001b[0m\n\u001b[1;32m----> 1\u001b[1;33m \u001b[0mkwonly\u001b[0m\u001b[1;33m(\u001b[0m\u001b[1;36m1\u001b[0m\u001b[1;33m,\u001b[0m\u001b[1;36m2\u001b[0m\u001b[1;33m,\u001b[0m\u001b[1;36m3\u001b[0m\u001b[1;33m)\u001b[0m\u001b[1;33m\u001b[0m\u001b[1;33m\u001b[0m\u001b[0m\n\u001b[0m",
      "\u001b[1;31mTypeError\u001b[0m: kwonly() takes 1 positional argument but 3 were given"
     ]
    }
   ],
   "source": [
    "kwonly(1,2,3)"
   ]
  },
  {
   "cell_type": "code",
   "execution_count": 32,
   "metadata": {},
   "outputs": [
    {
     "name": "stdout",
     "output_type": "stream",
     "text": "1 2 3\n"
    }
   ],
   "source": [
    "kwonly(1, c=2, d=3)"
   ]
  },
  {
   "cell_type": "markdown",
   "execution_count": null,
   "metadata": {},
   "outputs": [],
   "source": [
    "**注意关键字参数必须在\\*\\*args之前**"
   ]
  },
  {
   "cell_type": "code",
   "execution_count": null,
   "metadata": {},
   "outputs": [],
   "source": []
  }
 ]
}