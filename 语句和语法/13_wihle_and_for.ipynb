{
 "nbformat": 4,
 "nbformat_minor": 2,
 "metadata": {
  "language_info": {
   "name": "python",
   "codemirror_mode": {
    "name": "ipython",
    "version": 3
   }
  },
  "orig_nbformat": 2,
  "file_extension": ".py",
  "mimetype": "text/x-python",
  "name": "python",
  "npconvert_exporter": "python",
  "pygments_lexer": "ipython3",
  "version": 3
 },
 "cells": [
  {
   "cell_type": "markdown",
   "execution_count": null,
   "metadata": {},
   "outputs": [],
   "source": [
    "## while 循环"
   ]
  },
  {
   "cell_type": "markdown",
   "execution_count": null,
   "metadata": {},
   "outputs": [],
   "source": [
    "```python\n",
    "while test:\n",
    "    statements\n",
    "else:\n",
    "    statements\n",
    "```"
   ]
  },
  {
   "cell_type": "code",
   "execution_count": 1,
   "metadata": {},
   "outputs": [
    {
     "name": "stdout",
     "output_type": "stream",
     "text": "spam pam am m"
    }
   ],
   "source": [
    "x = \"spam\"\n",
    "while x:\n",
    "    print(x, end = \" \")\n",
    "    x = x[1:]"
   ]
  },
  {
   "cell_type": "markdown",
   "execution_count": null,
   "metadata": {},
   "outputs": [],
   "source": [
    "### break, continue, pass, else\n",
    "\n",
    "```python\n",
    "while test:\n",
    "    statements\n",
    "    if test: break\n",
    "    if test: continue\n",
    "else:\n",
    "    statements\n",
    "```"
   ]
  },
  {
   "cell_type": "markdown",
   "execution_count": null,
   "metadata": {},
   "outputs": [],
   "source": [
    "- pass: 是无运算的占位语句，当语法要求一条语句，却没有任何实际的语句可写时，就可以使用它； python3中可以使用 ...  \n",
    "- continue 立即跳到循环的顶端。"
   ]
  },
  {
   "cell_type": "code",
   "execution_count": 3,
   "metadata": {},
   "outputs": [
    {
     "name": "stdout",
     "output_type": "stream",
     "text": "9 7 5 3 1"
    }
   ],
   "source": [
    "x = 10\n",
    "while x:\n",
    "    x = x - 1\n",
    "    if x % 2 == 0: \n",
    "        continue # 当x是偶数时，直接进行下一个循环\n",
    "    print(x, end=' ')"
   ]
  },
  {
   "cell_type": "markdown",
   "execution_count": null,
   "metadata": {},
   "outputs": [],
   "source": [
    "- break 直接退出循环"
   ]
  },
  {
   "cell_type": "code",
   "execution_count": 7,
   "metadata": {},
   "outputs": [
    {
     "name": "stdout",
     "output_type": "stream",
     "text": "2\n4\n8\n16\n32\n64\n128\n256\n512\n1024\n"
    }
   ],
   "source": [
    "x = 1\n",
    "while True:\n",
    "    x *= 2 \n",
    "    print(x)\n",
    "    if x == 1024:\n",
    "        break"
   ]
  },
  {
   "cell_type": "markdown",
   "execution_count": null,
   "metadata": {},
   "outputs": [],
   "source": [
    "- 循环else, 循环正常结束时，执行else，如果是break结束的，则不执行"
   ]
  },
  {
   "cell_type": "code",
   "execution_count": 17,
   "metadata": {},
   "outputs": [
    {
     "name": "stdout",
     "output_type": "stream",
     "text": "1536\n"
    }
   ],
   "source": [
    "# 每次 x 都乘以2，当x = 1024时，break，否则当x > 1024 时结束循环，执行else\n",
    "x = 3\n",
    "while x < 1024:\n",
    "    x *= 2 \n",
    "    if x == 1024: \n",
    "        break\n",
    "else:\n",
    "    print(x)"
   ]
  },
  {
   "cell_type": "markdown",
   "execution_count": 14,
   "metadata": {},
   "outputs": [],
   "source": [
    "## for 循环\n",
    "\n",
    "python中的序列迭代器\n",
    "```python \n",
    "for target in object:\n",
    "    statements\n",
    "else:\n",
    "    statements\n",
    "```"
   ]
  },
  {
   "cell_type": "code",
   "execution_count": 19,
   "metadata": {},
   "outputs": [
    {
     "name": "stdout",
     "output_type": "stream",
     "text": "1 2 3 4"
    }
   ],
   "source": [
    "for x in [1, 2, 3, 4]:\n",
    "    print(x, end=\" \")"
   ]
  },
  {
   "cell_type": "code",
   "execution_count": 22,
   "metadata": {},
   "outputs": [
    {
     "name": "stdout",
     "output_type": "stream",
     "text": "1 2\t3 4\t5 6\t7 8"
    }
   ],
   "source": [
    "# for 循环中的元组赋值\n",
    "T = [(1, 2), (3, 4), (5, 6), (7, 8)]\n",
    "for (x, y) in T:\n",
    "    print(x, y, end=\"\\t\")"
   ]
  },
  {
   "cell_type": "code",
   "execution_count": 23,
   "metadata": {},
   "outputs": [
    {
     "name": "stdout",
     "output_type": "stream",
     "text": "1 2\t3 4\t5 6\t7 8"
    }
   ],
   "source": [
    "for z in T:\n",
    "    x, y = z\n",
    "    print(x, y, end=\"\\t\")"
   ]
  },
  {
   "cell_type": "markdown",
   "execution_count": null,
   "metadata": {},
   "outputs": [],
   "source": [
    "- python3 中的扩展序列赋值"
   ]
  },
  {
   "cell_type": "code",
   "execution_count": 24,
   "metadata": {},
   "outputs": [
    {
     "name": "stdout",
     "output_type": "stream",
     "text": "[2, 3]\n[6, 7]\n"
    }
   ],
   "source": [
    "for (z, *b, c) in [(1, 2, 3, 4), (5, 6, 7, 8)]:\n",
    "    print(b)"
   ]
  },
  {
   "cell_type": "markdown",
   "execution_count": 25,
   "metadata": {},
   "outputs": [
    {
     "ename": "NameError",
     "evalue": "name '嵌套for和else' is not defined",
     "output_type": "error",
     "traceback": [
      "\u001b[1;31m---------------------------------------------------------------------------\u001b[0m",
      "\u001b[1;31mNameError\u001b[0m                                 Traceback (most recent call last)",
      "\u001b[1;32m<ipython-input-25-8b6c81a815b9>\u001b[0m in \u001b[0;36m<module>\u001b[1;34m\u001b[0m\n\u001b[1;32m----> 1\u001b[1;33m \u001b[1;33m-\u001b[0m \u001b[0m嵌套for和else\u001b[0m\u001b[1;33m\u001b[0m\u001b[1;33m\u001b[0m\u001b[0m\n\u001b[0m",
      "\u001b[1;31mNameError\u001b[0m: name '嵌套for和else' is not defined"
     ]
    }
   ],
   "source": [
    "- 嵌套for和else"
   ]
  },
  {
   "cell_type": "code",
   "execution_count": 28,
   "metadata": {},
   "outputs": [],
   "source": [
    "items = [\"aaa\", 111, (4, 5), 2.01]\n",
    "tests = [(4, 5), 3.14]"
   ]
  },
  {
   "cell_type": "code",
   "execution_count": 29,
   "metadata": {},
   "outputs": [
    {
     "name": "stdout",
     "output_type": "stream",
     "text": "(4, 5) was found!\n3.14 not found!\n"
    }
   ],
   "source": [
    "for key in tests:\n",
    "    for item in items:\n",
    "        if item == key:\n",
    "            print(key, \"was found!\")\n",
    "            break\n",
    "    else:\n",
    "        print(key, \"not found!\") # 通过这种形式真的不用 flag 这种标记了"
   ]
  },
  {
   "cell_type": "markdown",
   "execution_count": null,
   "metadata": {},
   "outputs": [],
   "source": [
    "## 计数器循环 Range\n",
    "\n",
    "用于for循环中，作为索引值"
   ]
  },
  {
   "cell_type": "code",
   "execution_count": 31,
   "metadata": {},
   "outputs": [
    {
     "data": {
      "text/plain": "([0, 1, 2, 3, 4], [2, 3, 4], [0, 2, 4, 6, 8])"
     },
     "execution_count": 31,
     "metadata": {},
     "output_type": "execute_result"
    }
   ],
   "source": [
    "list(range(5)), list(range(2, 5)), list(range(0, 10, 2))"
   ]
  },
  {
   "cell_type": "code",
   "execution_count": 32,
   "metadata": {},
   "outputs": [
    {
     "data": {
      "text/plain": "[-5, -4, -3, -2, -1, 0, 1, 2, 3, 4]"
     },
     "execution_count": 32,
     "metadata": {},
     "output_type": "execute_result"
    }
   ],
   "source": [
    "list(range(-5, 5))"
   ]
  },
  {
   "cell_type": "code",
   "execution_count": 34,
   "metadata": {},
   "outputs": [
    {
     "data": {
      "text/plain": "[5, 4, 3, 2, 1, 0, -1, -2, -3, -4]"
     },
     "execution_count": 34,
     "metadata": {},
     "output_type": "execute_result"
    }
   ],
   "source": [
    "list(range(5, -5, -1))"
   ]
  },
  {
   "cell_type": "markdown",
   "execution_count": null,
   "metadata": {},
   "outputs": [],
   "source": [
    "尽可能使用for而不是while，尽量不要在for循环中使用range，除非需要通过索引修改列表的值等操作"
   ]
  },
  {
   "cell_type": "code",
   "execution_count": 36,
   "metadata": {},
   "outputs": [
    {
     "name": "stdout",
     "output_type": "stream",
     "text": "0 2 4 6 8"
    }
   ],
   "source": [
    "# 通过range进行非穷尽遍历\n",
    "# 下面例子可以通过索引只获取列表中的偶数位的值, 使用这种方式不会复制字符串，当大字符串时会节省内存\n",
    "for x in range(0, 10, 2):\n",
    "    # for value in list[::2] # 同样效果，但是列表分片会复制一个新的列表，占用内存\n",
    "    print(x, end=\" \")"
   ]
  },
  {
   "cell_type": "markdown",
   "execution_count": null,
   "metadata": {},
   "outputs": [],
   "source": [
    "## 并行遍历 ZIP"
   ]
  },
  {
   "cell_type": "code",
   "execution_count": 42,
   "metadata": {},
   "outputs": [
    {
     "data": {
      "text/plain": "[(1, 5, 9), (2, 6, 10), (3, 7, 11), (4, 8, 12)]"
     },
     "execution_count": 42,
     "metadata": {},
     "output_type": "execute_result"
    }
   ],
   "source": [
    "L1 = [1, 2, 3, 4]\n",
    "L2 = [5, 6, 7, 8]\n",
    "L3 = [9, 10, 11, 12, 14]\n",
    "list(zip(L1, L2, L3)) # 支持多个参数, 以最短的长度为标准"
   ]
  },
  {
   "cell_type": "code",
   "execution_count": 39,
   "metadata": {},
   "outputs": [
    {
     "name": "stdout",
     "output_type": "stream",
     "text": "(1, 5) (2, 6) (3, 7) (4, 8)"
    }
   ],
   "source": [
    "for x in zip(L1, L2):\n",
    "    print(x, end=\" \")"
   ]
  },
  {
   "cell_type": "markdown",
   "execution_count": null,
   "metadata": {},
   "outputs": [],
   "source": [
    "## 同时给出偏移量和元素， enumerate"
   ]
  },
  {
   "cell_type": "code",
   "execution_count": 44,
   "metadata": {},
   "outputs": [
    {
     "name": "stdout",
     "output_type": "stream",
     "text": "(0, 's') (1, 'p') (2, 'a') (3, 'm')"
    }
   ],
   "source": [
    "s = \"spam\"\n",
    "for i, item in enumerate(s):\n",
    "    print((i, item), end=\" \")"
   ]
  },
  {
   "cell_type": "markdown",
   "execution_count": null,
   "metadata": {},
   "outputs": [],
   "source": [
    "## 其他"
   ]
  },
  {
   "cell_type": "code",
   "execution_count": 45,
   "metadata": {},
   "outputs": [],
   "source": [
    "import os"
   ]
  },
  {
   "cell_type": "code",
   "execution_count": 47,
   "metadata": {},
   "outputs": [
    {
     "name": "stdout",
     "output_type": "stream",
     "text": "驱动器 E 中的卷没有标签。\n\n 卷的序列号是 0A9A-D661\n\n\n\n e:\\Python\\Python_Basic 的目录\n\n\n\n2019/11/13  22:26    <DIR>          .\n\n2019/11/13  22:26    <DIR>          ..\n\n2019/11/10  22:47             1,353 .gitignore\n\n2019/11/03  21:46    <DIR>          .vscode\n\n2019/11/13  22:41                66 data.txt\n\n2019/11/03  21:46    <DIR>          images\n\n2019/11/10  22:34    <DIR>          ObjectType\n\n2019/08/11  09:54                42 README.md\n\n2019/11/16  17:15    <DIR>          语句和语法\n\n               3 个文件          1,461 字节\n\n               6 个目录 141,393,047,552 可用字节\n\n"
    }
   ],
   "source": [
    "# 使用 os.popen 类似读取文件，这里执行系统命令，并获取命令执行的输出值\n",
    "for line in os.popen('dir').readlines():\n",
    "    print(line)"
   ]
  },
  {
   "cell_type": "code",
   "execution_count": 48,
   "metadata": {},
   "outputs": [
    {
     "data": {
      "text/plain": "0"
     },
     "execution_count": 48,
     "metadata": {},
     "output_type": "execute_result"
    }
   ],
   "source": [
    "os.system('systeminfo') # 执行命令但不获取执行信息"
   ]
  },
  {
   "cell_type": "code",
   "execution_count": 49,
   "metadata": {},
   "outputs": [
    {
     "name": "stdout",
     "output_type": "stream",
     "text": "\n\n主机名:           AI-SPROG\n\nOS 名称:          Microsoft Windows 10 家庭中文版\n\nOS 版本:          10.0.18362 暂缺 Build 18362\n\nOS 制造商:        Microsoft Corporation\n\nOS 配置:          独立工作站\n\nOS 构件类型:      Multiprocessor Free\n\n注册的所有人:     SongZQ\n\n注册的组织:       暂缺\n\n产品 ID:          00342-30262-00002-AAOEM\n\n初始安装日期:     2019/8/9, 16:08:35\n\n系统启动时间:     2019/11/16, 16:55:20\n\n系统制造商:       TIMI\n\n系统型号:         TM1801\n\n系统类型:         x64-based PC\n\n处理器:           安装了 1 个处理器。\n\n                  [01]: Intel64 Family 6 Model 158 Stepping 10 GenuineIntel ~2304 Mhz\n\nBIOS 版本:        TIMI XMGCF500P0402, 2018/8/3\n\nWindows 目录:     C:\\WINDOWS\n\n系统目录:         C:\\WINDOWS\\system32\n\n启动设备:         \\Device\\HarddiskVolume6\n\n系统区域设置:     zh-cn;中文(中国)\n\n输入法区域设置:   zh-cn;中文(中国)\n\n时区:             (UTC+08:00) 北京，重庆，香港特别行政区，乌鲁木齐\n\n物理内存总量:     16,253 MB\n\n可用的物理内存:   10,661 MB\n\n虚拟内存: 最大值: 18,685 MB\n\n虚拟内存: 可用:   10,741 MB\n\n虚拟内存: 使用中: 7,944 MB\n\n页面文件位置:     C:\\pagefile.sys\n\n域:               WORKGROUP\n\n登录服务器:       \\\\AI-SPROG\n\n修补程序:         安装了 8 个修补程序。\n\n                  [01]: KB4519573\n\n                  [02]: KB4503308\n\n                  [03]: KB4508433\n\n                  [04]: KB4515383\n\n                  [05]: KB4516115\n\n                  [06]: KB4521863\n\n                  [07]: KB4524569\n\n                  [08]: KB4524570\n\n网卡:             安装了 3 个 NIC。\n\n                  [01]: Intel(R) Wireless-AC 9560\n\n                      连接名:      WLAN\n\n                      启用 DHCP:   是\n\n                      DHCP 服务器: 192.168.0.1\n\n                      IP 地址\n\n                        [01]: 192.168.0.107\n\n                        [02]: fe80::44ab:4b97:54a9:cda3\n\n                  [02]: Realtek Gaming GbE Family Controller\n\n                      连接名:      以太网\n\n                      状态:        媒体连接已中断\n\n                  [03]: Bluetooth Device (Personal Area Network)\n\n                      连接名:      蓝牙网络连接\n\n                      状态:        媒体连接已中断\n\nHyper-V 要求:     虚拟机监视器模式扩展: 是\n\n                  固件中已启用虚拟化: 是\n\n                  二级地址转换: 是\n\n                  数据执行保护可用: 是\n\n"
    }
   ],
   "source": [
    "for line in os.popen('systeminfo').readlines():\n",
    "    print(line)"
   ]
  },
  {
   "cell_type": "code",
   "execution_count": null,
   "metadata": {},
   "outputs": [],
   "source": []
  }
 ]
}