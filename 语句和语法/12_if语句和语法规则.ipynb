{
 "nbformat": 4,
 "nbformat_minor": 2,
 "metadata": {
  "language_info": {
   "name": "python",
   "codemirror_mode": {
    "name": "ipython",
    "version": 3
   }
  },
  "orig_nbformat": 2,
  "file_extension": ".py",
  "mimetype": "text/x-python",
  "name": "python",
  "npconvert_exporter": "python",
  "pygments_lexer": "ipython3",
  "version": 3
 },
 "cells": [
  {
   "cell_type": "markdown",
   "execution_count": null,
   "metadata": {},
   "outputs": [],
   "source": [
    "Python中的if与其他语言的if判断类似，只是语法有稍微区别:\n",
    "\n",
    "```python \n",
    "if x:\n",
    "    y\n",
    "elif x1:\n",
    "    y2\n",
    "else:\n",
    "    y3\n",
    "```"
   ]
  },
  {
   "cell_type": "markdown",
   "execution_count": null,
   "metadata": {},
   "outputs": [],
   "source": [
    "## 语法规则"
   ]
  },
  {
   "cell_type": "markdown",
   "execution_count": null,
   "metadata": {},
   "outputs": [],
   "source": [
    "- 语句逐个运行,除非你编写了其他内容，如if控制语句，会根据选择执行\n",
    "- 块和语句的边界会自动被解释器识别\n",
    "- 复合语句 = 首行 + \":\" + 多个缩进语句\n",
    "- 空白行、空格以及注释通常会被忽略\n",
    "- 文档字符串会被被会忽略，但是会被保存并由工具显示"
   ]
  },
  {
   "cell_type": "markdown",
   "execution_count": 1,
   "metadata": {},
   "outputs": [
    {
     "ename": "SyntaxError",
     "evalue": "invalid syntax (<ipython-input-1-f119dc8c252e>, line 1)",
     "output_type": "error",
     "traceback": [
      "\u001b[1;36m  File \u001b[1;32m\"<ipython-input-1-f119dc8c252e>\"\u001b[1;36m, line \u001b[1;32m1\u001b[0m\n\u001b[1;33m    **缩进规则**: python的块不在乎缩进的格数，值要缩进相同就是一个块\u001b[0m\n\u001b[1;37m     ^\u001b[0m\n\u001b[1;31mSyntaxError\u001b[0m\u001b[1;31m:\u001b[0m invalid syntax\n"
     ]
    }
   ],
   "source": [
    "**缩进规则**: python的块不在乎缩进的格数，值要缩进相同就是一个块"
   ]
  },
  {
   "cell_type": "markdown",
   "execution_count": null,
   "metadata": {},
   "outputs": [],
   "source": [
    "**跨行语句**：\n",
    "- 使用语法括号对，语句就可以跨行， () {} []\n",
    "- 如果语句以反斜杠结尾，就可以跨竖行\n",
    "- 三个引号的字符串"
   ]
  },
  {
   "cell_type": "markdown",
   "execution_count": null,
   "metadata": {},
   "outputs": [],
   "source": [
    "## 真值和布尔测试"
   ]
  },
  {
   "cell_type": "markdown",
   "execution_count": null,
   "metadata": {},
   "outputs": [],
   "source": [
    "- 比较和相等运算会返回 True和False\n",
    "- 布尔 and 和 or 运算在python中会返回真或假对象，而不是值 True 和 False"
   ]
  },
  {
   "cell_type": "code",
   "execution_count": 2,
   "metadata": {},
   "outputs": [
    {
     "data": {
      "text/plain": "(True, False)"
     },
     "execution_count": 2,
     "metadata": {},
     "output_type": "execute_result"
    }
   ],
   "source": [
    "2 < 3, 2 == 3 # 比较和相等运算会返回 True和False"
   ]
  },
  {
   "cell_type": "code",
   "execution_count": 3,
   "metadata": {},
   "outputs": [
    {
     "data": {
      "text/plain": "(2, 3)"
     },
     "execution_count": 3,
     "metadata": {},
     "output_type": "execute_result"
    }
   ],
   "source": [
    "2 or 3, 3 or 2 # and 和 or 返回的左侧或右侧的对象，因为在python中每个对象都有真值，非零对象都是真，短路运算所以返回的是左侧值"
   ]
  },
  {
   "cell_type": "markdown",
   "execution_count": null,
   "metadata": {},
   "outputs": [],
   "source": [
    "## if/else 三元表达式"
   ]
  },
  {
   "cell_type": "code",
   "execution_count": 4,
   "metadata": {},
   "outputs": [
    {
     "data": {
      "text/plain": "2"
     },
     "execution_count": 4,
     "metadata": {},
     "output_type": "execute_result"
    }
   ],
   "source": [
    "2 if 3 > 2 else 3 # 取小"
   ]
  },
  {
   "cell_type": "code",
   "execution_count": 6,
   "metadata": {},
   "outputs": [
    {
     "name": "stdout",
     "output_type": "stream",
     "text": "2\n"
    }
   ],
   "source": [
    "## 等价形式\n",
    "if 3 > 2:\n",
    "    print(2)\n",
    "else:\n",
    "    print(3)"
   ]
  },
  {
   "cell_type": "code",
   "execution_count": 8,
   "metadata": {},
   "outputs": [
    {
     "data": {
      "text/plain": "2"
     },
     "execution_count": 8,
     "metadata": {},
     "output_type": "execute_result"
    }
   ],
   "source": [
    "(3 > 2 and 2) or 3  # 另外一种等价形式，因为and or 总是返回对象，\n",
    "# 当 3 > 2 为真时，因为 and 会继续判断右侧值2， and 结果为 2， 因为短路运算，or后面就不在判断了，返回or 左侧之"
   ]
  },
  {
   "cell_type": "code",
   "execution_count": 11,
   "metadata": {},
   "outputs": [
    {
     "data": {
      "text/plain": "2"
     },
     "execution_count": 11,
     "metadata": {},
     "output_type": "execute_result"
    }
   ],
   "source": [
    "[3, 2][bool(3>2)] # bool 为真等于1， 假等于0"
   ]
  },
  {
   "cell_type": "code",
   "execution_count": null,
   "metadata": {},
   "outputs": [],
   "source": []
  }
 ]
}